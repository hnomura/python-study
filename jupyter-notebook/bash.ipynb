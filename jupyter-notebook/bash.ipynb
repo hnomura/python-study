{
 "cells": [
  {
   "cell_type": "code",
   "execution_count": 3,
   "metadata": {},
   "outputs": [
    {
     "name": "stdout",
     "output_type": "stream",
     "text": [
      "/e/SelfStudy/python-study/jupyter-notebook\n"
     ]
    }
   ],
   "source": [
    "%%bash\n",
    "pwd"
   ]
  },
  {
   "cell_type": "code",
   "execution_count": 6,
   "metadata": {},
   "outputs": [
    {
     "name": "stdout",
     "output_type": "stream",
     "text": [
      "total 10\n",
      "drwxr-xr-x  3 hnomura Administrators 4096 May  7 10:21 .\n",
      "drwxr-xr-x 11 hnomura Administrators 4096 May  7 10:20 ..\n",
      "drwxr-xr-x  2 hnomura Administrators    0 May  7 10:21 .ipynb_checkpoints\n",
      "-rw-r--r--  1 hnomura Administrators 1330 May  7 10:21 bash.ipynb\n"
     ]
    }
   ],
   "source": [
    "%%bash\n",
    "ls -al"
   ]
  },
  {
   "cell_type": "code",
   "execution_count": 7,
   "metadata": {},
   "outputs": [
    {
     "name": "stdout",
     "output_type": "stream",
     "text": [
      " Volume in drive E is HD-LCU3\n",
      " Volume Serial Number is AA3F-4EB7\n",
      "\n",
      " Directory of E:\\SelfStudy\\python-study\\jupyter-notebook\n",
      "\n",
      "05/07/2018  10:22    <DIR>          .\n",
      "05/07/2018  10:22    <DIR>          ..\n",
      "05/07/2018  10:21    <DIR>          .ipynb_checkpoints\n",
      "05/07/2018  10:22             1,997 bash.ipynb\n",
      "               1 File(s)          1,997 bytes\n",
      "               3 Dir(s)  2,771,454,640,128 bytes free\n"
     ]
    }
   ],
   "source": [
    "!dir"
   ]
  },
  {
   "cell_type": "code",
   "execution_count": 9,
   "metadata": {},
   "outputs": [
    {
     "name": "stdout",
     "output_type": "stream",
     "text": [
      "/e/SelfStudy/python-study/jupyter-notebook\n"
     ]
    }
   ],
   "source": [
    "!pwd"
   ]
  },
  {
   "cell_type": "code",
   "execution_count": 27,
   "metadata": {},
   "outputs": [
    {
     "name": "stdout",
     "output_type": "stream",
     "text": [
      "/e/SelfStudy/python-study\n"
     ]
    }
   ],
   "source": [
    "%%bash \n",
    "# This executes series of bash commands in one sequence.  \n",
    "# Comment must be after bash as bash comment. \n",
    "cd ..\n",
    "pwd"
   ]
  },
  {
   "cell_type": "code",
   "execution_count": 20,
   "metadata": {},
   "outputs": [
    {
     "name": "stdout",
     "output_type": "stream",
     "text": [
      "/e/SelfStudy/python-study/jupyter-notebook\n"
     ]
    }
   ],
   "source": [
    "# This does not work !!!\n",
    "!cd ..\n",
    "!pwd"
   ]
  },
  {
   "cell_type": "code",
   "execution_count": 23,
   "metadata": {},
   "outputs": [
    {
     "name": "stdout",
     "output_type": "stream",
     "text": [
      "/e/SelfStudy/python-study\n"
     ]
    }
   ],
   "source": [
    "# Of course this works, but will not be much useful? \n",
    "! cd .. & pwd"
   ]
  }
 ],
 "metadata": {
  "kernelspec": {
   "display_name": "Python 3",
   "language": "python",
   "name": "python3"
  },
  "language_info": {
   "codemirror_mode": {
    "name": "ipython",
    "version": 3
   },
   "file_extension": ".py",
   "mimetype": "text/x-python",
   "name": "python",
   "nbconvert_exporter": "python",
   "pygments_lexer": "ipython3",
   "version": "3.6.4"
  },
  "varInspector": {
   "cols": {
    "lenName": 16,
    "lenType": 16,
    "lenVar": 40
   },
   "kernels_config": {
    "python": {
     "delete_cmd_postfix": "",
     "delete_cmd_prefix": "del ",
     "library": "var_list.py",
     "varRefreshCmd": "print(var_dic_list())"
    },
    "r": {
     "delete_cmd_postfix": ") ",
     "delete_cmd_prefix": "rm(",
     "library": "var_list.r",
     "varRefreshCmd": "cat(var_dic_list()) "
    }
   },
   "types_to_exclude": [
    "module",
    "function",
    "builtin_function_or_method",
    "instance",
    "_Feature"
   ],
   "window_display": false
  }
 },
 "nbformat": 4,
 "nbformat_minor": 2
}
