{
 "cells": [
  {
   "cell_type": "markdown",
   "metadata": {},
   "source": [
    "# 10 Minutes to pandas"
   ]
  },
  {
   "cell_type": "code",
   "execution_count": 68,
   "metadata": {
    "collapsed": true
   },
   "outputs": [],
   "source": [
    "import numpy as np \n",
    "import matplotlib.pyplot as plt \n",
    "\n",
    "import pandas as pd "
   ]
  },
  {
   "cell_type": "markdown",
   "metadata": {},
   "source": [
    "## Object Creation"
   ]
  },
  {
   "cell_type": "code",
   "execution_count": 69,
   "metadata": {},
   "outputs": [
    {
     "name": "stdout",
     "output_type": "stream",
     "text": [
      "0    1.0\n",
      "1    3.0\n",
      "2    5.0\n",
      "3    NaN\n",
      "4    6.0\n",
      "5    8.0\n",
      "dtype: float64\n"
     ]
    }
   ],
   "source": [
    "#== Series by passing list: Index is auto-created ==\n",
    "s = pd.Series([1,3,5,np.nan,6,8])\n",
    "print(s)"
   ]
  },
  {
   "cell_type": "code",
   "execution_count": 70,
   "metadata": {},
   "outputs": [
    {
     "name": "stdout",
     "output_type": "stream",
     "text": [
      "DatetimeIndex(['2018-01-01', '2018-01-02', '2018-01-03', '2018-01-04',\n",
      "               '2018-01-05', '2018-01-06'],\n",
      "              dtype='datetime64[ns]', freq='D') \n",
      "\n",
      "                   A         B         C         D\n",
      "2018-01-01 -0.555704  0.033537  0.547586  1.592913\n",
      "2018-01-02 -1.230058 -0.125547  0.124874 -0.644727\n",
      "2018-01-03  0.955791  0.778720  0.377020  0.986278\n",
      "2018-01-04 -0.860820  0.287548  2.773876 -2.570816\n",
      "2018-01-05 -0.090868  0.420237 -1.353417 -2.420090\n",
      "2018-01-06 -0.797660 -0.082788  2.509065 -1.084843\n"
     ]
    }
   ],
   "source": [
    "#== DataFrame by passing numpy array\n",
    "#   index column is specified (as dates). \n",
    "#   column name is also given\n",
    "dates = pd.date_range('20180101', periods=6)\n",
    "print(dates, '\\n')\n",
    "\n",
    "# random data 6(rows)x4(columns)\n",
    "data = np.random.randn(6,4)\n",
    "\n",
    "df = pd.DataFrame(data, index=dates, columns=['A','B','C','D'])\n",
    "print(df)"
   ]
  },
  {
   "cell_type": "code",
   "execution_count": 71,
   "metadata": {},
   "outputs": [
    {
     "name": "stdout",
     "output_type": "stream",
     "text": [
      "     A          B    C  D      E    F\n",
      "0  1.0 2018-01-01  1.0  3   test  foo\n",
      "1  1.0 2018-01-01  1.0  3  train  foo\n",
      "2  1.0 2018-01-01  1.0  3  train  foo\n",
      "3  1.0 2018-01-01  1.0  4   test  foo \n",
      "\n",
      "A           float64\n",
      "B    datetime64[ns]\n",
      "C           float32\n",
      "D             int32\n",
      "E          category\n",
      "F            object\n",
      "dtype: object\n"
     ]
    }
   ],
   "source": [
    "#== DataFame by passing dict \n",
    "df2 = pd.DataFrame({ \n",
    "    'A': 1., \n",
    "    'B': pd.Timestamp('20180101'),\n",
    "    'C': pd.Series(1, index=list(range(4)), dtype='float32'),\n",
    "    'D': np.array([3]*3+[4], dtype='int32'),\n",
    "    'E': pd.Categorical([\"test\",\"train\",\"train\",\"test\"]),\n",
    "    'F': 'foo'})\n",
    "print(df2,'\\n')\n",
    "print(df2.dtypes)"
   ]
  },
  {
   "cell_type": "code",
   "execution_count": 72,
   "metadata": {},
   "outputs": [
    {
     "data": {
      "text/html": [
       "<div>\n",
       "<style>\n",
       "    .dataframe thead tr:only-child th {\n",
       "        text-align: right;\n",
       "    }\n",
       "\n",
       "    .dataframe thead th {\n",
       "        text-align: left;\n",
       "    }\n",
       "\n",
       "    .dataframe tbody tr th {\n",
       "        vertical-align: top;\n",
       "    }\n",
       "</style>\n",
       "<table border=\"1\" class=\"dataframe\">\n",
       "  <thead>\n",
       "    <tr style=\"text-align: right;\">\n",
       "      <th></th>\n",
       "      <th>A</th>\n",
       "      <th>B</th>\n",
       "      <th>C</th>\n",
       "      <th>D</th>\n",
       "    </tr>\n",
       "  </thead>\n",
       "  <tbody>\n",
       "    <tr>\n",
       "      <th>2018-01-01</th>\n",
       "      <td>-0.555704</td>\n",
       "      <td>0.033537</td>\n",
       "      <td>0.547586</td>\n",
       "      <td>1.592913</td>\n",
       "    </tr>\n",
       "    <tr>\n",
       "      <th>2018-01-02</th>\n",
       "      <td>-1.230058</td>\n",
       "      <td>-0.125547</td>\n",
       "      <td>0.124874</td>\n",
       "      <td>-0.644727</td>\n",
       "    </tr>\n",
       "    <tr>\n",
       "      <th>2018-01-03</th>\n",
       "      <td>0.955791</td>\n",
       "      <td>0.778720</td>\n",
       "      <td>0.377020</td>\n",
       "      <td>0.986278</td>\n",
       "    </tr>\n",
       "  </tbody>\n",
       "</table>\n",
       "</div>"
      ],
      "text/plain": [
       "                   A         B         C         D\n",
       "2018-01-01 -0.555704  0.033537  0.547586  1.592913\n",
       "2018-01-02 -1.230058 -0.125547  0.124874 -0.644727\n",
       "2018-01-03  0.955791  0.778720  0.377020  0.986278"
      ]
     },
     "execution_count": 72,
     "metadata": {},
     "output_type": "execute_result"
    }
   ],
   "source": [
    "#== interactive browsing \n",
    "df.head(3) # only 3 data rows"
   ]
  },
  {
   "cell_type": "code",
   "execution_count": 73,
   "metadata": {},
   "outputs": [
    {
     "data": {
      "text/html": [
       "<div>\n",
       "<style>\n",
       "    .dataframe thead tr:only-child th {\n",
       "        text-align: right;\n",
       "    }\n",
       "\n",
       "    .dataframe thead th {\n",
       "        text-align: left;\n",
       "    }\n",
       "\n",
       "    .dataframe tbody tr th {\n",
       "        vertical-align: top;\n",
       "    }\n",
       "</style>\n",
       "<table border=\"1\" class=\"dataframe\">\n",
       "  <thead>\n",
       "    <tr style=\"text-align: right;\">\n",
       "      <th></th>\n",
       "      <th>A</th>\n",
       "      <th>B</th>\n",
       "      <th>C</th>\n",
       "      <th>D</th>\n",
       "    </tr>\n",
       "  </thead>\n",
       "  <tbody>\n",
       "    <tr>\n",
       "      <th>2018-01-04</th>\n",
       "      <td>-0.860820</td>\n",
       "      <td>0.287548</td>\n",
       "      <td>2.773876</td>\n",
       "      <td>-2.570816</td>\n",
       "    </tr>\n",
       "    <tr>\n",
       "      <th>2018-01-05</th>\n",
       "      <td>-0.090868</td>\n",
       "      <td>0.420237</td>\n",
       "      <td>-1.353417</td>\n",
       "      <td>-2.420090</td>\n",
       "    </tr>\n",
       "    <tr>\n",
       "      <th>2018-01-06</th>\n",
       "      <td>-0.797660</td>\n",
       "      <td>-0.082788</td>\n",
       "      <td>2.509065</td>\n",
       "      <td>-1.084843</td>\n",
       "    </tr>\n",
       "  </tbody>\n",
       "</table>\n",
       "</div>"
      ],
      "text/plain": [
       "                   A         B         C         D\n",
       "2018-01-04 -0.860820  0.287548  2.773876 -2.570816\n",
       "2018-01-05 -0.090868  0.420237 -1.353417 -2.420090\n",
       "2018-01-06 -0.797660 -0.082788  2.509065 -1.084843"
      ]
     },
     "execution_count": 73,
     "metadata": {},
     "output_type": "execute_result"
    }
   ],
   "source": [
    "df.tail(3)"
   ]
  },
  {
   "cell_type": "code",
   "execution_count": 74,
   "metadata": {
    "scrolled": true
   },
   "outputs": [
    {
     "name": "stdout",
     "output_type": "stream",
     "text": [
      "DatetimeIndex(['2018-01-01', '2018-01-02', '2018-01-03', '2018-01-04',\n",
      "               '2018-01-05', '2018-01-06'],\n",
      "              dtype='datetime64[ns]', freq='D') \n",
      "\n",
      "Index(['A', 'B', 'C', 'D'], dtype='object') \n",
      "\n",
      "[[-0.5557044   0.03353732  0.54758616  1.59291253]\n",
      " [-1.2300578  -0.12554719  0.12487448 -0.64472679]\n",
      " [ 0.95579115  0.77872029  0.3770196   0.98627773]\n",
      " [-0.86082003  0.28754822  2.77387626 -2.57081626]\n",
      " [-0.09086792  0.42023689 -1.3534175  -2.42008974]\n",
      " [-0.79766026 -0.08278798  2.50906455 -1.08484293]] \n",
      "\n",
      "(6, 4)\n"
     ]
    }
   ],
   "source": [
    "#== Access to internal of DataFrame \n",
    "\n",
    "print(df.index, '\\n')\n",
    "print(df.columns, '\\n')\n",
    "print(df.values,'\\n')  #as numpy array\n",
    "print(df.values.shape)"
   ]
  },
  {
   "cell_type": "code",
   "execution_count": 75,
   "metadata": {},
   "outputs": [
    {
     "data": {
      "text/html": [
       "<div>\n",
       "<style>\n",
       "    .dataframe thead tr:only-child th {\n",
       "        text-align: right;\n",
       "    }\n",
       "\n",
       "    .dataframe thead th {\n",
       "        text-align: left;\n",
       "    }\n",
       "\n",
       "    .dataframe tbody tr th {\n",
       "        vertical-align: top;\n",
       "    }\n",
       "</style>\n",
       "<table border=\"1\" class=\"dataframe\">\n",
       "  <thead>\n",
       "    <tr style=\"text-align: right;\">\n",
       "      <th></th>\n",
       "      <th>A</th>\n",
       "      <th>B</th>\n",
       "      <th>C</th>\n",
       "      <th>D</th>\n",
       "    </tr>\n",
       "  </thead>\n",
       "  <tbody>\n",
       "    <tr>\n",
       "      <th>count</th>\n",
       "      <td>6.000000</td>\n",
       "      <td>6.000000</td>\n",
       "      <td>6.000000</td>\n",
       "      <td>6.000000</td>\n",
       "    </tr>\n",
       "    <tr>\n",
       "      <th>mean</th>\n",
       "      <td>-0.429887</td>\n",
       "      <td>0.218618</td>\n",
       "      <td>0.829834</td>\n",
       "      <td>-0.690214</td>\n",
       "    </tr>\n",
       "    <tr>\n",
       "      <th>std</th>\n",
       "      <td>0.776157</td>\n",
       "      <td>0.347179</td>\n",
       "      <td>1.558677</td>\n",
       "      <td>1.715239</td>\n",
       "    </tr>\n",
       "    <tr>\n",
       "      <th>min</th>\n",
       "      <td>-1.230058</td>\n",
       "      <td>-0.125547</td>\n",
       "      <td>-1.353417</td>\n",
       "      <td>-2.570816</td>\n",
       "    </tr>\n",
       "    <tr>\n",
       "      <th>25%</th>\n",
       "      <td>-0.845030</td>\n",
       "      <td>-0.053707</td>\n",
       "      <td>0.187911</td>\n",
       "      <td>-2.086278</td>\n",
       "    </tr>\n",
       "    <tr>\n",
       "      <th>50%</th>\n",
       "      <td>-0.676682</td>\n",
       "      <td>0.160543</td>\n",
       "      <td>0.462303</td>\n",
       "      <td>-0.864785</td>\n",
       "    </tr>\n",
       "    <tr>\n",
       "      <th>75%</th>\n",
       "      <td>-0.207077</td>\n",
       "      <td>0.387065</td>\n",
       "      <td>2.018695</td>\n",
       "      <td>0.578527</td>\n",
       "    </tr>\n",
       "    <tr>\n",
       "      <th>max</th>\n",
       "      <td>0.955791</td>\n",
       "      <td>0.778720</td>\n",
       "      <td>2.773876</td>\n",
       "      <td>1.592913</td>\n",
       "    </tr>\n",
       "  </tbody>\n",
       "</table>\n",
       "</div>"
      ],
      "text/plain": [
       "              A         B         C         D\n",
       "count  6.000000  6.000000  6.000000  6.000000\n",
       "mean  -0.429887  0.218618  0.829834 -0.690214\n",
       "std    0.776157  0.347179  1.558677  1.715239\n",
       "min   -1.230058 -0.125547 -1.353417 -2.570816\n",
       "25%   -0.845030 -0.053707  0.187911 -2.086278\n",
       "50%   -0.676682  0.160543  0.462303 -0.864785\n",
       "75%   -0.207077  0.387065  2.018695  0.578527\n",
       "max    0.955791  0.778720  2.773876  1.592913"
      ]
     },
     "execution_count": 75,
     "metadata": {},
     "output_type": "execute_result"
    }
   ],
   "source": [
    "#== Describe : Show quick status summary (interactive tool)\n",
    "df.describe()"
   ]
  },
  {
   "cell_type": "code",
   "execution_count": 76,
   "metadata": {},
   "outputs": [
    {
     "data": {
      "text/html": [
       "<div>\n",
       "<style>\n",
       "    .dataframe thead tr:only-child th {\n",
       "        text-align: right;\n",
       "    }\n",
       "\n",
       "    .dataframe thead th {\n",
       "        text-align: left;\n",
       "    }\n",
       "\n",
       "    .dataframe tbody tr th {\n",
       "        vertical-align: top;\n",
       "    }\n",
       "</style>\n",
       "<table border=\"1\" class=\"dataframe\">\n",
       "  <thead>\n",
       "    <tr style=\"text-align: right;\">\n",
       "      <th></th>\n",
       "      <th>2018-01-01 00:00:00</th>\n",
       "      <th>2018-01-02 00:00:00</th>\n",
       "      <th>2018-01-03 00:00:00</th>\n",
       "      <th>2018-01-04 00:00:00</th>\n",
       "      <th>2018-01-05 00:00:00</th>\n",
       "      <th>2018-01-06 00:00:00</th>\n",
       "    </tr>\n",
       "  </thead>\n",
       "  <tbody>\n",
       "    <tr>\n",
       "      <th>A</th>\n",
       "      <td>-0.555704</td>\n",
       "      <td>-1.230058</td>\n",
       "      <td>0.955791</td>\n",
       "      <td>-0.860820</td>\n",
       "      <td>-0.090868</td>\n",
       "      <td>-0.797660</td>\n",
       "    </tr>\n",
       "    <tr>\n",
       "      <th>B</th>\n",
       "      <td>0.033537</td>\n",
       "      <td>-0.125547</td>\n",
       "      <td>0.778720</td>\n",
       "      <td>0.287548</td>\n",
       "      <td>0.420237</td>\n",
       "      <td>-0.082788</td>\n",
       "    </tr>\n",
       "    <tr>\n",
       "      <th>C</th>\n",
       "      <td>0.547586</td>\n",
       "      <td>0.124874</td>\n",
       "      <td>0.377020</td>\n",
       "      <td>2.773876</td>\n",
       "      <td>-1.353417</td>\n",
       "      <td>2.509065</td>\n",
       "    </tr>\n",
       "    <tr>\n",
       "      <th>D</th>\n",
       "      <td>1.592913</td>\n",
       "      <td>-0.644727</td>\n",
       "      <td>0.986278</td>\n",
       "      <td>-2.570816</td>\n",
       "      <td>-2.420090</td>\n",
       "      <td>-1.084843</td>\n",
       "    </tr>\n",
       "  </tbody>\n",
       "</table>\n",
       "</div>"
      ],
      "text/plain": [
       "   2018-01-01  2018-01-02  2018-01-03  2018-01-04  2018-01-05  2018-01-06\n",
       "A   -0.555704   -1.230058    0.955791   -0.860820   -0.090868   -0.797660\n",
       "B    0.033537   -0.125547    0.778720    0.287548    0.420237   -0.082788\n",
       "C    0.547586    0.124874    0.377020    2.773876   -1.353417    2.509065\n",
       "D    1.592913   -0.644727    0.986278   -2.570816   -2.420090   -1.084843"
      ]
     },
     "execution_count": 76,
     "metadata": {},
     "output_type": "execute_result"
    }
   ],
   "source": [
    "#== Transpose (like numpy)\n",
    "df.T"
   ]
  },
  {
   "cell_type": "code",
   "execution_count": 77,
   "metadata": {},
   "outputs": [
    {
     "data": {
      "text/html": [
       "<div>\n",
       "<style>\n",
       "    .dataframe thead tr:only-child th {\n",
       "        text-align: right;\n",
       "    }\n",
       "\n",
       "    .dataframe thead th {\n",
       "        text-align: left;\n",
       "    }\n",
       "\n",
       "    .dataframe tbody tr th {\n",
       "        vertical-align: top;\n",
       "    }\n",
       "</style>\n",
       "<table border=\"1\" class=\"dataframe\">\n",
       "  <thead>\n",
       "    <tr style=\"text-align: right;\">\n",
       "      <th></th>\n",
       "      <th>D</th>\n",
       "      <th>C</th>\n",
       "      <th>B</th>\n",
       "      <th>A</th>\n",
       "    </tr>\n",
       "  </thead>\n",
       "  <tbody>\n",
       "    <tr>\n",
       "      <th>2018-01-01</th>\n",
       "      <td>1.592913</td>\n",
       "      <td>0.547586</td>\n",
       "      <td>0.033537</td>\n",
       "      <td>-0.555704</td>\n",
       "    </tr>\n",
       "    <tr>\n",
       "      <th>2018-01-02</th>\n",
       "      <td>-0.644727</td>\n",
       "      <td>0.124874</td>\n",
       "      <td>-0.125547</td>\n",
       "      <td>-1.230058</td>\n",
       "    </tr>\n",
       "    <tr>\n",
       "      <th>2018-01-03</th>\n",
       "      <td>0.986278</td>\n",
       "      <td>0.377020</td>\n",
       "      <td>0.778720</td>\n",
       "      <td>0.955791</td>\n",
       "    </tr>\n",
       "    <tr>\n",
       "      <th>2018-01-04</th>\n",
       "      <td>-2.570816</td>\n",
       "      <td>2.773876</td>\n",
       "      <td>0.287548</td>\n",
       "      <td>-0.860820</td>\n",
       "    </tr>\n",
       "    <tr>\n",
       "      <th>2018-01-05</th>\n",
       "      <td>-2.420090</td>\n",
       "      <td>-1.353417</td>\n",
       "      <td>0.420237</td>\n",
       "      <td>-0.090868</td>\n",
       "    </tr>\n",
       "    <tr>\n",
       "      <th>2018-01-06</th>\n",
       "      <td>-1.084843</td>\n",
       "      <td>2.509065</td>\n",
       "      <td>-0.082788</td>\n",
       "      <td>-0.797660</td>\n",
       "    </tr>\n",
       "  </tbody>\n",
       "</table>\n",
       "</div>"
      ],
      "text/plain": [
       "                   D         C         B         A\n",
       "2018-01-01  1.592913  0.547586  0.033537 -0.555704\n",
       "2018-01-02 -0.644727  0.124874 -0.125547 -1.230058\n",
       "2018-01-03  0.986278  0.377020  0.778720  0.955791\n",
       "2018-01-04 -2.570816  2.773876  0.287548 -0.860820\n",
       "2018-01-05 -2.420090 -1.353417  0.420237 -0.090868\n",
       "2018-01-06 -1.084843  2.509065 -0.082788 -0.797660"
      ]
     },
     "execution_count": 77,
     "metadata": {},
     "output_type": "execute_result"
    }
   ],
   "source": [
    "#== Sorting axis by labels (axis=0:row, axis=1:column)\n",
    "df.sort_index(axis=1,ascending=False)"
   ]
  },
  {
   "cell_type": "code",
   "execution_count": 78,
   "metadata": {},
   "outputs": [
    {
     "data": {
      "text/html": [
       "<div>\n",
       "<style>\n",
       "    .dataframe thead tr:only-child th {\n",
       "        text-align: right;\n",
       "    }\n",
       "\n",
       "    .dataframe thead th {\n",
       "        text-align: left;\n",
       "    }\n",
       "\n",
       "    .dataframe tbody tr th {\n",
       "        vertical-align: top;\n",
       "    }\n",
       "</style>\n",
       "<table border=\"1\" class=\"dataframe\">\n",
       "  <thead>\n",
       "    <tr style=\"text-align: right;\">\n",
       "      <th></th>\n",
       "      <th>A</th>\n",
       "      <th>B</th>\n",
       "      <th>C</th>\n",
       "      <th>D</th>\n",
       "    </tr>\n",
       "  </thead>\n",
       "  <tbody>\n",
       "    <tr>\n",
       "      <th>2018-01-02</th>\n",
       "      <td>-1.230058</td>\n",
       "      <td>-0.125547</td>\n",
       "      <td>0.124874</td>\n",
       "      <td>-0.644727</td>\n",
       "    </tr>\n",
       "    <tr>\n",
       "      <th>2018-01-06</th>\n",
       "      <td>-0.797660</td>\n",
       "      <td>-0.082788</td>\n",
       "      <td>2.509065</td>\n",
       "      <td>-1.084843</td>\n",
       "    </tr>\n",
       "    <tr>\n",
       "      <th>2018-01-01</th>\n",
       "      <td>-0.555704</td>\n",
       "      <td>0.033537</td>\n",
       "      <td>0.547586</td>\n",
       "      <td>1.592913</td>\n",
       "    </tr>\n",
       "    <tr>\n",
       "      <th>2018-01-04</th>\n",
       "      <td>-0.860820</td>\n",
       "      <td>0.287548</td>\n",
       "      <td>2.773876</td>\n",
       "      <td>-2.570816</td>\n",
       "    </tr>\n",
       "    <tr>\n",
       "      <th>2018-01-05</th>\n",
       "      <td>-0.090868</td>\n",
       "      <td>0.420237</td>\n",
       "      <td>-1.353417</td>\n",
       "      <td>-2.420090</td>\n",
       "    </tr>\n",
       "    <tr>\n",
       "      <th>2018-01-03</th>\n",
       "      <td>0.955791</td>\n",
       "      <td>0.778720</td>\n",
       "      <td>0.377020</td>\n",
       "      <td>0.986278</td>\n",
       "    </tr>\n",
       "  </tbody>\n",
       "</table>\n",
       "</div>"
      ],
      "text/plain": [
       "                   A         B         C         D\n",
       "2018-01-02 -1.230058 -0.125547  0.124874 -0.644727\n",
       "2018-01-06 -0.797660 -0.082788  2.509065 -1.084843\n",
       "2018-01-01 -0.555704  0.033537  0.547586  1.592913\n",
       "2018-01-04 -0.860820  0.287548  2.773876 -2.570816\n",
       "2018-01-05 -0.090868  0.420237 -1.353417 -2.420090\n",
       "2018-01-03  0.955791  0.778720  0.377020  0.986278"
      ]
     },
     "execution_count": 78,
     "metadata": {},
     "output_type": "execute_result"
    }
   ],
   "source": [
    "#== Sorting by values of a column \n",
    "df.sort_values(by='B', ascending=True)"
   ]
  },
  {
   "cell_type": "markdown",
   "metadata": {},
   "source": [
    "## Selection"
   ]
  },
  {
   "cell_type": "code",
   "execution_count": 81,
   "metadata": {},
   "outputs": [
    {
     "data": {
      "text/plain": [
       "2018-01-01   -0.555704\n",
       "2018-01-02   -1.230058\n",
       "2018-01-03    0.955791\n",
       "2018-01-04   -0.860820\n",
       "2018-01-05   -0.090868\n",
       "2018-01-06   -0.797660\n",
       "Freq: D, Name: A, dtype: float64"
      ]
     },
     "execution_count": 81,
     "metadata": {},
     "output_type": "execute_result"
    }
   ],
   "source": [
    "#== Select by column (like map, or structure)\n",
    "df['A']"
   ]
  },
  {
   "cell_type": "code",
   "execution_count": 93,
   "metadata": {},
   "outputs": [
    {
     "name": "stdout",
     "output_type": "stream",
     "text": [
      "                   A         B         C         D\n",
      "2018-01-01 -0.555704  0.033537  0.547586  1.592913\n",
      "2018-01-02 -1.230058 -0.125547  0.124874 -0.644727\n",
      "2018-01-03  0.955791  0.778720  0.377020  0.986278 \n",
      "\n",
      "                   A         B         C         D\n",
      "2018-01-02 -1.230058 -0.125547  0.124874 -0.644727\n",
      "2018-01-03  0.955791  0.778720  0.377020  0.986278 \n",
      "\n",
      "Numpy slice x[0:3]= [0 1 2]\n"
     ]
    }
   ],
   "source": [
    "#== Slicing rows, either by row index or data index\n",
    "#   Note: Slicing by data index is **inclusive** range specification. \n",
    "#         Slicing by row index is same as numpy slice (last element is exclusive)\n",
    "print(df[0:3],'\\n')\n",
    "print(df['20180102':'20180103'], '\\n')\n",
    "\n",
    "x=np.array([0,1,2,3,4])\n",
    "print('Numpy slice x[0:3]=', x[0:3])"
   ]
  },
  {
   "cell_type": "code",
   "execution_count": 96,
   "metadata": {},
   "outputs": [
    {
     "data": {
      "text/plain": [
       "A   -0.555704\n",
       "B    0.033537\n",
       "C    0.547586\n",
       "D    1.592913\n",
       "Name: 2018-01-01 00:00:00, dtype: float64"
      ]
     },
     "execution_count": 96,
     "metadata": {},
     "output_type": "execute_result"
    }
   ],
   "source": [
    "#=== By Label: row selection by 'data index'\n",
    "df.loc[dates[0]]"
   ]
  },
  {
   "cell_type": "code",
   "execution_count": 98,
   "metadata": {},
   "outputs": [
    {
     "data": {
      "text/html": [
       "<div>\n",
       "<style>\n",
       "    .dataframe thead tr:only-child th {\n",
       "        text-align: right;\n",
       "    }\n",
       "\n",
       "    .dataframe thead th {\n",
       "        text-align: left;\n",
       "    }\n",
       "\n",
       "    .dataframe tbody tr th {\n",
       "        vertical-align: top;\n",
       "    }\n",
       "</style>\n",
       "<table border=\"1\" class=\"dataframe\">\n",
       "  <thead>\n",
       "    <tr style=\"text-align: right;\">\n",
       "      <th></th>\n",
       "      <th>A</th>\n",
       "      <th>B</th>\n",
       "    </tr>\n",
       "  </thead>\n",
       "  <tbody>\n",
       "    <tr>\n",
       "      <th>2018-01-01</th>\n",
       "      <td>-0.555704</td>\n",
       "      <td>0.033537</td>\n",
       "    </tr>\n",
       "    <tr>\n",
       "      <th>2018-01-02</th>\n",
       "      <td>-1.230058</td>\n",
       "      <td>-0.125547</td>\n",
       "    </tr>\n",
       "    <tr>\n",
       "      <th>2018-01-03</th>\n",
       "      <td>0.955791</td>\n",
       "      <td>0.778720</td>\n",
       "    </tr>\n",
       "    <tr>\n",
       "      <th>2018-01-04</th>\n",
       "      <td>-0.860820</td>\n",
       "      <td>0.287548</td>\n",
       "    </tr>\n",
       "    <tr>\n",
       "      <th>2018-01-05</th>\n",
       "      <td>-0.090868</td>\n",
       "      <td>0.420237</td>\n",
       "    </tr>\n",
       "    <tr>\n",
       "      <th>2018-01-06</th>\n",
       "      <td>-0.797660</td>\n",
       "      <td>-0.082788</td>\n",
       "    </tr>\n",
       "  </tbody>\n",
       "</table>\n",
       "</div>"
      ],
      "text/plain": [
       "                   A         B\n",
       "2018-01-01 -0.555704  0.033537\n",
       "2018-01-02 -1.230058 -0.125547\n",
       "2018-01-03  0.955791  0.778720\n",
       "2018-01-04 -0.860820  0.287548\n",
       "2018-01-05 -0.090868  0.420237\n",
       "2018-01-06 -0.797660 -0.082788"
      ]
     },
     "execution_count": 98,
     "metadata": {},
     "output_type": "execute_result"
    }
   ],
   "source": [
    "#=== By Label: Selecting multi-axis by column labels \n",
    "df.loc[:,['A','B']]"
   ]
  },
  {
   "cell_type": "code",
   "execution_count": 101,
   "metadata": {},
   "outputs": [
    {
     "data": {
      "text/html": [
       "<div>\n",
       "<style>\n",
       "    .dataframe thead tr:only-child th {\n",
       "        text-align: right;\n",
       "    }\n",
       "\n",
       "    .dataframe thead th {\n",
       "        text-align: left;\n",
       "    }\n",
       "\n",
       "    .dataframe tbody tr th {\n",
       "        vertical-align: top;\n",
       "    }\n",
       "</style>\n",
       "<table border=\"1\" class=\"dataframe\">\n",
       "  <thead>\n",
       "    <tr style=\"text-align: right;\">\n",
       "      <th></th>\n",
       "      <th>A</th>\n",
       "      <th>B</th>\n",
       "    </tr>\n",
       "  </thead>\n",
       "  <tbody>\n",
       "    <tr>\n",
       "      <th>2018-01-01</th>\n",
       "      <td>-0.555704</td>\n",
       "      <td>0.033537</td>\n",
       "    </tr>\n",
       "    <tr>\n",
       "      <th>2018-01-02</th>\n",
       "      <td>-1.230058</td>\n",
       "      <td>-0.125547</td>\n",
       "    </tr>\n",
       "    <tr>\n",
       "      <th>2018-01-03</th>\n",
       "      <td>0.955791</td>\n",
       "      <td>0.778720</td>\n",
       "    </tr>\n",
       "  </tbody>\n",
       "</table>\n",
       "</div>"
      ],
      "text/plain": [
       "                   A         B\n",
       "2018-01-01 -0.555704  0.033537\n",
       "2018-01-02 -1.230058 -0.125547\n",
       "2018-01-03  0.955791  0.778720"
      ]
     },
     "execution_count": 101,
     "metadata": {},
     "output_type": "execute_result"
    }
   ],
   "source": [
    "#== By Label: row range by data index, column range by column names \n",
    "df.loc['20180101':'20180103', ['A','B']]"
   ]
  },
  {
   "cell_type": "code",
   "execution_count": 103,
   "metadata": {},
   "outputs": [
    {
     "data": {
      "text/plain": [
       "A    0.955791\n",
       "B    0.778720\n",
       "Name: 2018-01-03 00:00:00, dtype: float64"
      ]
     },
     "execution_count": 103,
     "metadata": {},
     "output_type": "execute_result"
    }
   ],
   "source": [
    "#== By label: only one row -> dimension reduction \n",
    "df.loc['20180103', ['A','B']]"
   ]
  },
  {
   "cell_type": "code",
   "execution_count": 105,
   "metadata": {},
   "outputs": [
    {
     "data": {
      "text/plain": [
       "0.95579114900553885"
      ]
     },
     "execution_count": 105,
     "metadata": {},
     "output_type": "execute_result"
    }
   ],
   "source": [
    "#== By Label: A parcular cell (scalar value)\n",
    "df.loc['20180103','A']"
   ]
  },
  {
   "cell_type": "code",
   "execution_count": 108,
   "metadata": {},
   "outputs": [
    {
     "data": {
      "text/plain": [
       "0.95579114900553885"
      ]
     },
     "execution_count": 108,
     "metadata": {},
     "output_type": "execute_result"
    }
   ],
   "source": [
    "#== By Label: Same as above, but faster \n",
    "df.at[dates[2],'A']"
   ]
  },
  {
   "cell_type": "code",
   "execution_count": 112,
   "metadata": {},
   "outputs": [
    {
     "name": "stdout",
     "output_type": "stream",
     "text": [
      "A   -0.860820\n",
      "B    0.287548\n",
      "C    2.773876\n",
      "D   -2.570816\n",
      "Name: 2018-01-04 00:00:00, dtype: float64 \n",
      "\n",
      "                   A         B\n",
      "2018-01-04 -0.860820  0.287548\n",
      "2018-01-05 -0.090868  0.420237 \n",
      "\n",
      "                   A         C\n",
      "2018-01-02 -1.230058  0.124874\n",
      "2018-01-03  0.955791  0.377020\n",
      "2018-01-05 -0.090868 -1.353417 \n",
      "\n",
      "                   A         B         C         D\n",
      "2018-01-02 -1.230058 -0.125547  0.124874 -0.644727\n",
      "2018-01-03  0.955791  0.778720  0.377020  0.986278 \n",
      "\n",
      "                   B         C\n",
      "2018-01-01  0.033537  0.547586\n",
      "2018-01-02 -0.125547  0.124874\n",
      "2018-01-03  0.778720  0.377020\n",
      "2018-01-04  0.287548  2.773876\n",
      "2018-01-05  0.420237 -1.353417\n",
      "2018-01-06 -0.082788  2.509065 \n",
      "\n",
      "-0.125547194261\n"
     ]
    }
   ],
   "source": [
    "#== By position (row/column indexes)\n",
    "print(df.iloc[3],'\\n')\n",
    "\n",
    "print(df.iloc[3:5,0:2],'\\n')\n",
    "\n",
    "print(df.iloc[[1,2,4],[0,2]],'\\n')\n",
    "\n",
    "print(df.iloc[1:3,:],'\\n')\n",
    "\n",
    "print(df.iloc[:,1:3],'\\n')\n",
    "\n",
    "print(df.iloc[1,1])"
   ]
  },
  {
   "cell_type": "code",
   "execution_count": 117,
   "metadata": {},
   "outputs": [
    {
     "name": "stdout",
     "output_type": "stream",
     "text": [
      "                   A         B         C         D\n",
      "2018-01-01 -0.555704  0.033537  0.547586  1.592913\n",
      "2018-01-03  0.955791  0.778720  0.377020  0.986278\n",
      "2018-01-04 -0.860820  0.287548  2.773876 -2.570816\n",
      "2018-01-05 -0.090868  0.420237 -1.353417 -2.420090 \n",
      "\n",
      "                   A         B         C         D\n",
      "2018-01-01       NaN  0.033537  0.547586  1.592913\n",
      "2018-01-02       NaN       NaN  0.124874       NaN\n",
      "2018-01-03  0.955791  0.778720  0.377020  0.986278\n",
      "2018-01-04       NaN  0.287548  2.773876       NaN\n",
      "2018-01-05       NaN  0.420237       NaN       NaN\n",
      "2018-01-06       NaN       NaN  2.509065       NaN \n",
      "\n"
     ]
    }
   ],
   "source": [
    "#== Boolean Indexing \n",
    "print(df[df.B>0],'\\n')\n",
    "\n",
    "print(df[df>0],'\\n')"
   ]
  },
  {
   "cell_type": "code",
   "execution_count": 122,
   "metadata": {
    "scrolled": true
   },
   "outputs": [
    {
     "name": "stdout",
     "output_type": "stream",
     "text": [
      "     A          B    C  D      E    F\n",
      "0  1.0 2018-01-01  1.0  3   test  foo\n",
      "1  1.0 2018-01-01  1.0  3  train  foo\n",
      "2  1.0 2018-01-01  1.0  3  train  foo\n",
      "3  1.0 2018-01-01  1.0  4   test  foo \n",
      "\n",
      "     A          B    C  D     E    F\n",
      "0  1.0 2018-01-01  1.0  3  test  foo\n",
      "3  1.0 2018-01-01  1.0  4  test  foo\n"
     ]
    }
   ],
   "source": [
    "#== Using isin() method \n",
    "print(df2,'\\n')\n",
    "\n",
    "print(df2[df2['E'].isin(['test'])])  # select E column=='test' only "
   ]
  },
  {
   "cell_type": "markdown",
   "metadata": {},
   "source": [
    "## Setting (by Selection)"
   ]
  },
  {
   "cell_type": "code",
   "execution_count": 125,
   "metadata": {},
   "outputs": [
    {
     "data": {
      "text/plain": [
       "6"
      ]
     },
     "execution_count": 125,
     "metadata": {},
     "output_type": "execute_result"
    }
   ],
   "source": [
    "# prerequisite:  len(df) = # of data rows \n",
    "len(df)"
   ]
  },
  {
   "cell_type": "code",
   "execution_count": 135,
   "metadata": {
    "scrolled": true
   },
   "outputs": [
    {
     "name": "stdout",
     "output_type": "stream",
     "text": [
      "2018-01-02    1\n",
      "2018-01-03    2\n",
      "2018-01-04    3\n",
      "2018-01-05    4\n",
      "2018-01-06    5\n",
      "2018-01-07    6\n",
      "Freq: D, dtype: int64 \n",
      "\n",
      "                   A         B         C  D    F\n",
      "2018-01-01  0.000000 -1.000000  0.547586  5  NaN\n",
      "2018-01-02 -1.230058 -0.125547  0.124874  5  1.0\n",
      "2018-01-03  0.955791  0.778720  0.377020  5  2.0\n",
      "2018-01-04 -0.860820  0.287548  2.773876  5  3.0\n",
      "2018-01-05 -0.090868  0.420237 -1.353417  5  4.0\n",
      "2018-01-06 -0.797660 -0.082788  2.509065  5  5.0 \n",
      "\n",
      "                   A         B         C  D    F\n",
      "2018-01-01  0.000000 -1.000000  0.547586  5  NaN\n",
      "2018-01-02 -1.230058 -0.125547  0.124874  5  1.0\n",
      "2018-01-03  0.955791  0.778720  0.377020  5  2.0\n",
      "2018-01-04 -0.860820  0.287548  2.773876  5  3.0\n",
      "2018-01-05 -0.090868  0.420237 -1.353417  5  4.0\n",
      "2018-01-06 -0.797660 -0.082788  2.509065  5  5.0\n"
     ]
    }
   ],
   "source": [
    "s1 = pd.Series([1,2,3,4,5,6],index=pd.date_range('20180102',periods=6))\n",
    "print(s1,'\\n')\n",
    "\n",
    "#== Set by Series (new column)\n",
    "df['F'] = s1;   # Note that last element of s1 is not set to df[]. Not union, outer join. \n",
    "print(df,'\\n')\n",
    "\n",
    "#== Set by label \n",
    "df.at[dates[0], 'A'] = 0\n",
    "\n",
    "#== Set by position index \n",
    "df.iat[0,1] = -1  # 'B' column first row\n",
    "\n",
    "#== Set by numpy array \n",
    "df.loc[:,'D'] = np.array([5]*len(df))\n",
    "\n",
    "print(df)"
   ]
  },
  {
   "cell_type": "code",
   "execution_count": 137,
   "metadata": {
    "scrolled": true
   },
   "outputs": [
    {
     "name": "stdout",
     "output_type": "stream",
     "text": [
      "                   A         B         C  D    F\n",
      "2018-01-01  0.000000  1.000000  0.547586  5  NaN\n",
      "2018-01-02  1.230058  0.125547  0.124874  5  1.0\n",
      "2018-01-03  0.955791  0.778720  0.377020  5  2.0\n",
      "2018-01-04  0.860820  0.287548  2.773876  5  3.0\n",
      "2018-01-05  0.090868  0.420237  1.353417  5  4.0\n",
      "2018-01-06  0.797660  0.082788  2.509065  5  5.0\n"
     ]
    }
   ],
   "source": [
    "#== Selective overwite \n",
    "dfx = df.copy()\n",
    "dfx[dfx < 0] = -dfx  # abs\n",
    "print(dfx)"
   ]
  },
  {
   "cell_type": "markdown",
   "metadata": {},
   "source": [
    "## Missing Data"
   ]
  },
  {
   "cell_type": "code",
   "execution_count": 140,
   "metadata": {},
   "outputs": [
    {
     "name": "stdout",
     "output_type": "stream",
     "text": [
      "                   A         B         C  D    F   E\n",
      "2018-01-01  0.000000 -1.000000  0.547586  5  NaN NaN\n",
      "2018-01-02 -1.230058 -0.125547  0.124874  5  1.0 NaN\n",
      "2018-01-03  0.955791  0.778720  0.377020  5  2.0 NaN\n",
      "2018-01-04 -0.860820  0.287548  2.773876  5  3.0 NaN \n",
      "\n",
      "                   A         B         C  D    F    E\n",
      "2018-01-01  0.000000 -1.000000  0.547586  5  NaN  1.0\n",
      "2018-01-02 -1.230058 -0.125547  0.124874  5  1.0  1.0\n",
      "2018-01-03  0.955791  0.778720  0.377020  5  2.0  NaN\n",
      "2018-01-04 -0.860820  0.287548  2.773876  5  3.0  NaN \n",
      "\n"
     ]
    }
   ],
   "source": [
    "#== Reindex and get new DataFrame (subset) \n",
    "dfx = df.reindex( index=dates[0:4], columns=list(df.columns) + ['E'])\n",
    "print(dfx, '\\n')\n",
    "\n",
    "dfx.loc[dates[0]:dates[1], 'E'] = 1\n",
    "print(dfx, '\\n')"
   ]
  },
  {
   "cell_type": "code",
   "execution_count": 142,
   "metadata": {},
   "outputs": [
    {
     "name": "stdout",
     "output_type": "stream",
     "text": [
      "                   A         B         C  D    F    E\n",
      "2018-01-02 -1.230058 -0.125547  0.124874  5  1.0  1.0\n"
     ]
    }
   ],
   "source": [
    "#== Drop any rows having missing data \n",
    "print(dfx.dropna(how='any'))"
   ]
  },
  {
   "cell_type": "code",
   "execution_count": 145,
   "metadata": {
    "scrolled": true
   },
   "outputs": [
    {
     "name": "stdout",
     "output_type": "stream",
     "text": [
      "                   A         B         C  D       F       E\n",
      "2018-01-01  0.000000 -1.000000  0.547586  5 -999.25    1.00\n",
      "2018-01-02 -1.230058 -0.125547  0.124874  5    1.00    1.00\n",
      "2018-01-03  0.955791  0.778720  0.377020  5    2.00 -999.25\n",
      "2018-01-04 -0.860820  0.287548  2.773876  5    3.00 -999.25 \n",
      "\n",
      "                   A         B         C  D    F    E\n",
      "2018-01-01  0.000000 -1.000000  0.547586  5  NaN  1.0\n",
      "2018-01-02 -1.230058 -0.125547  0.124874  5  1.0  1.0\n",
      "2018-01-03  0.955791  0.778720  0.377020  5  2.0  NaN\n",
      "2018-01-04 -0.860820  0.287548  2.773876  5  3.0  NaN\n"
     ]
    }
   ],
   "source": [
    "#== Filling missing value \n",
    "print(dfx.fillna(value=-999.25),'\\n')\n",
    "print(dfx) # original data remains unchanged. "
   ]
  },
  {
   "cell_type": "code",
   "execution_count": 151,
   "metadata": {},
   "outputs": [
    {
     "name": "stdout",
     "output_type": "stream",
     "text": [
      "                A      B      C      D      F      E\n",
      "2018-01-01  False  False  False  False   True  False\n",
      "2018-01-02  False  False  False  False  False  False\n",
      "2018-01-03  False  False  False  False  False   True\n",
      "2018-01-04  False  False  False  False  False   True\n"
     ]
    }
   ],
   "source": [
    "#== Check if NaN or not \n",
    "#print(pd.isna(dfx)) <== depreted?? \n",
    "print(pd.isnull(dfx))"
   ]
  },
  {
   "cell_type": "markdown",
   "metadata": {},
   "source": [
    "## Operations"
   ]
  },
  {
   "cell_type": "markdown",
   "metadata": {},
   "source": [
    "### Stats"
   ]
  },
  {
   "cell_type": "code",
   "execution_count": 155,
   "metadata": {},
   "outputs": [
    {
     "data": {
      "text/plain": [
       "A   -0.337269\n",
       "B    0.046362\n",
       "C    0.829834\n",
       "D    5.000000\n",
       "F    3.000000\n",
       "dtype: float64"
      ]
     },
     "execution_count": 155,
     "metadata": {},
     "output_type": "execute_result"
    }
   ],
   "source": [
    "# mean() along each column \n",
    "df.mean() # same as df.mean(0)"
   ]
  },
  {
   "cell_type": "code",
   "execution_count": 158,
   "metadata": {},
   "outputs": [
    {
     "data": {
      "text/plain": [
       "2018-01-01    1.136897\n",
       "2018-01-02    0.953854\n",
       "2018-01-03    1.822306\n",
       "2018-01-04    2.040121\n",
       "2018-01-05    1.595190\n",
       "2018-01-06    2.325723\n",
       "Freq: D, dtype: float64"
      ]
     },
     "execution_count": 158,
     "metadata": {},
     "output_type": "execute_result"
    }
   ],
   "source": [
    "# mean() along each row (axis=1)\n",
    "df.mean(1)"
   ]
  },
  {
   "cell_type": "code",
   "execution_count": 162,
   "metadata": {},
   "outputs": [
    {
     "name": "stdout",
     "output_type": "stream",
     "text": [
      "                   A         B         C  D    F\n",
      "2018-01-01  0.000000 -1.000000  0.547586  5  NaN\n",
      "2018-01-02 -1.230058 -0.125547  0.124874  5  1.0\n",
      "2018-01-03  0.955791  0.778720  0.377020  5  2.0\n",
      "2018-01-04 -0.860820  0.287548  2.773876  5  3.0\n",
      "2018-01-05 -0.090868  0.420237 -1.353417  5  4.0\n",
      "2018-01-06 -0.797660 -0.082788  2.509065  5  5.0 \n",
      "\n",
      "2018-01-01    NaN\n",
      "2018-01-02    NaN\n",
      "2018-01-03    1.0\n",
      "2018-01-04    3.0\n",
      "2018-01-05    5.0\n",
      "2018-01-06    NaN\n",
      "Freq: D, dtype: float64 \n",
      "\n",
      "                   A         B         C    D    F\n",
      "2018-01-01       NaN       NaN       NaN  NaN  NaN\n",
      "2018-01-02       NaN       NaN       NaN  NaN  NaN\n",
      "2018-01-03 -0.044209 -0.221280 -0.622980  4.0  1.0\n",
      "2018-01-04 -3.860820 -2.712452 -0.226124  2.0  0.0\n",
      "2018-01-05 -5.090868 -4.579763 -6.353417  0.0 -1.0\n",
      "2018-01-06       NaN       NaN       NaN  NaN  NaN\n"
     ]
    }
   ],
   "source": [
    "# subtract \n",
    "print(df,'\\n')\n",
    "\n",
    "s = pd.Series([1,3,5,np.nan,6,8],index=dates).shift(2) # shift 2 rows down (2 NaN at top)\n",
    "print(s,'\\n')\n",
    "\n",
    "# subtract \n",
    "print(df.sub(s,axis='index'))"
   ]
  },
  {
   "cell_type": "markdown",
   "metadata": {},
   "source": [
    "### Apply "
   ]
  },
  {
   "cell_type": "code",
   "execution_count": 166,
   "metadata": {},
   "outputs": [
    {
     "name": "stdout",
     "output_type": "stream",
     "text": [
      "                   A         B         C   D     F\n",
      "2018-01-01  0.000000 -1.000000  0.547586   5   NaN\n",
      "2018-01-02 -1.230058 -1.125547  0.672461  10   1.0\n",
      "2018-01-03 -0.274267 -0.346827  1.049480  15   3.0\n",
      "2018-01-04 -1.135087 -0.059279  3.823357  20   6.0\n",
      "2018-01-05 -1.225955  0.360958  2.469939  25  10.0\n",
      "2018-01-06 -2.023615  0.278170  4.979004  30  15.0\n"
     ]
    }
   ],
   "source": [
    "# Apply np.cumsum() to each column \n",
    "print(df.apply(np.cumsum))"
   ]
  },
  {
   "cell_type": "code",
   "execution_count": 174,
   "metadata": {},
   "outputs": [
    {
     "name": "stdout",
     "output_type": "stream",
     "text": [
      "                   A         B         C  D    F\n",
      "2018-01-01  0.000000 -1.000000  0.547586  5  NaN\n",
      "2018-01-02 -1.230058 -0.125547  0.124874  5  1.0\n",
      "2018-01-03  0.955791  0.778720  0.377020  5  2.0\n",
      "2018-01-04 -0.860820  0.287548  2.773876  5  3.0\n",
      "2018-01-05 -0.090868  0.420237 -1.353417  5  4.0\n",
      "2018-01-06 -0.797660 -0.082788  2.509065  5  5.0 \n",
      "\n",
      "A    2.185849\n",
      "B    1.778720\n",
      "C    4.127294\n",
      "D    0.000000\n",
      "F    4.000000\n",
      "dtype: float64\n"
     ]
    }
   ],
   "source": [
    "# Apply lambda function to each column.  This example yilelds scalar value from function.\n",
    "# As seen below, NaN is ignored in calculation. \n",
    "print(df,'\\n')\n",
    "print(df.apply(lambda x: x.max()-x.min()))"
   ]
  },
  {
   "cell_type": "code",
   "execution_count": 179,
   "metadata": {},
   "outputs": [
    {
     "name": "stdout",
     "output_type": "stream",
     "text": [
      "                   A         B         C  D    F\n",
      "2018-01-01  0.000000  1.000000  0.547586  5  NaN\n",
      "2018-01-02  1.230058  0.125547  0.124874  5  1.0\n",
      "2018-01-03  0.955791  0.778720  0.377020  5  2.0\n",
      "2018-01-04  0.860820  0.287548  2.773876  5  3.0\n",
      "2018-01-05  0.090868  0.420237  1.353417  5  4.0\n",
      "2018-01-06  0.797660  0.082788  2.509065  5  5.0 \n",
      "\n",
      "                   A         B         C    D    F\n",
      "2018-01-01  0.000000  1.000000  0.547586  5.0  NaN\n",
      "2018-01-02  1.230058  0.125547  0.124874  5.0  1.0\n",
      "2018-01-03  0.955791  0.778720  0.377020  5.0  2.0\n",
      "2018-01-04  0.860820  0.287548  2.773876  5.0  3.0\n",
      "2018-01-05  0.090868  0.420237  1.353417  5.0  4.0\n",
      "2018-01-06  0.797660  0.082788  2.509065  5.0  5.0\n"
     ]
    }
   ],
   "source": [
    "print(df.apply(lambda x: abs(x)),'\\n')  # example of element-by-element lambda fx\n",
    "print(df.abs()) # same result (to confirm)"
   ]
  },
  {
   "cell_type": "markdown",
   "metadata": {},
   "source": [
    "### Histogram "
   ]
  },
  {
   "cell_type": "code",
   "execution_count": 186,
   "metadata": {},
   "outputs": [
    {
     "name": "stdout",
     "output_type": "stream",
     "text": [
      "0    5\n",
      "1    1\n",
      "2    1\n",
      "3    0\n",
      "4    5\n",
      "5    4\n",
      "6    3\n",
      "7    2\n",
      "8    4\n",
      "9    0\n",
      "dtype: int64 \n",
      "\n"
     ]
    },
    {
     "data": {
      "text/plain": [
       "5    2\n",
       "4    2\n",
       "1    2\n",
       "0    2\n",
       "3    1\n",
       "2    1\n",
       "dtype: int64"
      ]
     },
     "execution_count": 186,
     "metadata": {},
     "output_type": "execute_result"
    }
   ],
   "source": [
    "# sample data: note that Series auto-generate index \n",
    "s = pd.Series(np.random.randint(0,7,size=10))  #low,high,size \n",
    "print(s,'\\n')\n",
    "\n",
    "# histogram by value_counts\n",
    "s.value_counts()"
   ]
  },
  {
   "cell_type": "markdown",
   "metadata": {},
   "source": [
    "### String method"
   ]
  },
  {
   "cell_type": "code",
   "execution_count": 189,
   "metadata": {},
   "outputs": [
    {
     "data": {
      "text/plain": [
       "0      a\n",
       "1      b\n",
       "2      c\n",
       "3    NaN\n",
       "4    dog\n",
       "dtype: object"
      ]
     },
     "execution_count": 189,
     "metadata": {},
     "output_type": "execute_result"
    }
   ],
   "source": [
    "s = pd.Series(['A','B','C',np.nan,'Dog'])\n",
    "s.str.lower()"
   ]
  },
  {
   "cell_type": "markdown",
   "metadata": {},
   "source": [
    "## Merge"
   ]
  }
 ],
 "metadata": {
  "kernelspec": {
   "display_name": "Python 3",
   "language": "python",
   "name": "python3"
  },
  "language_info": {
   "codemirror_mode": {
    "name": "ipython",
    "version": 3
   },
   "file_extension": ".py",
   "mimetype": "text/x-python",
   "name": "python",
   "nbconvert_exporter": "python",
   "pygments_lexer": "ipython3",
   "version": "3.6.3"
  }
 },
 "nbformat": 4,
 "nbformat_minor": 2
}
