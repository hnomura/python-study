{
 "cells": [
  {
   "cell_type": "markdown",
   "metadata": {},
   "source": [
    "# 10 Minutes to pandas"
   ]
  },
  {
   "cell_type": "code",
   "execution_count": 1,
   "metadata": {
    "collapsed": true
   },
   "outputs": [],
   "source": [
    "import numpy as np \n",
    "import matplotlib.pyplot as plt \n",
    "\n",
    "import pandas as pd "
   ]
  },
  {
   "cell_type": "markdown",
   "metadata": {},
   "source": [
    "## Object Creation"
   ]
  },
  {
   "cell_type": "code",
   "execution_count": 2,
   "metadata": {},
   "outputs": [
    {
     "name": "stdout",
     "output_type": "stream",
     "text": [
      "0    1.0\n",
      "1    3.0\n",
      "2    5.0\n",
      "3    NaN\n",
      "4    6.0\n",
      "5    8.0\n",
      "dtype: float64\n"
     ]
    }
   ],
   "source": [
    "#== Series by passing list: Index is auto-created ==\n",
    "s = pd.Series([1,3,5,np.nan,6,8])\n",
    "print(s)"
   ]
  },
  {
   "cell_type": "code",
   "execution_count": 3,
   "metadata": {},
   "outputs": [
    {
     "name": "stdout",
     "output_type": "stream",
     "text": [
      "DatetimeIndex(['2018-01-01', '2018-01-02', '2018-01-03', '2018-01-04',\n",
      "               '2018-01-05', '2018-01-06'],\n",
      "              dtype='datetime64[ns]', freq='D') \n",
      "\n",
      "                   A         B         C         D\n",
      "2018-01-01  0.303911  0.991289  0.689667 -0.591203\n",
      "2018-01-02 -0.825885 -0.837956 -2.824791 -0.063970\n",
      "2018-01-03 -0.427531 -0.456775 -0.541133  0.671176\n",
      "2018-01-04  0.919372  0.204620 -0.360945  0.539669\n",
      "2018-01-05 -0.538181  0.849280  0.622280  0.660690\n",
      "2018-01-06  0.425915 -0.405431  1.169618 -0.269208\n"
     ]
    }
   ],
   "source": [
    "#== DataFrame by passing numpy array\n",
    "#   index column is specified (as dates). \n",
    "#   column name is also given\n",
    "dates = pd.date_range('20180101', periods=6)\n",
    "print(dates, '\\n')\n",
    "\n",
    "# random data 6(rows)x4(columns)\n",
    "data = np.random.randn(6,4)\n",
    "\n",
    "df = pd.DataFrame(data, index=dates, columns=['A','B','C','D'])\n",
    "print(df)"
   ]
  },
  {
   "cell_type": "code",
   "execution_count": 4,
   "metadata": {},
   "outputs": [
    {
     "name": "stdout",
     "output_type": "stream",
     "text": [
      "     A          B    C  D      E    F\n",
      "0  1.0 2018-01-01  1.0  3   test  foo\n",
      "1  1.0 2018-01-01  1.0  3  train  foo\n",
      "2  1.0 2018-01-01  1.0  3  train  foo\n",
      "3  1.0 2018-01-01  1.0  4   test  foo \n",
      "\n",
      "A           float64\n",
      "B    datetime64[ns]\n",
      "C           float32\n",
      "D             int32\n",
      "E          category\n",
      "F            object\n",
      "dtype: object\n"
     ]
    }
   ],
   "source": [
    "#== DataFame by passing dict \n",
    "df2 = pd.DataFrame({ \n",
    "    'A': 1., \n",
    "    'B': pd.Timestamp('20180101'),\n",
    "    'C': pd.Series(1, index=list(range(4)), dtype='float32'),\n",
    "    'D': np.array([3]*3+[4], dtype='int32'),\n",
    "    'E': pd.Categorical([\"test\",\"train\",\"train\",\"test\"]),\n",
    "    'F': 'foo'})\n",
    "print(df2,'\\n')\n",
    "print(df2.dtypes)"
   ]
  },
  {
   "cell_type": "code",
   "execution_count": 5,
   "metadata": {},
   "outputs": [
    {
     "data": {
      "text/html": [
       "<div>\n",
       "<style>\n",
       "    .dataframe thead tr:only-child th {\n",
       "        text-align: right;\n",
       "    }\n",
       "\n",
       "    .dataframe thead th {\n",
       "        text-align: left;\n",
       "    }\n",
       "\n",
       "    .dataframe tbody tr th {\n",
       "        vertical-align: top;\n",
       "    }\n",
       "</style>\n",
       "<table border=\"1\" class=\"dataframe\">\n",
       "  <thead>\n",
       "    <tr style=\"text-align: right;\">\n",
       "      <th></th>\n",
       "      <th>A</th>\n",
       "      <th>B</th>\n",
       "      <th>C</th>\n",
       "      <th>D</th>\n",
       "    </tr>\n",
       "  </thead>\n",
       "  <tbody>\n",
       "    <tr>\n",
       "      <th>2018-01-01</th>\n",
       "      <td>0.303911</td>\n",
       "      <td>0.991289</td>\n",
       "      <td>0.689667</td>\n",
       "      <td>-0.591203</td>\n",
       "    </tr>\n",
       "    <tr>\n",
       "      <th>2018-01-02</th>\n",
       "      <td>-0.825885</td>\n",
       "      <td>-0.837956</td>\n",
       "      <td>-2.824791</td>\n",
       "      <td>-0.063970</td>\n",
       "    </tr>\n",
       "    <tr>\n",
       "      <th>2018-01-03</th>\n",
       "      <td>-0.427531</td>\n",
       "      <td>-0.456775</td>\n",
       "      <td>-0.541133</td>\n",
       "      <td>0.671176</td>\n",
       "    </tr>\n",
       "  </tbody>\n",
       "</table>\n",
       "</div>"
      ],
      "text/plain": [
       "                   A         B         C         D\n",
       "2018-01-01  0.303911  0.991289  0.689667 -0.591203\n",
       "2018-01-02 -0.825885 -0.837956 -2.824791 -0.063970\n",
       "2018-01-03 -0.427531 -0.456775 -0.541133  0.671176"
      ]
     },
     "execution_count": 5,
     "metadata": {},
     "output_type": "execute_result"
    }
   ],
   "source": [
    "#== interactive browsing \n",
    "df.head(3) # only 3 data rows"
   ]
  },
  {
   "cell_type": "code",
   "execution_count": 6,
   "metadata": {},
   "outputs": [
    {
     "data": {
      "text/html": [
       "<div>\n",
       "<style>\n",
       "    .dataframe thead tr:only-child th {\n",
       "        text-align: right;\n",
       "    }\n",
       "\n",
       "    .dataframe thead th {\n",
       "        text-align: left;\n",
       "    }\n",
       "\n",
       "    .dataframe tbody tr th {\n",
       "        vertical-align: top;\n",
       "    }\n",
       "</style>\n",
       "<table border=\"1\" class=\"dataframe\">\n",
       "  <thead>\n",
       "    <tr style=\"text-align: right;\">\n",
       "      <th></th>\n",
       "      <th>A</th>\n",
       "      <th>B</th>\n",
       "      <th>C</th>\n",
       "      <th>D</th>\n",
       "    </tr>\n",
       "  </thead>\n",
       "  <tbody>\n",
       "    <tr>\n",
       "      <th>2018-01-04</th>\n",
       "      <td>0.919372</td>\n",
       "      <td>0.204620</td>\n",
       "      <td>-0.360945</td>\n",
       "      <td>0.539669</td>\n",
       "    </tr>\n",
       "    <tr>\n",
       "      <th>2018-01-05</th>\n",
       "      <td>-0.538181</td>\n",
       "      <td>0.849280</td>\n",
       "      <td>0.622280</td>\n",
       "      <td>0.660690</td>\n",
       "    </tr>\n",
       "    <tr>\n",
       "      <th>2018-01-06</th>\n",
       "      <td>0.425915</td>\n",
       "      <td>-0.405431</td>\n",
       "      <td>1.169618</td>\n",
       "      <td>-0.269208</td>\n",
       "    </tr>\n",
       "  </tbody>\n",
       "</table>\n",
       "</div>"
      ],
      "text/plain": [
       "                   A         B         C         D\n",
       "2018-01-04  0.919372  0.204620 -0.360945  0.539669\n",
       "2018-01-05 -0.538181  0.849280  0.622280  0.660690\n",
       "2018-01-06  0.425915 -0.405431  1.169618 -0.269208"
      ]
     },
     "execution_count": 6,
     "metadata": {},
     "output_type": "execute_result"
    }
   ],
   "source": [
    "df.tail(3)"
   ]
  },
  {
   "cell_type": "code",
   "execution_count": 7,
   "metadata": {
    "scrolled": true
   },
   "outputs": [
    {
     "name": "stdout",
     "output_type": "stream",
     "text": [
      "DatetimeIndex(['2018-01-01', '2018-01-02', '2018-01-03', '2018-01-04',\n",
      "               '2018-01-05', '2018-01-06'],\n",
      "              dtype='datetime64[ns]', freq='D') \n",
      "\n",
      "Index(['A', 'B', 'C', 'D'], dtype='object') \n",
      "\n",
      "[[ 0.30391116  0.99128866  0.68966708 -0.59120279]\n",
      " [-0.82588543 -0.83795553 -2.82479138 -0.0639696 ]\n",
      " [-0.42753139 -0.45677454 -0.54113323  0.67117558]\n",
      " [ 0.91937219  0.20462023 -0.36094455  0.53966885]\n",
      " [-0.53818088  0.84928024  0.62227989  0.6606903 ]\n",
      " [ 0.42591526 -0.40543064  1.16961818 -0.26920801]] \n",
      "\n",
      "(6, 4)\n"
     ]
    }
   ],
   "source": [
    "#== Access to internal of DataFrame \n",
    "\n",
    "print(df.index, '\\n')\n",
    "print(df.columns, '\\n')\n",
    "print(df.values,'\\n')  #as numpy array\n",
    "print(df.values.shape)"
   ]
  },
  {
   "cell_type": "code",
   "execution_count": 8,
   "metadata": {},
   "outputs": [
    {
     "data": {
      "text/html": [
       "<div>\n",
       "<style>\n",
       "    .dataframe thead tr:only-child th {\n",
       "        text-align: right;\n",
       "    }\n",
       "\n",
       "    .dataframe thead th {\n",
       "        text-align: left;\n",
       "    }\n",
       "\n",
       "    .dataframe tbody tr th {\n",
       "        vertical-align: top;\n",
       "    }\n",
       "</style>\n",
       "<table border=\"1\" class=\"dataframe\">\n",
       "  <thead>\n",
       "    <tr style=\"text-align: right;\">\n",
       "      <th></th>\n",
       "      <th>A</th>\n",
       "      <th>B</th>\n",
       "      <th>C</th>\n",
       "      <th>D</th>\n",
       "    </tr>\n",
       "  </thead>\n",
       "  <tbody>\n",
       "    <tr>\n",
       "      <th>count</th>\n",
       "      <td>6.000000</td>\n",
       "      <td>6.000000</td>\n",
       "      <td>6.000000</td>\n",
       "      <td>6.000000</td>\n",
       "    </tr>\n",
       "    <tr>\n",
       "      <th>mean</th>\n",
       "      <td>-0.023733</td>\n",
       "      <td>0.057505</td>\n",
       "      <td>-0.207551</td>\n",
       "      <td>0.157859</td>\n",
       "    </tr>\n",
       "    <tr>\n",
       "      <th>std</th>\n",
       "      <td>0.673816</td>\n",
       "      <td>0.748485</td>\n",
       "      <td>1.440484</td>\n",
       "      <td>0.539407</td>\n",
       "    </tr>\n",
       "    <tr>\n",
       "      <th>min</th>\n",
       "      <td>-0.825885</td>\n",
       "      <td>-0.837956</td>\n",
       "      <td>-2.824791</td>\n",
       "      <td>-0.591203</td>\n",
       "    </tr>\n",
       "    <tr>\n",
       "      <th>25%</th>\n",
       "      <td>-0.510519</td>\n",
       "      <td>-0.443939</td>\n",
       "      <td>-0.496086</td>\n",
       "      <td>-0.217898</td>\n",
       "    </tr>\n",
       "    <tr>\n",
       "      <th>50%</th>\n",
       "      <td>-0.061810</td>\n",
       "      <td>-0.100405</td>\n",
       "      <td>0.130668</td>\n",
       "      <td>0.237850</td>\n",
       "    </tr>\n",
       "    <tr>\n",
       "      <th>75%</th>\n",
       "      <td>0.395414</td>\n",
       "      <td>0.688115</td>\n",
       "      <td>0.672820</td>\n",
       "      <td>0.630435</td>\n",
       "    </tr>\n",
       "    <tr>\n",
       "      <th>max</th>\n",
       "      <td>0.919372</td>\n",
       "      <td>0.991289</td>\n",
       "      <td>1.169618</td>\n",
       "      <td>0.671176</td>\n",
       "    </tr>\n",
       "  </tbody>\n",
       "</table>\n",
       "</div>"
      ],
      "text/plain": [
       "              A         B         C         D\n",
       "count  6.000000  6.000000  6.000000  6.000000\n",
       "mean  -0.023733  0.057505 -0.207551  0.157859\n",
       "std    0.673816  0.748485  1.440484  0.539407\n",
       "min   -0.825885 -0.837956 -2.824791 -0.591203\n",
       "25%   -0.510519 -0.443939 -0.496086 -0.217898\n",
       "50%   -0.061810 -0.100405  0.130668  0.237850\n",
       "75%    0.395414  0.688115  0.672820  0.630435\n",
       "max    0.919372  0.991289  1.169618  0.671176"
      ]
     },
     "execution_count": 8,
     "metadata": {},
     "output_type": "execute_result"
    }
   ],
   "source": [
    "#== Describe : Show quick status summary (interactive tool)\n",
    "df.describe()"
   ]
  },
  {
   "cell_type": "code",
   "execution_count": 9,
   "metadata": {},
   "outputs": [
    {
     "data": {
      "text/html": [
       "<div>\n",
       "<style>\n",
       "    .dataframe thead tr:only-child th {\n",
       "        text-align: right;\n",
       "    }\n",
       "\n",
       "    .dataframe thead th {\n",
       "        text-align: left;\n",
       "    }\n",
       "\n",
       "    .dataframe tbody tr th {\n",
       "        vertical-align: top;\n",
       "    }\n",
       "</style>\n",
       "<table border=\"1\" class=\"dataframe\">\n",
       "  <thead>\n",
       "    <tr style=\"text-align: right;\">\n",
       "      <th></th>\n",
       "      <th>2018-01-01 00:00:00</th>\n",
       "      <th>2018-01-02 00:00:00</th>\n",
       "      <th>2018-01-03 00:00:00</th>\n",
       "      <th>2018-01-04 00:00:00</th>\n",
       "      <th>2018-01-05 00:00:00</th>\n",
       "      <th>2018-01-06 00:00:00</th>\n",
       "    </tr>\n",
       "  </thead>\n",
       "  <tbody>\n",
       "    <tr>\n",
       "      <th>A</th>\n",
       "      <td>0.303911</td>\n",
       "      <td>-0.825885</td>\n",
       "      <td>-0.427531</td>\n",
       "      <td>0.919372</td>\n",
       "      <td>-0.538181</td>\n",
       "      <td>0.425915</td>\n",
       "    </tr>\n",
       "    <tr>\n",
       "      <th>B</th>\n",
       "      <td>0.991289</td>\n",
       "      <td>-0.837956</td>\n",
       "      <td>-0.456775</td>\n",
       "      <td>0.204620</td>\n",
       "      <td>0.849280</td>\n",
       "      <td>-0.405431</td>\n",
       "    </tr>\n",
       "    <tr>\n",
       "      <th>C</th>\n",
       "      <td>0.689667</td>\n",
       "      <td>-2.824791</td>\n",
       "      <td>-0.541133</td>\n",
       "      <td>-0.360945</td>\n",
       "      <td>0.622280</td>\n",
       "      <td>1.169618</td>\n",
       "    </tr>\n",
       "    <tr>\n",
       "      <th>D</th>\n",
       "      <td>-0.591203</td>\n",
       "      <td>-0.063970</td>\n",
       "      <td>0.671176</td>\n",
       "      <td>0.539669</td>\n",
       "      <td>0.660690</td>\n",
       "      <td>-0.269208</td>\n",
       "    </tr>\n",
       "  </tbody>\n",
       "</table>\n",
       "</div>"
      ],
      "text/plain": [
       "   2018-01-01  2018-01-02  2018-01-03  2018-01-04  2018-01-05  2018-01-06\n",
       "A    0.303911   -0.825885   -0.427531    0.919372   -0.538181    0.425915\n",
       "B    0.991289   -0.837956   -0.456775    0.204620    0.849280   -0.405431\n",
       "C    0.689667   -2.824791   -0.541133   -0.360945    0.622280    1.169618\n",
       "D   -0.591203   -0.063970    0.671176    0.539669    0.660690   -0.269208"
      ]
     },
     "execution_count": 9,
     "metadata": {},
     "output_type": "execute_result"
    }
   ],
   "source": [
    "#== Transpose (like numpy)\n",
    "df.T"
   ]
  },
  {
   "cell_type": "code",
   "execution_count": 10,
   "metadata": {},
   "outputs": [
    {
     "data": {
      "text/html": [
       "<div>\n",
       "<style>\n",
       "    .dataframe thead tr:only-child th {\n",
       "        text-align: right;\n",
       "    }\n",
       "\n",
       "    .dataframe thead th {\n",
       "        text-align: left;\n",
       "    }\n",
       "\n",
       "    .dataframe tbody tr th {\n",
       "        vertical-align: top;\n",
       "    }\n",
       "</style>\n",
       "<table border=\"1\" class=\"dataframe\">\n",
       "  <thead>\n",
       "    <tr style=\"text-align: right;\">\n",
       "      <th></th>\n",
       "      <th>D</th>\n",
       "      <th>C</th>\n",
       "      <th>B</th>\n",
       "      <th>A</th>\n",
       "    </tr>\n",
       "  </thead>\n",
       "  <tbody>\n",
       "    <tr>\n",
       "      <th>2018-01-01</th>\n",
       "      <td>-0.591203</td>\n",
       "      <td>0.689667</td>\n",
       "      <td>0.991289</td>\n",
       "      <td>0.303911</td>\n",
       "    </tr>\n",
       "    <tr>\n",
       "      <th>2018-01-02</th>\n",
       "      <td>-0.063970</td>\n",
       "      <td>-2.824791</td>\n",
       "      <td>-0.837956</td>\n",
       "      <td>-0.825885</td>\n",
       "    </tr>\n",
       "    <tr>\n",
       "      <th>2018-01-03</th>\n",
       "      <td>0.671176</td>\n",
       "      <td>-0.541133</td>\n",
       "      <td>-0.456775</td>\n",
       "      <td>-0.427531</td>\n",
       "    </tr>\n",
       "    <tr>\n",
       "      <th>2018-01-04</th>\n",
       "      <td>0.539669</td>\n",
       "      <td>-0.360945</td>\n",
       "      <td>0.204620</td>\n",
       "      <td>0.919372</td>\n",
       "    </tr>\n",
       "    <tr>\n",
       "      <th>2018-01-05</th>\n",
       "      <td>0.660690</td>\n",
       "      <td>0.622280</td>\n",
       "      <td>0.849280</td>\n",
       "      <td>-0.538181</td>\n",
       "    </tr>\n",
       "    <tr>\n",
       "      <th>2018-01-06</th>\n",
       "      <td>-0.269208</td>\n",
       "      <td>1.169618</td>\n",
       "      <td>-0.405431</td>\n",
       "      <td>0.425915</td>\n",
       "    </tr>\n",
       "  </tbody>\n",
       "</table>\n",
       "</div>"
      ],
      "text/plain": [
       "                   D         C         B         A\n",
       "2018-01-01 -0.591203  0.689667  0.991289  0.303911\n",
       "2018-01-02 -0.063970 -2.824791 -0.837956 -0.825885\n",
       "2018-01-03  0.671176 -0.541133 -0.456775 -0.427531\n",
       "2018-01-04  0.539669 -0.360945  0.204620  0.919372\n",
       "2018-01-05  0.660690  0.622280  0.849280 -0.538181\n",
       "2018-01-06 -0.269208  1.169618 -0.405431  0.425915"
      ]
     },
     "execution_count": 10,
     "metadata": {},
     "output_type": "execute_result"
    }
   ],
   "source": [
    "#== Sorting axis by labels (axis=0:row, axis=1:column)\n",
    "df.sort_index(axis=1,ascending=False)"
   ]
  },
  {
   "cell_type": "code",
   "execution_count": 11,
   "metadata": {},
   "outputs": [
    {
     "data": {
      "text/html": [
       "<div>\n",
       "<style>\n",
       "    .dataframe thead tr:only-child th {\n",
       "        text-align: right;\n",
       "    }\n",
       "\n",
       "    .dataframe thead th {\n",
       "        text-align: left;\n",
       "    }\n",
       "\n",
       "    .dataframe tbody tr th {\n",
       "        vertical-align: top;\n",
       "    }\n",
       "</style>\n",
       "<table border=\"1\" class=\"dataframe\">\n",
       "  <thead>\n",
       "    <tr style=\"text-align: right;\">\n",
       "      <th></th>\n",
       "      <th>A</th>\n",
       "      <th>B</th>\n",
       "      <th>C</th>\n",
       "      <th>D</th>\n",
       "    </tr>\n",
       "  </thead>\n",
       "  <tbody>\n",
       "    <tr>\n",
       "      <th>2018-01-02</th>\n",
       "      <td>-0.825885</td>\n",
       "      <td>-0.837956</td>\n",
       "      <td>-2.824791</td>\n",
       "      <td>-0.063970</td>\n",
       "    </tr>\n",
       "    <tr>\n",
       "      <th>2018-01-03</th>\n",
       "      <td>-0.427531</td>\n",
       "      <td>-0.456775</td>\n",
       "      <td>-0.541133</td>\n",
       "      <td>0.671176</td>\n",
       "    </tr>\n",
       "    <tr>\n",
       "      <th>2018-01-06</th>\n",
       "      <td>0.425915</td>\n",
       "      <td>-0.405431</td>\n",
       "      <td>1.169618</td>\n",
       "      <td>-0.269208</td>\n",
       "    </tr>\n",
       "    <tr>\n",
       "      <th>2018-01-04</th>\n",
       "      <td>0.919372</td>\n",
       "      <td>0.204620</td>\n",
       "      <td>-0.360945</td>\n",
       "      <td>0.539669</td>\n",
       "    </tr>\n",
       "    <tr>\n",
       "      <th>2018-01-05</th>\n",
       "      <td>-0.538181</td>\n",
       "      <td>0.849280</td>\n",
       "      <td>0.622280</td>\n",
       "      <td>0.660690</td>\n",
       "    </tr>\n",
       "    <tr>\n",
       "      <th>2018-01-01</th>\n",
       "      <td>0.303911</td>\n",
       "      <td>0.991289</td>\n",
       "      <td>0.689667</td>\n",
       "      <td>-0.591203</td>\n",
       "    </tr>\n",
       "  </tbody>\n",
       "</table>\n",
       "</div>"
      ],
      "text/plain": [
       "                   A         B         C         D\n",
       "2018-01-02 -0.825885 -0.837956 -2.824791 -0.063970\n",
       "2018-01-03 -0.427531 -0.456775 -0.541133  0.671176\n",
       "2018-01-06  0.425915 -0.405431  1.169618 -0.269208\n",
       "2018-01-04  0.919372  0.204620 -0.360945  0.539669\n",
       "2018-01-05 -0.538181  0.849280  0.622280  0.660690\n",
       "2018-01-01  0.303911  0.991289  0.689667 -0.591203"
      ]
     },
     "execution_count": 11,
     "metadata": {},
     "output_type": "execute_result"
    }
   ],
   "source": [
    "#== Sorting by values of a column \n",
    "df.sort_values(by='B', ascending=True)"
   ]
  },
  {
   "cell_type": "markdown",
   "metadata": {},
   "source": [
    "## Selection"
   ]
  },
  {
   "cell_type": "code",
   "execution_count": 12,
   "metadata": {},
   "outputs": [
    {
     "data": {
      "text/plain": [
       "2018-01-01    0.303911\n",
       "2018-01-02   -0.825885\n",
       "2018-01-03   -0.427531\n",
       "2018-01-04    0.919372\n",
       "2018-01-05   -0.538181\n",
       "2018-01-06    0.425915\n",
       "Freq: D, Name: A, dtype: float64"
      ]
     },
     "execution_count": 12,
     "metadata": {},
     "output_type": "execute_result"
    }
   ],
   "source": [
    "#== Select by column (like map, or structure)\n",
    "df['A']"
   ]
  },
  {
   "cell_type": "code",
   "execution_count": 13,
   "metadata": {},
   "outputs": [
    {
     "name": "stdout",
     "output_type": "stream",
     "text": [
      "                   A         B         C         D\n",
      "2018-01-01  0.303911  0.991289  0.689667 -0.591203\n",
      "2018-01-02 -0.825885 -0.837956 -2.824791 -0.063970\n",
      "2018-01-03 -0.427531 -0.456775 -0.541133  0.671176 \n",
      "\n",
      "                   A         B         C         D\n",
      "2018-01-02 -0.825885 -0.837956 -2.824791 -0.063970\n",
      "2018-01-03 -0.427531 -0.456775 -0.541133  0.671176 \n",
      "\n",
      "Numpy slice x[0:3]= [0 1 2]\n"
     ]
    }
   ],
   "source": [
    "#== Slicing rows, either by row index or data index\n",
    "#   Note: Slicing by data index is **inclusive** range specification. \n",
    "#         Slicing by row index is same as numpy slice (last element is exclusive)\n",
    "print(df[0:3],'\\n')\n",
    "print(df['20180102':'20180103'], '\\n')\n",
    "\n",
    "x=np.array([0,1,2,3,4])\n",
    "print('Numpy slice x[0:3]=', x[0:3])"
   ]
  },
  {
   "cell_type": "code",
   "execution_count": 14,
   "metadata": {},
   "outputs": [
    {
     "data": {
      "text/plain": [
       "A    0.303911\n",
       "B    0.991289\n",
       "C    0.689667\n",
       "D   -0.591203\n",
       "Name: 2018-01-01 00:00:00, dtype: float64"
      ]
     },
     "execution_count": 14,
     "metadata": {},
     "output_type": "execute_result"
    }
   ],
   "source": [
    "#=== By Label: row selection by 'data index'\n",
    "df.loc[dates[0]]"
   ]
  },
  {
   "cell_type": "code",
   "execution_count": 15,
   "metadata": {},
   "outputs": [
    {
     "data": {
      "text/html": [
       "<div>\n",
       "<style>\n",
       "    .dataframe thead tr:only-child th {\n",
       "        text-align: right;\n",
       "    }\n",
       "\n",
       "    .dataframe thead th {\n",
       "        text-align: left;\n",
       "    }\n",
       "\n",
       "    .dataframe tbody tr th {\n",
       "        vertical-align: top;\n",
       "    }\n",
       "</style>\n",
       "<table border=\"1\" class=\"dataframe\">\n",
       "  <thead>\n",
       "    <tr style=\"text-align: right;\">\n",
       "      <th></th>\n",
       "      <th>A</th>\n",
       "      <th>B</th>\n",
       "    </tr>\n",
       "  </thead>\n",
       "  <tbody>\n",
       "    <tr>\n",
       "      <th>2018-01-01</th>\n",
       "      <td>0.303911</td>\n",
       "      <td>0.991289</td>\n",
       "    </tr>\n",
       "    <tr>\n",
       "      <th>2018-01-02</th>\n",
       "      <td>-0.825885</td>\n",
       "      <td>-0.837956</td>\n",
       "    </tr>\n",
       "    <tr>\n",
       "      <th>2018-01-03</th>\n",
       "      <td>-0.427531</td>\n",
       "      <td>-0.456775</td>\n",
       "    </tr>\n",
       "    <tr>\n",
       "      <th>2018-01-04</th>\n",
       "      <td>0.919372</td>\n",
       "      <td>0.204620</td>\n",
       "    </tr>\n",
       "    <tr>\n",
       "      <th>2018-01-05</th>\n",
       "      <td>-0.538181</td>\n",
       "      <td>0.849280</td>\n",
       "    </tr>\n",
       "    <tr>\n",
       "      <th>2018-01-06</th>\n",
       "      <td>0.425915</td>\n",
       "      <td>-0.405431</td>\n",
       "    </tr>\n",
       "  </tbody>\n",
       "</table>\n",
       "</div>"
      ],
      "text/plain": [
       "                   A         B\n",
       "2018-01-01  0.303911  0.991289\n",
       "2018-01-02 -0.825885 -0.837956\n",
       "2018-01-03 -0.427531 -0.456775\n",
       "2018-01-04  0.919372  0.204620\n",
       "2018-01-05 -0.538181  0.849280\n",
       "2018-01-06  0.425915 -0.405431"
      ]
     },
     "execution_count": 15,
     "metadata": {},
     "output_type": "execute_result"
    }
   ],
   "source": [
    "#=== By Label: Selecting multi-axis by column labels \n",
    "df.loc[:,['A','B']]"
   ]
  },
  {
   "cell_type": "code",
   "execution_count": 16,
   "metadata": {},
   "outputs": [
    {
     "data": {
      "text/html": [
       "<div>\n",
       "<style>\n",
       "    .dataframe thead tr:only-child th {\n",
       "        text-align: right;\n",
       "    }\n",
       "\n",
       "    .dataframe thead th {\n",
       "        text-align: left;\n",
       "    }\n",
       "\n",
       "    .dataframe tbody tr th {\n",
       "        vertical-align: top;\n",
       "    }\n",
       "</style>\n",
       "<table border=\"1\" class=\"dataframe\">\n",
       "  <thead>\n",
       "    <tr style=\"text-align: right;\">\n",
       "      <th></th>\n",
       "      <th>A</th>\n",
       "      <th>B</th>\n",
       "    </tr>\n",
       "  </thead>\n",
       "  <tbody>\n",
       "    <tr>\n",
       "      <th>2018-01-01</th>\n",
       "      <td>0.303911</td>\n",
       "      <td>0.991289</td>\n",
       "    </tr>\n",
       "    <tr>\n",
       "      <th>2018-01-02</th>\n",
       "      <td>-0.825885</td>\n",
       "      <td>-0.837956</td>\n",
       "    </tr>\n",
       "    <tr>\n",
       "      <th>2018-01-03</th>\n",
       "      <td>-0.427531</td>\n",
       "      <td>-0.456775</td>\n",
       "    </tr>\n",
       "  </tbody>\n",
       "</table>\n",
       "</div>"
      ],
      "text/plain": [
       "                   A         B\n",
       "2018-01-01  0.303911  0.991289\n",
       "2018-01-02 -0.825885 -0.837956\n",
       "2018-01-03 -0.427531 -0.456775"
      ]
     },
     "execution_count": 16,
     "metadata": {},
     "output_type": "execute_result"
    }
   ],
   "source": [
    "#== By Label: row range by data index, column range by column names \n",
    "df.loc['20180101':'20180103', ['A','B']]"
   ]
  },
  {
   "cell_type": "code",
   "execution_count": 17,
   "metadata": {},
   "outputs": [
    {
     "data": {
      "text/plain": [
       "A   -0.427531\n",
       "B   -0.456775\n",
       "Name: 2018-01-03 00:00:00, dtype: float64"
      ]
     },
     "execution_count": 17,
     "metadata": {},
     "output_type": "execute_result"
    }
   ],
   "source": [
    "#== By label: only one row -> dimension reduction \n",
    "df.loc['20180103', ['A','B']]"
   ]
  },
  {
   "cell_type": "code",
   "execution_count": 18,
   "metadata": {},
   "outputs": [
    {
     "data": {
      "text/plain": [
       "-0.4275313888992342"
      ]
     },
     "execution_count": 18,
     "metadata": {},
     "output_type": "execute_result"
    }
   ],
   "source": [
    "#== By Label: A parcular cell (scalar value)\n",
    "df.loc['20180103','A']"
   ]
  },
  {
   "cell_type": "code",
   "execution_count": 19,
   "metadata": {},
   "outputs": [
    {
     "data": {
      "text/plain": [
       "-0.4275313888992342"
      ]
     },
     "execution_count": 19,
     "metadata": {},
     "output_type": "execute_result"
    }
   ],
   "source": [
    "#== By Label: Same as above, but faster \n",
    "df.at[dates[2],'A']"
   ]
  },
  {
   "cell_type": "code",
   "execution_count": 20,
   "metadata": {},
   "outputs": [
    {
     "name": "stdout",
     "output_type": "stream",
     "text": [
      "A    0.919372\n",
      "B    0.204620\n",
      "C   -0.360945\n",
      "D    0.539669\n",
      "Name: 2018-01-04 00:00:00, dtype: float64 \n",
      "\n",
      "                   A        B\n",
      "2018-01-04  0.919372  0.20462\n",
      "2018-01-05 -0.538181  0.84928 \n",
      "\n",
      "                   A         C\n",
      "2018-01-02 -0.825885 -2.824791\n",
      "2018-01-03 -0.427531 -0.541133\n",
      "2018-01-05 -0.538181  0.622280 \n",
      "\n",
      "                   A         B         C         D\n",
      "2018-01-02 -0.825885 -0.837956 -2.824791 -0.063970\n",
      "2018-01-03 -0.427531 -0.456775 -0.541133  0.671176 \n",
      "\n",
      "                   B         C\n",
      "2018-01-01  0.991289  0.689667\n",
      "2018-01-02 -0.837956 -2.824791\n",
      "2018-01-03 -0.456775 -0.541133\n",
      "2018-01-04  0.204620 -0.360945\n",
      "2018-01-05  0.849280  0.622280\n",
      "2018-01-06 -0.405431  1.169618 \n",
      "\n",
      "-0.837955531194\n"
     ]
    }
   ],
   "source": [
    "#== By position (row/column indexes)\n",
    "print(df.iloc[3],'\\n')\n",
    "\n",
    "print(df.iloc[3:5,0:2],'\\n')\n",
    "\n",
    "print(df.iloc[[1,2,4],[0,2]],'\\n')\n",
    "\n",
    "print(df.iloc[1:3,:],'\\n')\n",
    "\n",
    "print(df.iloc[:,1:3],'\\n')\n",
    "\n",
    "print(df.iloc[1,1])"
   ]
  },
  {
   "cell_type": "code",
   "execution_count": 21,
   "metadata": {},
   "outputs": [
    {
     "name": "stdout",
     "output_type": "stream",
     "text": [
      "                   A         B         C         D\n",
      "2018-01-01  0.303911  0.991289  0.689667 -0.591203\n",
      "2018-01-04  0.919372  0.204620 -0.360945  0.539669\n",
      "2018-01-05 -0.538181  0.849280  0.622280  0.660690 \n",
      "\n",
      "                   A         B         C         D\n",
      "2018-01-01  0.303911  0.991289  0.689667       NaN\n",
      "2018-01-02       NaN       NaN       NaN       NaN\n",
      "2018-01-03       NaN       NaN       NaN  0.671176\n",
      "2018-01-04  0.919372  0.204620       NaN  0.539669\n",
      "2018-01-05       NaN  0.849280  0.622280  0.660690\n",
      "2018-01-06  0.425915       NaN  1.169618       NaN \n",
      "\n"
     ]
    }
   ],
   "source": [
    "#== Boolean Indexing \n",
    "print(df[df.B>0],'\\n')\n",
    "\n",
    "print(df[df>0],'\\n')"
   ]
  },
  {
   "cell_type": "code",
   "execution_count": 22,
   "metadata": {
    "scrolled": true
   },
   "outputs": [
    {
     "name": "stdout",
     "output_type": "stream",
     "text": [
      "     A          B    C  D      E    F\n",
      "0  1.0 2018-01-01  1.0  3   test  foo\n",
      "1  1.0 2018-01-01  1.0  3  train  foo\n",
      "2  1.0 2018-01-01  1.0  3  train  foo\n",
      "3  1.0 2018-01-01  1.0  4   test  foo \n",
      "\n",
      "     A          B    C  D     E    F\n",
      "0  1.0 2018-01-01  1.0  3  test  foo\n",
      "3  1.0 2018-01-01  1.0  4  test  foo\n"
     ]
    }
   ],
   "source": [
    "#== Using isin() method \n",
    "print(df2,'\\n')\n",
    "\n",
    "print(df2[df2['E'].isin(['test'])])  # select E column=='test' only "
   ]
  },
  {
   "cell_type": "markdown",
   "metadata": {},
   "source": [
    "## Setting (by Selection)"
   ]
  },
  {
   "cell_type": "code",
   "execution_count": 23,
   "metadata": {},
   "outputs": [
    {
     "data": {
      "text/plain": [
       "6"
      ]
     },
     "execution_count": 23,
     "metadata": {},
     "output_type": "execute_result"
    }
   ],
   "source": [
    "# prerequisite:  len(df) = # of data rows \n",
    "len(df)"
   ]
  },
  {
   "cell_type": "code",
   "execution_count": 24,
   "metadata": {
    "scrolled": true
   },
   "outputs": [
    {
     "name": "stdout",
     "output_type": "stream",
     "text": [
      "2018-01-02    1\n",
      "2018-01-03    2\n",
      "2018-01-04    3\n",
      "2018-01-05    4\n",
      "2018-01-06    5\n",
      "2018-01-07    6\n",
      "Freq: D, dtype: int64 \n",
      "\n",
      "                   A         B         C         D    F\n",
      "2018-01-01  0.303911  0.991289  0.689667 -0.591203  NaN\n",
      "2018-01-02 -0.825885 -0.837956 -2.824791 -0.063970  1.0\n",
      "2018-01-03 -0.427531 -0.456775 -0.541133  0.671176  2.0\n",
      "2018-01-04  0.919372  0.204620 -0.360945  0.539669  3.0\n",
      "2018-01-05 -0.538181  0.849280  0.622280  0.660690  4.0\n",
      "2018-01-06  0.425915 -0.405431  1.169618 -0.269208  5.0 \n",
      "\n",
      "                   A         B         C  D    F\n",
      "2018-01-01  0.000000 -1.000000  0.689667  5  NaN\n",
      "2018-01-02 -0.825885 -0.837956 -2.824791  5  1.0\n",
      "2018-01-03 -0.427531 -0.456775 -0.541133  5  2.0\n",
      "2018-01-04  0.919372  0.204620 -0.360945  5  3.0\n",
      "2018-01-05 -0.538181  0.849280  0.622280  5  4.0\n",
      "2018-01-06  0.425915 -0.405431  1.169618  5  5.0\n"
     ]
    }
   ],
   "source": [
    "s1 = pd.Series([1,2,3,4,5,6],index=pd.date_range('20180102',periods=6))\n",
    "print(s1,'\\n')\n",
    "\n",
    "#== Set by Series (new column)\n",
    "df['F'] = s1;   # Note that last element of s1 is not set to df[]. Not union, outer join. \n",
    "print(df,'\\n')\n",
    "\n",
    "#== Set by label \n",
    "df.at[dates[0], 'A'] = 0\n",
    "\n",
    "#== Set by position index \n",
    "df.iat[0,1] = -1  # 'B' column first row\n",
    "\n",
    "#== Set by numpy array \n",
    "df.loc[:,'D'] = np.array([5]*len(df))\n",
    "\n",
    "print(df)"
   ]
  },
  {
   "cell_type": "code",
   "execution_count": 25,
   "metadata": {
    "scrolled": true
   },
   "outputs": [
    {
     "name": "stdout",
     "output_type": "stream",
     "text": [
      "                   A         B         C  D    F\n",
      "2018-01-01  0.000000  1.000000  0.689667  5  NaN\n",
      "2018-01-02  0.825885  0.837956  2.824791  5  1.0\n",
      "2018-01-03  0.427531  0.456775  0.541133  5  2.0\n",
      "2018-01-04  0.919372  0.204620  0.360945  5  3.0\n",
      "2018-01-05  0.538181  0.849280  0.622280  5  4.0\n",
      "2018-01-06  0.425915  0.405431  1.169618  5  5.0\n"
     ]
    }
   ],
   "source": [
    "#== Selective overwite \n",
    "dfx = df.copy()\n",
    "dfx[dfx < 0] = -dfx  # abs\n",
    "print(dfx)"
   ]
  },
  {
   "cell_type": "markdown",
   "metadata": {},
   "source": [
    "## Missing Data"
   ]
  },
  {
   "cell_type": "code",
   "execution_count": 26,
   "metadata": {},
   "outputs": [
    {
     "name": "stdout",
     "output_type": "stream",
     "text": [
      "                   A         B         C  D    F   E\n",
      "2018-01-01  0.000000 -1.000000  0.689667  5  NaN NaN\n",
      "2018-01-02 -0.825885 -0.837956 -2.824791  5  1.0 NaN\n",
      "2018-01-03 -0.427531 -0.456775 -0.541133  5  2.0 NaN\n",
      "2018-01-04  0.919372  0.204620 -0.360945  5  3.0 NaN \n",
      "\n",
      "                   A         B         C  D    F    E\n",
      "2018-01-01  0.000000 -1.000000  0.689667  5  NaN  1.0\n",
      "2018-01-02 -0.825885 -0.837956 -2.824791  5  1.0  1.0\n",
      "2018-01-03 -0.427531 -0.456775 -0.541133  5  2.0  NaN\n",
      "2018-01-04  0.919372  0.204620 -0.360945  5  3.0  NaN \n",
      "\n"
     ]
    }
   ],
   "source": [
    "#== Reindex and get new DataFrame (subset) \n",
    "dfx = df.reindex( index=dates[0:4], columns=list(df.columns) + ['E'])\n",
    "print(dfx, '\\n')\n",
    "\n",
    "dfx.loc[dates[0]:dates[1], 'E'] = 1\n",
    "print(dfx, '\\n')"
   ]
  },
  {
   "cell_type": "code",
   "execution_count": 27,
   "metadata": {},
   "outputs": [
    {
     "name": "stdout",
     "output_type": "stream",
     "text": [
      "                   A         B         C  D    F    E\n",
      "2018-01-02 -0.825885 -0.837956 -2.824791  5  1.0  1.0\n"
     ]
    }
   ],
   "source": [
    "#== Drop any rows having missing data \n",
    "print(dfx.dropna(how='any'))"
   ]
  },
  {
   "cell_type": "code",
   "execution_count": 28,
   "metadata": {
    "scrolled": true
   },
   "outputs": [
    {
     "name": "stdout",
     "output_type": "stream",
     "text": [
      "                   A         B         C  D       F       E\n",
      "2018-01-01  0.000000 -1.000000  0.689667  5 -999.25    1.00\n",
      "2018-01-02 -0.825885 -0.837956 -2.824791  5    1.00    1.00\n",
      "2018-01-03 -0.427531 -0.456775 -0.541133  5    2.00 -999.25\n",
      "2018-01-04  0.919372  0.204620 -0.360945  5    3.00 -999.25 \n",
      "\n",
      "                   A         B         C  D    F    E\n",
      "2018-01-01  0.000000 -1.000000  0.689667  5  NaN  1.0\n",
      "2018-01-02 -0.825885 -0.837956 -2.824791  5  1.0  1.0\n",
      "2018-01-03 -0.427531 -0.456775 -0.541133  5  2.0  NaN\n",
      "2018-01-04  0.919372  0.204620 -0.360945  5  3.0  NaN\n"
     ]
    }
   ],
   "source": [
    "#== Filling missing value \n",
    "print(dfx.fillna(value=-999.25),'\\n')\n",
    "print(dfx) # original data remains unchanged. "
   ]
  },
  {
   "cell_type": "code",
   "execution_count": 29,
   "metadata": {},
   "outputs": [
    {
     "name": "stdout",
     "output_type": "stream",
     "text": [
      "                A      B      C      D      F      E\n",
      "2018-01-01  False  False  False  False   True  False\n",
      "2018-01-02  False  False  False  False  False  False\n",
      "2018-01-03  False  False  False  False  False   True\n",
      "2018-01-04  False  False  False  False  False   True\n"
     ]
    }
   ],
   "source": [
    "#== Check if NaN or not \n",
    "#print(pd.isna(dfx)) <== depreted?? \n",
    "print(pd.isnull(dfx))"
   ]
  },
  {
   "cell_type": "markdown",
   "metadata": {},
   "source": [
    "## Operations"
   ]
  },
  {
   "cell_type": "markdown",
   "metadata": {},
   "source": [
    "### Stats"
   ]
  },
  {
   "cell_type": "code",
   "execution_count": 30,
   "metadata": {},
   "outputs": [
    {
     "data": {
      "text/plain": [
       "A   -0.074385\n",
       "B   -0.274377\n",
       "C   -0.207551\n",
       "D    5.000000\n",
       "F    3.000000\n",
       "dtype: float64"
      ]
     },
     "execution_count": 30,
     "metadata": {},
     "output_type": "execute_result"
    }
   ],
   "source": [
    "# mean() along each column \n",
    "df.mean() # same as df.mean(0)"
   ]
  },
  {
   "cell_type": "code",
   "execution_count": 31,
   "metadata": {},
   "outputs": [
    {
     "data": {
      "text/plain": [
       "2018-01-01    1.172417\n",
       "2018-01-02    0.302274\n",
       "2018-01-03    1.114912\n",
       "2018-01-04    1.752610\n",
       "2018-01-05    1.986676\n",
       "2018-01-06    2.238021\n",
       "Freq: D, dtype: float64"
      ]
     },
     "execution_count": 31,
     "metadata": {},
     "output_type": "execute_result"
    }
   ],
   "source": [
    "# mean() along each row (axis=1)\n",
    "df.mean(1)"
   ]
  },
  {
   "cell_type": "code",
   "execution_count": 32,
   "metadata": {},
   "outputs": [
    {
     "name": "stdout",
     "output_type": "stream",
     "text": [
      "                   A         B         C  D    F\n",
      "2018-01-01  0.000000 -1.000000  0.689667  5  NaN\n",
      "2018-01-02 -0.825885 -0.837956 -2.824791  5  1.0\n",
      "2018-01-03 -0.427531 -0.456775 -0.541133  5  2.0\n",
      "2018-01-04  0.919372  0.204620 -0.360945  5  3.0\n",
      "2018-01-05 -0.538181  0.849280  0.622280  5  4.0\n",
      "2018-01-06  0.425915 -0.405431  1.169618  5  5.0 \n",
      "\n",
      "2018-01-01    NaN\n",
      "2018-01-02    NaN\n",
      "2018-01-03    1.0\n",
      "2018-01-04    3.0\n",
      "2018-01-05    5.0\n",
      "2018-01-06    NaN\n",
      "Freq: D, dtype: float64 \n",
      "\n",
      "                   A         B         C    D    F\n",
      "2018-01-01       NaN       NaN       NaN  NaN  NaN\n",
      "2018-01-02       NaN       NaN       NaN  NaN  NaN\n",
      "2018-01-03 -1.427531 -1.456775 -1.541133  4.0  1.0\n",
      "2018-01-04 -2.080628 -2.795380 -3.360945  2.0  0.0\n",
      "2018-01-05 -5.538181 -4.150720 -4.377720  0.0 -1.0\n",
      "2018-01-06       NaN       NaN       NaN  NaN  NaN\n"
     ]
    }
   ],
   "source": [
    "# subtract \n",
    "print(df,'\\n')\n",
    "\n",
    "s = pd.Series([1,3,5,np.nan,6,8],index=dates).shift(2) # shift 2 rows down (2 NaN at top)\n",
    "print(s,'\\n')\n",
    "\n",
    "# subtract \n",
    "print(df.sub(s,axis='index'))"
   ]
  },
  {
   "cell_type": "markdown",
   "metadata": {},
   "source": [
    "### Apply "
   ]
  },
  {
   "cell_type": "code",
   "execution_count": 33,
   "metadata": {},
   "outputs": [
    {
     "name": "stdout",
     "output_type": "stream",
     "text": [
      "                   A         B         C   D     F\n",
      "2018-01-01  0.000000 -1.000000  0.689667   5   NaN\n",
      "2018-01-02 -0.825885 -1.837956 -2.135124  10   1.0\n",
      "2018-01-03 -1.253417 -2.294730 -2.676258  15   3.0\n",
      "2018-01-04 -0.334045 -2.090110 -3.037202  20   6.0\n",
      "2018-01-05 -0.872226 -1.240830 -2.414922  25  10.0\n",
      "2018-01-06 -0.446310 -1.646260 -1.245304  30  15.0\n"
     ]
    }
   ],
   "source": [
    "# Apply np.cumsum() to each column \n",
    "print(df.apply(np.cumsum))"
   ]
  },
  {
   "cell_type": "code",
   "execution_count": 34,
   "metadata": {},
   "outputs": [
    {
     "name": "stdout",
     "output_type": "stream",
     "text": [
      "                   A         B         C  D    F\n",
      "2018-01-01  0.000000 -1.000000  0.689667  5  NaN\n",
      "2018-01-02 -0.825885 -0.837956 -2.824791  5  1.0\n",
      "2018-01-03 -0.427531 -0.456775 -0.541133  5  2.0\n",
      "2018-01-04  0.919372  0.204620 -0.360945  5  3.0\n",
      "2018-01-05 -0.538181  0.849280  0.622280  5  4.0\n",
      "2018-01-06  0.425915 -0.405431  1.169618  5  5.0 \n",
      "\n",
      "A    1.745258\n",
      "B    1.849280\n",
      "C    3.994410\n",
      "D    0.000000\n",
      "F    4.000000\n",
      "dtype: float64\n"
     ]
    }
   ],
   "source": [
    "# Apply lambda function to each column.  This example yilelds scalar value from function.\n",
    "# As seen below, NaN is ignored in calculation. \n",
    "print(df,'\\n')\n",
    "print(df.apply(lambda x: x.max()-x.min()))"
   ]
  },
  {
   "cell_type": "code",
   "execution_count": 35,
   "metadata": {},
   "outputs": [
    {
     "name": "stdout",
     "output_type": "stream",
     "text": [
      "                   A         B         C  D    F\n",
      "2018-01-01  0.000000  1.000000  0.689667  5  NaN\n",
      "2018-01-02  0.825885  0.837956  2.824791  5  1.0\n",
      "2018-01-03  0.427531  0.456775  0.541133  5  2.0\n",
      "2018-01-04  0.919372  0.204620  0.360945  5  3.0\n",
      "2018-01-05  0.538181  0.849280  0.622280  5  4.0\n",
      "2018-01-06  0.425915  0.405431  1.169618  5  5.0 \n",
      "\n",
      "                   A         B         C    D    F\n",
      "2018-01-01  0.000000  1.000000  0.689667  5.0  NaN\n",
      "2018-01-02  0.825885  0.837956  2.824791  5.0  1.0\n",
      "2018-01-03  0.427531  0.456775  0.541133  5.0  2.0\n",
      "2018-01-04  0.919372  0.204620  0.360945  5.0  3.0\n",
      "2018-01-05  0.538181  0.849280  0.622280  5.0  4.0\n",
      "2018-01-06  0.425915  0.405431  1.169618  5.0  5.0\n"
     ]
    }
   ],
   "source": [
    "print(df.apply(lambda x: abs(x)),'\\n')  # example of element-by-element lambda fx\n",
    "print(df.abs()) # same result (to confirm)"
   ]
  },
  {
   "cell_type": "markdown",
   "metadata": {},
   "source": [
    "### Histogram "
   ]
  },
  {
   "cell_type": "code",
   "execution_count": 36,
   "metadata": {},
   "outputs": [
    {
     "name": "stdout",
     "output_type": "stream",
     "text": [
      "0    3\n",
      "1    0\n",
      "2    4\n",
      "3    0\n",
      "4    1\n",
      "5    4\n",
      "6    3\n",
      "7    5\n",
      "8    6\n",
      "9    6\n",
      "dtype: int64 \n",
      "\n"
     ]
    },
    {
     "data": {
      "text/plain": [
       "6    2\n",
       "4    2\n",
       "3    2\n",
       "0    2\n",
       "5    1\n",
       "1    1\n",
       "dtype: int64"
      ]
     },
     "execution_count": 36,
     "metadata": {},
     "output_type": "execute_result"
    }
   ],
   "source": [
    "# sample data: note that Series auto-generate index \n",
    "s = pd.Series(np.random.randint(0,7,size=10))  #low,high,size \n",
    "print(s,'\\n')\n",
    "\n",
    "# histogram by value_counts\n",
    "s.value_counts()"
   ]
  },
  {
   "cell_type": "markdown",
   "metadata": {},
   "source": [
    "### String method"
   ]
  },
  {
   "cell_type": "code",
   "execution_count": 37,
   "metadata": {},
   "outputs": [
    {
     "data": {
      "text/plain": [
       "0      a\n",
       "1      b\n",
       "2      c\n",
       "3    NaN\n",
       "4    dog\n",
       "dtype: object"
      ]
     },
     "execution_count": 37,
     "metadata": {},
     "output_type": "execute_result"
    }
   ],
   "source": [
    "s = pd.Series(['A','B','C',np.nan,'Dog'])\n",
    "s.str.lower()"
   ]
  },
  {
   "cell_type": "markdown",
   "metadata": {},
   "source": [
    "## Merge"
   ]
  },
  {
   "cell_type": "markdown",
   "metadata": {},
   "source": [
    "### Concat"
   ]
  },
  {
   "cell_type": "code",
   "execution_count": 44,
   "metadata": {},
   "outputs": [
    {
     "name": "stdout",
     "output_type": "stream",
     "text": [
      "          0         1         2         3\n",
      "0  0.816014  0.800260  2.131963 -0.891388\n",
      "1  1.044397  1.616341  0.566266 -0.765976\n",
      "2  0.618752  0.175383 -2.377174  1.299625\n",
      "3 -0.329461  0.317405 -1.143375 -1.594946\n",
      "4 -1.768759  0.979294 -0.983089  1.004043\n",
      "5 -0.620545 -0.566916  0.565525  0.425026\n",
      "6  0.189152 -0.990137 -0.905014  1.096628\n",
      "7  0.128726 -0.876221 -0.866806  0.190657\n",
      "8 -0.462804 -0.510500  0.318471 -0.469022\n",
      "9  1.332627 -0.427660  0.268435 -0.189847 \n",
      "\n",
      "          0         1         2         3\n",
      "0  0.816014  0.800260  2.131963 -0.891388\n",
      "1  1.044397  1.616341  0.566266 -0.765976\n",
      "2  0.618752  0.175383 -2.377174  1.299625\n",
      "3 -0.329461  0.317405 -1.143375 -1.594946\n",
      "4 -1.768759  0.979294 -0.983089  1.004043\n",
      "5 -0.620545 -0.566916  0.565525  0.425026\n",
      "6  0.189152 -0.990137 -0.905014  1.096628\n",
      "7  0.128726 -0.876221 -0.866806  0.190657\n",
      "8 -0.462804 -0.510500  0.318471 -0.469022\n",
      "9  1.332627 -0.427660  0.268435 -0.189847\n"
     ]
    }
   ],
   "source": [
    "# original DataFarme\n",
    "df = pd.DataFrame(np.random.randn(10,4))\n",
    "print(df,'\\n')\n",
    "\n",
    "# Split into pieces - row wise\n",
    "pf1 = df[:3]\n",
    "pf2 = df[3:7]\n",
    "pf3 = df[7:]\n",
    "\n",
    "# Combine multiple data frames, row-wise, into one : Result should be indentical to oringinal\n",
    "df2 = pd.concat([pf1,pf2,pf3])\n",
    "print(df2)"
   ]
  },
  {
   "cell_type": "markdown",
   "metadata": {},
   "source": [
    "### Join   \n",
    "pandas.merge() method has 'how' option to specify merge method.   \n",
    "- **left** = Left Outer Join (Use keys from left frame only)   : ***SQL = LEFT_OUTER_JOIN ***\n",
    "- **right** = Right Outer Join (Use key from right frame only) : SQL = RIGHT_OUTER_JOIN\n",
    "- **outer** = Use union of keys from both frames  : SQL = FULL_OUTER_JOIN\n",
    "- **inner** = Use intersection of keys from both frames : SQL = INNER_JOIN"
   ]
  },
  {
   "cell_type": "code",
   "execution_count": 83,
   "metadata": {},
   "outputs": [
    {
     "name": "stdout",
     "output_type": "stream",
     "text": [
      "   key  qval\n",
      "0  foo     1\n",
      "1  foo     2 \n",
      "\n",
      "    key  rval\n",
      "0  foo     4\n",
      "1  foo     5 \n",
      "\n",
      "   key  qval  rval\n",
      "0  foo     1     4\n",
      "1  foo     1     5\n",
      "2  foo     2     4\n",
      "3  foo     2     5\n"
     ]
    }
   ],
   "source": [
    "# column 'ival' and 'rval' are different - no merge occurs \n",
    "left = pd.DataFrame({'key':['foo','foo'], 'qval': [1,2]})\n",
    "right = pd.DataFrame({'key': ['foo','foo'], 'rval': [4,5]})\n",
    "\n",
    "print( left,'\\n\\n', right,'\\n')\n",
    "\n",
    "#pandas.merge()  - 'how' = 'inner' by default \n",
    "\n",
    "#== 'key' column is 'foo' to all rows, both to left and right, cannot be used as index. \n",
    "#== Only 'key' column is commonly used after merge\n",
    "print( pd.merge(left,right,on='key'))"
   ]
  },
  {
   "cell_type": "code",
   "execution_count": 84,
   "metadata": {},
   "outputs": [
    {
     "name": "stdout",
     "output_type": "stream",
     "text": [
      "   key  qval  rval\n",
      "0  foo     1     4\n",
      "1  boo     2     5\n"
     ]
    }
   ],
   "source": [
    "# When both left and right has unique key values\n",
    "left = pd.DataFrame({'key':['foo','boo'], 'qval': [1,2]})\n",
    "right = pd.DataFrame({'key': ['foo','boo','zoo'], 'rval': [4,5,100]})\n",
    "\n",
    "# The 'inner' is taken. key='zoo' in the right is not adapted into merge result.  \n",
    "print( pd.merge(left,right,on='key'))"
   ]
  },
  {
   "cell_type": "code",
   "execution_count": 85,
   "metadata": {},
   "outputs": [
    {
     "name": "stdout",
     "output_type": "stream",
     "text": [
      "    A   B key1 key2\n",
      "0  A0  B0   K0   K0\n",
      "1  A1  B1   K0   K1\n",
      "2  A2  B2   K1   K0\n",
      "3  A3  B3   K2   K1 \n",
      "\n",
      "    C   D key1 key2\n",
      "0  C0  D0   K0   K0\n",
      "1  C1  D1   K1   K0\n",
      "2  C2  D2   K1   K0\n",
      "3  C3  D3   K2   K0 \n",
      "\n",
      "=== Inner===\n",
      "    A   B key1 key2   C   D\n",
      "0  A0  B0   K0   K0  C0  D0\n",
      "1  A2  B2   K1   K0  C1  D1\n",
      "2  A2  B2   K1   K0  C2  D2 \n",
      "\n",
      "=== Left===\n",
      "    A   B key1 key2    C    D\n",
      "0  A0  B0   K0   K0   C0   D0\n",
      "1  A1  B1   K0   K1  NaN  NaN\n",
      "2  A2  B2   K1   K0   C1   D1\n",
      "3  A2  B2   K1   K0   C2   D2\n",
      "4  A3  B3   K2   K1  NaN  NaN \n",
      "\n",
      "=== Right===\n",
      "     A    B key1 key2   C   D\n",
      "0   A0   B0   K0   K0  C0  D0\n",
      "1   A2   B2   K1   K0  C1  D1\n",
      "2   A2   B2   K1   K0  C2  D2\n",
      "3  NaN  NaN   K2   K0  C3  D3 \n",
      "\n",
      "=== Outer===\n",
      "     A    B key1 key2    C    D\n",
      "0   A0   B0   K0   K0   C0   D0\n",
      "1   A1   B1   K0   K1  NaN  NaN\n",
      "2   A2   B2   K1   K0   C1   D1\n",
      "3   A2   B2   K1   K0   C2   D2\n",
      "4   A3   B3   K2   K1  NaN  NaN\n",
      "5  NaN  NaN   K2   K0   C3   D3 \n",
      "\n"
     ]
    }
   ],
   "source": [
    "# Using two columns as keys \n",
    "left = pd.DataFrame({   'key1': ['K0', 'K0', 'K1', 'K2'],\n",
    "                        'key2': ['K0', 'K1', 'K0', 'K1'],\n",
    "                         'A': ['A0', 'A1', 'A2', 'A3'],\n",
    "                         'B': ['B0', 'B1', 'B2', 'B3']} )\n",
    "\n",
    "right = pd.DataFrame({  'key1': ['K0', 'K1', 'K1', 'K2'],\n",
    "                        'key2': ['K0', 'K0', 'K0', 'K0'],\n",
    "                          'C': ['C0', 'C1', 'C2', 'C3'],\n",
    "                          'D': ['D0', 'D1', 'D2', 'D3']})\n",
    "\n",
    "print(left,'\\n')\n",
    "print(right,'\\n')\n",
    "\n",
    "# NOTE: After merge, [key1,key2]=[K1,K0] appears in 2 rows \n",
    "# [A,B] = [A2,B2] are duplicated in row-1 & 2, for [C,D] = [C1,D1] & [C2,D2] respectively. \n",
    "result = pd.merge( left, right, on=['key1','key2'])\n",
    "print('=== Inner===')\n",
    "print(result, '\\n')\n",
    "\n",
    "# Left \n",
    "result = pd.merge( left, right, how='left', on=['key1','key2'])\n",
    "print('=== Left===')\n",
    "print(result, '\\n')\n",
    "\n",
    "# Right \n",
    "result = pd.merge( left, right, how='right', on=['key1','key2'])\n",
    "print('=== Right===')\n",
    "print(result, '\\n')\n",
    "\n",
    "# Right \n",
    "result = pd.merge( left, right, how='outer', on=['key1','key2'])\n",
    "print('=== Outer===')\n",
    "print(result, '\\n')\n",
    "\n"
   ]
  },
  {
   "cell_type": "markdown",
   "metadata": {},
   "source": [
    "## Grouping  \n",
    "- **Splitting** the data into groups based on some criteria   \n",
    "- **Applying** a function to each group independently \n",
    "- **Combining** the results into a data structure "
   ]
  },
  {
   "cell_type": "code",
   "execution_count": 89,
   "metadata": {},
   "outputs": [
    {
     "data": {
      "text/html": [
       "<div>\n",
       "<style>\n",
       "    .dataframe thead tr:only-child th {\n",
       "        text-align: right;\n",
       "    }\n",
       "\n",
       "    .dataframe thead th {\n",
       "        text-align: left;\n",
       "    }\n",
       "\n",
       "    .dataframe tbody tr th {\n",
       "        vertical-align: top;\n",
       "    }\n",
       "</style>\n",
       "<table border=\"1\" class=\"dataframe\">\n",
       "  <thead>\n",
       "    <tr style=\"text-align: right;\">\n",
       "      <th></th>\n",
       "      <th>A</th>\n",
       "      <th>B</th>\n",
       "      <th>C</th>\n",
       "      <th>D</th>\n",
       "    </tr>\n",
       "  </thead>\n",
       "  <tbody>\n",
       "    <tr>\n",
       "      <th>0</th>\n",
       "      <td>foo</td>\n",
       "      <td>one</td>\n",
       "      <td>0.259566</td>\n",
       "      <td>0.284804</td>\n",
       "    </tr>\n",
       "    <tr>\n",
       "      <th>1</th>\n",
       "      <td>bar</td>\n",
       "      <td>one</td>\n",
       "      <td>-1.027150</td>\n",
       "      <td>-1.311292</td>\n",
       "    </tr>\n",
       "    <tr>\n",
       "      <th>2</th>\n",
       "      <td>foo</td>\n",
       "      <td>two</td>\n",
       "      <td>0.367848</td>\n",
       "      <td>-0.601422</td>\n",
       "    </tr>\n",
       "    <tr>\n",
       "      <th>3</th>\n",
       "      <td>bar</td>\n",
       "      <td>three</td>\n",
       "      <td>0.399847</td>\n",
       "      <td>-0.110003</td>\n",
       "    </tr>\n",
       "    <tr>\n",
       "      <th>4</th>\n",
       "      <td>foo</td>\n",
       "      <td>two</td>\n",
       "      <td>0.731794</td>\n",
       "      <td>-0.531831</td>\n",
       "    </tr>\n",
       "    <tr>\n",
       "      <th>5</th>\n",
       "      <td>bar</td>\n",
       "      <td>two</td>\n",
       "      <td>-2.860152</td>\n",
       "      <td>0.144845</td>\n",
       "    </tr>\n",
       "    <tr>\n",
       "      <th>6</th>\n",
       "      <td>foo</td>\n",
       "      <td>one</td>\n",
       "      <td>-0.550896</td>\n",
       "      <td>-0.706346</td>\n",
       "    </tr>\n",
       "    <tr>\n",
       "      <th>7</th>\n",
       "      <td>foo</td>\n",
       "      <td>three</td>\n",
       "      <td>-0.287487</td>\n",
       "      <td>0.132591</td>\n",
       "    </tr>\n",
       "  </tbody>\n",
       "</table>\n",
       "</div>"
      ],
      "text/plain": [
       "     A      B         C         D\n",
       "0  foo    one  0.259566  0.284804\n",
       "1  bar    one -1.027150 -1.311292\n",
       "2  foo    two  0.367848 -0.601422\n",
       "3  bar  three  0.399847 -0.110003\n",
       "4  foo    two  0.731794 -0.531831\n",
       "5  bar    two -2.860152  0.144845\n",
       "6  foo    one -0.550896 -0.706346\n",
       "7  foo  three -0.287487  0.132591"
      ]
     },
     "execution_count": 89,
     "metadata": {},
     "output_type": "execute_result"
    }
   ],
   "source": [
    "A = ['foo','bar','foo','bar', \n",
    "     'foo','bar','foo','foo' ]\n",
    "B = ['one','one','two','three',\n",
    "     'two','two','one','three']\n",
    "C = np.random.randn(8)\n",
    "D = np.random.randn(8)\n",
    "df = pd.DataFrame({'A':A, 'B':B, 'C':C, 'D':D})\n",
    "df"
   ]
  },
  {
   "cell_type": "code",
   "execution_count": 126,
   "metadata": {},
   "outputs": [
    {
     "name": "stdout",
     "output_type": "stream",
     "text": [
      "<pandas.core.groupby.DataFrameGroupBy object at 0x7fb54b81b5c0>\n",
      "     A      B         C         D\n",
      "0  foo    one  0.259566  0.284804\n",
      "2  foo    two  0.367848 -0.601422\n",
      "4  foo    two  0.731794 -0.531831\n",
      "6  foo    one -0.550896 -0.706346\n",
      "7  foo  three -0.287487  0.132591\n",
      "     A      B         C         D\n",
      "1  bar    one -1.027150 -1.311292\n",
      "3  bar  three  0.399847 -0.110003\n",
      "5  bar    two -2.860152  0.144845\n",
      "\n",
      "\n",
      "{'bar': Int64Index([1, 3, 5], dtype='int64'), 'foo': Int64Index([0, 2, 4, 6, 7], dtype='int64')}\n",
      "2\n",
      "dict_keys(['bar', 'foo'])\n"
     ]
    }
   ],
   "source": [
    "# simply grouping by 'A' column - Result is <DataFrameGroupBy> object. \n",
    "ans = df.groupby('A')\n",
    "print(ans)\n",
    "\n",
    "# get_group() method by specifying the value of key used for grouping \n",
    "print(ans.get_group('foo'))\n",
    "print(ans.get_group('bar'))\n",
    "\n",
    "# all groups \n",
    "print('\\n')\n",
    "print(ans.groups)        # groups atrribute returns dict \n",
    "print(len(ans.groups))   # len() to dict \n",
    "print(ans.groups.keys()) # keys() to dict"
   ]
  },
  {
   "cell_type": "code",
   "execution_count": 92,
   "metadata": {},
   "outputs": [
    {
     "data": {
      "text/html": [
       "<div>\n",
       "<style>\n",
       "    .dataframe thead tr:only-child th {\n",
       "        text-align: right;\n",
       "    }\n",
       "\n",
       "    .dataframe thead th {\n",
       "        text-align: left;\n",
       "    }\n",
       "\n",
       "    .dataframe tbody tr th {\n",
       "        vertical-align: top;\n",
       "    }\n",
       "</style>\n",
       "<table border=\"1\" class=\"dataframe\">\n",
       "  <thead>\n",
       "    <tr style=\"text-align: right;\">\n",
       "      <th></th>\n",
       "      <th>C</th>\n",
       "      <th>D</th>\n",
       "    </tr>\n",
       "    <tr>\n",
       "      <th>A</th>\n",
       "      <th></th>\n",
       "      <th></th>\n",
       "    </tr>\n",
       "  </thead>\n",
       "  <tbody>\n",
       "    <tr>\n",
       "      <th>bar</th>\n",
       "      <td>-3.487456</td>\n",
       "      <td>-1.276450</td>\n",
       "    </tr>\n",
       "    <tr>\n",
       "      <th>foo</th>\n",
       "      <td>0.520826</td>\n",
       "      <td>-1.422205</td>\n",
       "    </tr>\n",
       "  </tbody>\n",
       "</table>\n",
       "</div>"
      ],
      "text/plain": [
       "            C         D\n",
       "A                      \n",
       "bar -3.487456 -1.276450\n",
       "foo  0.520826 -1.422205"
      ]
     },
     "execution_count": 92,
     "metadata": {},
     "output_type": "execute_result"
    }
   ],
   "source": [
    "# group by 'A' column for the same value, and take sum to each group \n",
    "# Column 'B' is ignored for sum() operation \n",
    "ans = df.groupby('A').sum()\n",
    "ans"
   ]
  },
  {
   "cell_type": "code",
   "execution_count": 127,
   "metadata": {
    "scrolled": true
   },
   "outputs": [
    {
     "data": {
      "text/html": [
       "<div>\n",
       "<style>\n",
       "    .dataframe thead tr:only-child th {\n",
       "        text-align: right;\n",
       "    }\n",
       "\n",
       "    .dataframe thead th {\n",
       "        text-align: left;\n",
       "    }\n",
       "\n",
       "    .dataframe tbody tr th {\n",
       "        vertical-align: top;\n",
       "    }\n",
       "</style>\n",
       "<table border=\"1\" class=\"dataframe\">\n",
       "  <thead>\n",
       "    <tr style=\"text-align: right;\">\n",
       "      <th></th>\n",
       "      <th></th>\n",
       "      <th>C</th>\n",
       "      <th>D</th>\n",
       "    </tr>\n",
       "    <tr>\n",
       "      <th>A</th>\n",
       "      <th>B</th>\n",
       "      <th></th>\n",
       "      <th></th>\n",
       "    </tr>\n",
       "  </thead>\n",
       "  <tbody>\n",
       "    <tr>\n",
       "      <th rowspan=\"3\" valign=\"top\">bar</th>\n",
       "      <th>one</th>\n",
       "      <td>-1.027150</td>\n",
       "      <td>-1.311292</td>\n",
       "    </tr>\n",
       "    <tr>\n",
       "      <th>three</th>\n",
       "      <td>0.399847</td>\n",
       "      <td>-0.110003</td>\n",
       "    </tr>\n",
       "    <tr>\n",
       "      <th>two</th>\n",
       "      <td>-2.860152</td>\n",
       "      <td>0.144845</td>\n",
       "    </tr>\n",
       "    <tr>\n",
       "      <th rowspan=\"3\" valign=\"top\">foo</th>\n",
       "      <th>one</th>\n",
       "      <td>-0.291330</td>\n",
       "      <td>-0.421542</td>\n",
       "    </tr>\n",
       "    <tr>\n",
       "      <th>three</th>\n",
       "      <td>-0.287487</td>\n",
       "      <td>0.132591</td>\n",
       "    </tr>\n",
       "    <tr>\n",
       "      <th>two</th>\n",
       "      <td>1.099643</td>\n",
       "      <td>-1.133254</td>\n",
       "    </tr>\n",
       "  </tbody>\n",
       "</table>\n",
       "</div>"
      ],
      "text/plain": [
       "                  C         D\n",
       "A   B                        \n",
       "bar one   -1.027150 -1.311292\n",
       "    three  0.399847 -0.110003\n",
       "    two   -2.860152  0.144845\n",
       "foo one   -0.291330 -0.421542\n",
       "    three -0.287487  0.132591\n",
       "    two    1.099643 -1.133254"
      ]
     },
     "execution_count": 127,
     "metadata": {},
     "output_type": "execute_result"
    }
   ],
   "source": [
    "# group by combination of 'A' and 'B' for taking sum \n",
    "ans = df.groupby(['A','B']).sum()\n",
    "ans"
   ]
  },
  {
   "cell_type": "markdown",
   "metadata": {},
   "source": [
    "## Reshaping \n"
   ]
  },
  {
   "cell_type": "markdown",
   "metadata": {},
   "source": [
    "### Stack "
   ]
  },
  {
   "cell_type": "code",
   "execution_count": 142,
   "metadata": {},
   "outputs": [
    {
     "name": "stdout",
     "output_type": "stream",
     "text": [
      "[('bar', 'one'), ('bar', 'two'), ('baz', 'one'), ('baz', 'two'), ('foo', 'one'), ('foo', 'two'), ('qux', 'one'), ('qux', 'two')] \n",
      "\n",
      "MultiIndex(levels=[['bar', 'baz', 'foo', 'qux'], ['one', 'two']],\n",
      "           labels=[[0, 0, 1, 1, 2, 2, 3, 3], [0, 1, 0, 1, 0, 1, 0, 1]],\n",
      "           names=['first', 'second']) \n",
      "\n",
      "                     A         B\n",
      "first second                    \n",
      "bar   one     1.266119  0.935017\n",
      "      two     0.160709  0.249043\n",
      "baz   one    -0.793861 -0.307768\n",
      "      two     0.385829 -1.163050\n",
      "foo   one    -2.054472  0.752439\n",
      "      two    -1.414418 -0.850356\n",
      "qux   one     1.102507  0.722204\n",
      "      two    -0.212556  0.247597 \n",
      "\n",
      "** df2 **\n",
      "                     A         B\n",
      "first second                    \n",
      "bar   one     1.266119  0.935017\n",
      "      two     0.160709  0.249043\n",
      "baz   one    -0.793861 -0.307768\n",
      "      two     0.385829 -1.163050 \n",
      "\n",
      "** df2.stack() **\n",
      "first  second   \n",
      "bar    one     A    1.266119\n",
      "               B    0.935017\n",
      "       two     A    0.160709\n",
      "               B    0.249043\n",
      "baz    one     A   -0.793861\n",
      "               B   -0.307768\n",
      "       two     A    0.385829\n",
      "               B   -1.163050\n",
      "dtype: float64 \n",
      "\n",
      "** stacked.unstack() **\n",
      "                     A         B\n",
      "first second                    \n",
      "bar   one     1.266119  0.935017\n",
      "      two     0.160709  0.249043\n",
      "baz   one    -0.793861 -0.307768\n",
      "      two     0.385829 -1.163050 \n",
      "\n",
      "** stacked.unstack(1) ***\n",
      "second        one       two\n",
      "first                      \n",
      "bar   A  1.266119  0.160709\n",
      "      B  0.935017  0.249043\n",
      "baz   A -0.793861  0.385829\n",
      "      B -0.307768 -1.163050 \n",
      "\n",
      "** stacked.unstack(0) ***\n",
      "first          bar       baz\n",
      "second                      \n",
      "one    A  1.266119 -0.793861\n",
      "       B  0.935017 -0.307768\n",
      "two    A  0.160709  0.385829\n",
      "       B  0.249043 -1.163050 \n",
      "\n"
     ]
    }
   ],
   "source": [
    "# list of tuples \n",
    "tuples = list(zip(*[ ['bar','bar','baz','baz','foo','foo','qux','qux'],\n",
    "                     ['one','two','one','two','one','two','one','two'] ]))\n",
    "print(tuples,'\\n')\n",
    "\n",
    "# pandas.MultiIndex.from_tuples\n",
    "index = pd.MultiIndex.from_tuples(tuples, names=['first','second'])\n",
    "print(index, '\\n')\n",
    "\n",
    "# Data frame with MultiIndex \n",
    "df = pd.DataFrame(np.random.randn(8,2), columns=['A','B'], index=index)\n",
    "print(df,'\\n')\n",
    "\n",
    "# Take 0~3 rows \n",
    "df2 = df[:4]\n",
    "print('** df2 **')\n",
    "print(df2,'\\n')\n",
    "\n",
    "# Stack multi-index data frame \n",
    "# Stack distributes the columns into different rows. \n",
    "stacked = df2.stack()\n",
    "print('** df2.stack() **')\n",
    "print(stacked, '\\n')\n",
    "\n",
    "# Unstack (the last level) \n",
    "print('** stacked.unstack() **')\n",
    "print(stacked.unstack(), '\\n')\n",
    "\n",
    "# Unstack(1) - ['one','two'] becomes columns \n",
    "print('** stacked.unstack(1) ***')\n",
    "print(stacked.unstack(1), '\\n')\n",
    "\n",
    "# Unstack(0) - ['bar','baz'] becomes columns \n",
    "print('** stacked.unstack(0) ***')\n",
    "print(stacked.unstack(0), '\\n')"
   ]
  },
  {
   "cell_type": "markdown",
   "metadata": {},
   "source": [
    "### Pivot Tables "
   ]
  },
  {
   "cell_type": "code",
   "execution_count": 148,
   "metadata": {},
   "outputs": [
    {
     "data": {
      "text/html": [
       "<div>\n",
       "<style>\n",
       "    .dataframe thead tr:only-child th {\n",
       "        text-align: right;\n",
       "    }\n",
       "\n",
       "    .dataframe thead th {\n",
       "        text-align: left;\n",
       "    }\n",
       "\n",
       "    .dataframe tbody tr th {\n",
       "        vertical-align: top;\n",
       "    }\n",
       "</style>\n",
       "<table border=\"1\" class=\"dataframe\">\n",
       "  <thead>\n",
       "    <tr style=\"text-align: right;\">\n",
       "      <th></th>\n",
       "      <th>A</th>\n",
       "      <th>B</th>\n",
       "      <th>C</th>\n",
       "      <th>D</th>\n",
       "      <th>E</th>\n",
       "    </tr>\n",
       "  </thead>\n",
       "  <tbody>\n",
       "    <tr>\n",
       "      <th>0</th>\n",
       "      <td>one</td>\n",
       "      <td>x</td>\n",
       "      <td>foo</td>\n",
       "      <td>-0.390319</td>\n",
       "      <td>2.357828</td>\n",
       "    </tr>\n",
       "    <tr>\n",
       "      <th>1</th>\n",
       "      <td>one</td>\n",
       "      <td>y</td>\n",
       "      <td>foo</td>\n",
       "      <td>1.171164</td>\n",
       "      <td>-0.433529</td>\n",
       "    </tr>\n",
       "    <tr>\n",
       "      <th>2</th>\n",
       "      <td>two</td>\n",
       "      <td>z</td>\n",
       "      <td>foo</td>\n",
       "      <td>-1.217244</td>\n",
       "      <td>0.088346</td>\n",
       "    </tr>\n",
       "    <tr>\n",
       "      <th>3</th>\n",
       "      <td>three</td>\n",
       "      <td>x</td>\n",
       "      <td>bar</td>\n",
       "      <td>-0.437037</td>\n",
       "      <td>0.478290</td>\n",
       "    </tr>\n",
       "    <tr>\n",
       "      <th>4</th>\n",
       "      <td>one</td>\n",
       "      <td>y</td>\n",
       "      <td>bar</td>\n",
       "      <td>1.008491</td>\n",
       "      <td>-0.189767</td>\n",
       "    </tr>\n",
       "    <tr>\n",
       "      <th>5</th>\n",
       "      <td>one</td>\n",
       "      <td>z</td>\n",
       "      <td>bar</td>\n",
       "      <td>-0.154737</td>\n",
       "      <td>0.993155</td>\n",
       "    </tr>\n",
       "    <tr>\n",
       "      <th>6</th>\n",
       "      <td>two</td>\n",
       "      <td>x</td>\n",
       "      <td>foo</td>\n",
       "      <td>-1.192819</td>\n",
       "      <td>-0.866687</td>\n",
       "    </tr>\n",
       "    <tr>\n",
       "      <th>7</th>\n",
       "      <td>three</td>\n",
       "      <td>y</td>\n",
       "      <td>foo</td>\n",
       "      <td>-0.345062</td>\n",
       "      <td>-0.607443</td>\n",
       "    </tr>\n",
       "    <tr>\n",
       "      <th>8</th>\n",
       "      <td>one</td>\n",
       "      <td>z</td>\n",
       "      <td>foo</td>\n",
       "      <td>-0.628819</td>\n",
       "      <td>-1.184892</td>\n",
       "    </tr>\n",
       "    <tr>\n",
       "      <th>9</th>\n",
       "      <td>one</td>\n",
       "      <td>x</td>\n",
       "      <td>bar</td>\n",
       "      <td>1.429677</td>\n",
       "      <td>1.453476</td>\n",
       "    </tr>\n",
       "    <tr>\n",
       "      <th>10</th>\n",
       "      <td>two</td>\n",
       "      <td>y</td>\n",
       "      <td>bar</td>\n",
       "      <td>0.654214</td>\n",
       "      <td>0.920736</td>\n",
       "    </tr>\n",
       "    <tr>\n",
       "      <th>11</th>\n",
       "      <td>three</td>\n",
       "      <td>z</td>\n",
       "      <td>bar</td>\n",
       "      <td>-0.055200</td>\n",
       "      <td>1.096568</td>\n",
       "    </tr>\n",
       "  </tbody>\n",
       "</table>\n",
       "</div>"
      ],
      "text/plain": [
       "        A  B    C         D         E\n",
       "0     one  x  foo -0.390319  2.357828\n",
       "1     one  y  foo  1.171164 -0.433529\n",
       "2     two  z  foo -1.217244  0.088346\n",
       "3   three  x  bar -0.437037  0.478290\n",
       "4     one  y  bar  1.008491 -0.189767\n",
       "5     one  z  bar -0.154737  0.993155\n",
       "6     two  x  foo -1.192819 -0.866687\n",
       "7   three  y  foo -0.345062 -0.607443\n",
       "8     one  z  foo -0.628819 -1.184892\n",
       "9     one  x  bar  1.429677  1.453476\n",
       "10    two  y  bar  0.654214  0.920736\n",
       "11  three  z  bar -0.055200  1.096568"
      ]
     },
     "execution_count": 148,
     "metadata": {},
     "output_type": "execute_result"
    }
   ],
   "source": [
    "# Test Data \n",
    "df = pd.DataFrame({\n",
    "    'A': ['one','one','two','three'] * 3,\n",
    "    'B': ['x','y','z'] * 4, \n",
    "    'C': ['foo','foo','foo','bar','bar','bar'] * 2,\n",
    "    'D': np.random.randn(12), \n",
    "    'E': np.random.randn(12)\n",
    "})\n",
    "df"
   ]
  },
  {
   "cell_type": "code",
   "execution_count": 152,
   "metadata": {},
   "outputs": [
    {
     "data": {
      "text/html": [
       "<div>\n",
       "<style>\n",
       "    .dataframe thead tr:only-child th {\n",
       "        text-align: right;\n",
       "    }\n",
       "\n",
       "    .dataframe thead th {\n",
       "        text-align: left;\n",
       "    }\n",
       "\n",
       "    .dataframe tbody tr th {\n",
       "        vertical-align: top;\n",
       "    }\n",
       "</style>\n",
       "<table border=\"1\" class=\"dataframe\">\n",
       "  <thead>\n",
       "    <tr style=\"text-align: right;\">\n",
       "      <th></th>\n",
       "      <th>C</th>\n",
       "      <th>bar</th>\n",
       "      <th>foo</th>\n",
       "    </tr>\n",
       "    <tr>\n",
       "      <th>A</th>\n",
       "      <th>B</th>\n",
       "      <th></th>\n",
       "      <th></th>\n",
       "    </tr>\n",
       "  </thead>\n",
       "  <tbody>\n",
       "    <tr>\n",
       "      <th rowspan=\"3\" valign=\"top\">one</th>\n",
       "      <th>x</th>\n",
       "      <td>1.429677</td>\n",
       "      <td>-0.390319</td>\n",
       "    </tr>\n",
       "    <tr>\n",
       "      <th>y</th>\n",
       "      <td>1.008491</td>\n",
       "      <td>1.171164</td>\n",
       "    </tr>\n",
       "    <tr>\n",
       "      <th>z</th>\n",
       "      <td>-0.154737</td>\n",
       "      <td>-0.628819</td>\n",
       "    </tr>\n",
       "    <tr>\n",
       "      <th rowspan=\"3\" valign=\"top\">three</th>\n",
       "      <th>x</th>\n",
       "      <td>-0.437037</td>\n",
       "      <td>NaN</td>\n",
       "    </tr>\n",
       "    <tr>\n",
       "      <th>y</th>\n",
       "      <td>NaN</td>\n",
       "      <td>-0.345062</td>\n",
       "    </tr>\n",
       "    <tr>\n",
       "      <th>z</th>\n",
       "      <td>-0.055200</td>\n",
       "      <td>NaN</td>\n",
       "    </tr>\n",
       "    <tr>\n",
       "      <th rowspan=\"3\" valign=\"top\">two</th>\n",
       "      <th>x</th>\n",
       "      <td>NaN</td>\n",
       "      <td>-1.192819</td>\n",
       "    </tr>\n",
       "    <tr>\n",
       "      <th>y</th>\n",
       "      <td>0.654214</td>\n",
       "      <td>NaN</td>\n",
       "    </tr>\n",
       "    <tr>\n",
       "      <th>z</th>\n",
       "      <td>NaN</td>\n",
       "      <td>-1.217244</td>\n",
       "    </tr>\n",
       "  </tbody>\n",
       "</table>\n",
       "</div>"
      ],
      "text/plain": [
       "C             bar       foo\n",
       "A     B                    \n",
       "one   x  1.429677 -0.390319\n",
       "      y  1.008491  1.171164\n",
       "      z -0.154737 -0.628819\n",
       "three x -0.437037       NaN\n",
       "      y       NaN -0.345062\n",
       "      z -0.055200       NaN\n",
       "two   x       NaN -1.192819\n",
       "      y  0.654214       NaN\n",
       "      z       NaN -1.217244"
      ]
     },
     "execution_count": 152,
     "metadata": {},
     "output_type": "execute_result"
    }
   ],
   "source": [
    "# Table values are from 'D' column \n",
    "# Indexed by combination of 'A' & 'B' columns \n",
    "# Result table has columns for each unique value of 'C' (i.e., 'bar' and 'foo')\n",
    "ans = pd.pivot_table(df, values='D', index=['A','B'], columns=['C'])\n",
    "ans"
   ]
  },
  {
   "cell_type": "code",
   "execution_count": 154,
   "metadata": {},
   "outputs": [
    {
     "data": {
      "text/html": [
       "<div>\n",
       "<style>\n",
       "    .dataframe thead tr:only-child th {\n",
       "        text-align: right;\n",
       "    }\n",
       "\n",
       "    .dataframe thead th {\n",
       "        text-align: left;\n",
       "    }\n",
       "\n",
       "    .dataframe tbody tr th {\n",
       "        vertical-align: top;\n",
       "    }\n",
       "</style>\n",
       "<table border=\"1\" class=\"dataframe\">\n",
       "  <thead>\n",
       "    <tr style=\"text-align: right;\">\n",
       "      <th></th>\n",
       "      <th>C</th>\n",
       "      <th>bar</th>\n",
       "      <th>foo</th>\n",
       "    </tr>\n",
       "    <tr>\n",
       "      <th>A</th>\n",
       "      <th>B</th>\n",
       "      <th></th>\n",
       "      <th></th>\n",
       "    </tr>\n",
       "  </thead>\n",
       "  <tbody>\n",
       "    <tr>\n",
       "      <th rowspan=\"3\" valign=\"top\">one</th>\n",
       "      <th>x</th>\n",
       "      <td>1.453476</td>\n",
       "      <td>2.357828</td>\n",
       "    </tr>\n",
       "    <tr>\n",
       "      <th>y</th>\n",
       "      <td>-0.189767</td>\n",
       "      <td>-0.433529</td>\n",
       "    </tr>\n",
       "    <tr>\n",
       "      <th>z</th>\n",
       "      <td>0.993155</td>\n",
       "      <td>-1.184892</td>\n",
       "    </tr>\n",
       "    <tr>\n",
       "      <th rowspan=\"3\" valign=\"top\">three</th>\n",
       "      <th>x</th>\n",
       "      <td>0.478290</td>\n",
       "      <td>NaN</td>\n",
       "    </tr>\n",
       "    <tr>\n",
       "      <th>y</th>\n",
       "      <td>NaN</td>\n",
       "      <td>-0.607443</td>\n",
       "    </tr>\n",
       "    <tr>\n",
       "      <th>z</th>\n",
       "      <td>1.096568</td>\n",
       "      <td>NaN</td>\n",
       "    </tr>\n",
       "    <tr>\n",
       "      <th rowspan=\"3\" valign=\"top\">two</th>\n",
       "      <th>x</th>\n",
       "      <td>NaN</td>\n",
       "      <td>-0.866687</td>\n",
       "    </tr>\n",
       "    <tr>\n",
       "      <th>y</th>\n",
       "      <td>0.920736</td>\n",
       "      <td>NaN</td>\n",
       "    </tr>\n",
       "    <tr>\n",
       "      <th>z</th>\n",
       "      <td>NaN</td>\n",
       "      <td>0.088346</td>\n",
       "    </tr>\n",
       "  </tbody>\n",
       "</table>\n",
       "</div>"
      ],
      "text/plain": [
       "C             bar       foo\n",
       "A     B                    \n",
       "one   x  1.453476  2.357828\n",
       "      y -0.189767 -0.433529\n",
       "      z  0.993155 -1.184892\n",
       "three x  0.478290       NaN\n",
       "      y       NaN -0.607443\n",
       "      z  1.096568       NaN\n",
       "two   x       NaN -0.866687\n",
       "      y  0.920736       NaN\n",
       "      z       NaN  0.088346"
      ]
     },
     "execution_count": 154,
     "metadata": {},
     "output_type": "execute_result"
    }
   ],
   "source": [
    "# Same for values in 'E' column \n",
    "ans = pd.pivot_table(df, values='E', index=['A','B'], columns=['C'])\n",
    "ans"
   ]
  },
  {
   "cell_type": "markdown",
   "metadata": {},
   "source": [
    "## Time Series   \n",
    "Such as finantial data with calendar time as index. "
   ]
  },
  {
   "cell_type": "code",
   "execution_count": 185,
   "metadata": {},
   "outputs": [
    {
     "data": {
      "text/plain": [
       "120"
      ]
     },
     "execution_count": 185,
     "metadata": {},
     "output_type": "execute_result"
    }
   ],
   "source": [
    "# 120 date/time series with 1second resolution\n",
    "rng = pd.date_range('1/1/2018', periods=120, freq='S')\n",
    "len(rng)"
   ]
  },
  {
   "cell_type": "code",
   "execution_count": 193,
   "metadata": {
    "scrolled": true
   },
   "outputs": [
    {
     "name": "stdout",
     "output_type": "stream",
     "text": [
      "DatetimeIndexResampler [freq=<20 * Seconds>, axis=0, closed=left, label=left, convention=start, base=0] \n",
      "\n",
      "{Timestamp('2018-01-01 00:00:00', freq='20S'): 20, Timestamp('2018-01-01 00:00:20', freq='20S'): 40, Timestamp('2018-01-01 00:00:40', freq='20S'): 60, Timestamp('2018-01-01 00:01:00', freq='20S'): 80, Timestamp('2018-01-01 00:01:20', freq='20S'): 100, Timestamp('2018-01-01 00:01:40', freq='20S'): 120} \n",
      "\n",
      "2018-01-01 00:00:00    4663\n",
      "2018-01-01 00:00:20    4546\n",
      "2018-01-01 00:00:40    4696\n",
      "2018-01-01 00:01:00    3552\n",
      "2018-01-01 00:01:20    3201\n",
      "2018-01-01 00:01:40    4956\n",
      "Freq: 20S, dtype: int64 \n",
      "\n"
     ]
    }
   ],
   "source": [
    "# Series of data (random value) with the time as index \n",
    "ts = pd.Series(np.random.randint(0,500,len(rng)), index=rng)\n",
    "\n",
    "# Resample at every 20 seconds (grouping to series of 20-second bins)  \n",
    "ts5min = ts.resample('20S')\n",
    "print(ts5min,'\\n')  # Resampler object \n",
    "print(ts5min.groups,'\\n') # dict \n",
    "print(ts5min.sum(), '\\n') # series of sum() to each 1min bin\n",
    "#print(ts5min.count) # count\n",
    "#print(ts5min.first())\n",
    "#print(ts5min.last())"
   ]
  },
  {
   "cell_type": "markdown",
   "metadata": {},
   "source": [
    "## Categoricals   \n"
   ]
  },
  {
   "cell_type": "code",
   "execution_count": 200,
   "metadata": {},
   "outputs": [
    {
     "data": {
      "text/html": [
       "<div>\n",
       "<style>\n",
       "    .dataframe thead tr:only-child th {\n",
       "        text-align: right;\n",
       "    }\n",
       "\n",
       "    .dataframe thead th {\n",
       "        text-align: left;\n",
       "    }\n",
       "\n",
       "    .dataframe tbody tr th {\n",
       "        vertical-align: top;\n",
       "    }\n",
       "</style>\n",
       "<table border=\"1\" class=\"dataframe\">\n",
       "  <thead>\n",
       "    <tr style=\"text-align: right;\">\n",
       "      <th></th>\n",
       "      <th>id</th>\n",
       "      <th>raw_grade</th>\n",
       "    </tr>\n",
       "  </thead>\n",
       "  <tbody>\n",
       "    <tr>\n",
       "      <th>0</th>\n",
       "      <td>1</td>\n",
       "      <td>a</td>\n",
       "    </tr>\n",
       "    <tr>\n",
       "      <th>1</th>\n",
       "      <td>2</td>\n",
       "      <td>b</td>\n",
       "    </tr>\n",
       "    <tr>\n",
       "      <th>2</th>\n",
       "      <td>3</td>\n",
       "      <td>b</td>\n",
       "    </tr>\n",
       "    <tr>\n",
       "      <th>3</th>\n",
       "      <td>4</td>\n",
       "      <td>a</td>\n",
       "    </tr>\n",
       "    <tr>\n",
       "      <th>4</th>\n",
       "      <td>5</td>\n",
       "      <td>a</td>\n",
       "    </tr>\n",
       "    <tr>\n",
       "      <th>5</th>\n",
       "      <td>6</td>\n",
       "      <td>e</td>\n",
       "    </tr>\n",
       "  </tbody>\n",
       "</table>\n",
       "</div>"
      ],
      "text/plain": [
       "   id raw_grade\n",
       "0   1         a\n",
       "1   2         b\n",
       "2   3         b\n",
       "3   4         a\n",
       "4   5         a\n",
       "5   6         e"
      ]
     },
     "execution_count": 200,
     "metadata": {},
     "output_type": "execute_result"
    }
   ],
   "source": [
    "df = pd.DataFrame({\"id\":[1,2,3,4,5,6], \"raw_grade\":['a', 'b', 'b', 'a', 'a', 'e']})\n",
    "df"
   ]
  },
  {
   "cell_type": "code",
   "execution_count": 201,
   "metadata": {
    "scrolled": true
   },
   "outputs": [
    {
     "data": {
      "text/plain": [
       "0    a\n",
       "1    b\n",
       "2    b\n",
       "3    a\n",
       "4    a\n",
       "5    e\n",
       "Name: grade, dtype: category\n",
       "Categories (3, object): [a, b, e]"
      ]
     },
     "execution_count": 201,
     "metadata": {},
     "output_type": "execute_result"
    }
   ],
   "source": [
    "# Change to text value to category \n",
    "df[\"grade\"] = df[\"raw_grade\"].astype(\"category\")\n",
    "df[\"grade\"]"
   ]
  },
  {
   "cell_type": "code",
   "execution_count": 202,
   "metadata": {},
   "outputs": [
    {
     "data": {
      "text/plain": [
       "0    very good\n",
       "1         good\n",
       "2         good\n",
       "3    very good\n",
       "4    very good\n",
       "5     very bad\n",
       "Name: grade, dtype: category\n",
       "Categories (3, object): [very good, good, very bad]"
      ]
     },
     "execution_count": 202,
     "metadata": {},
     "output_type": "execute_result"
    }
   ],
   "source": [
    "# assign new category names to [a,b,e]\n",
    "df[\"grade\"].cat.categories = [\"very good\", \"good\", \"very bad\"]\n",
    "df[\"grade\"]"
   ]
  },
  {
   "cell_type": "code",
   "execution_count": 205,
   "metadata": {},
   "outputs": [
    {
     "data": {
      "text/plain": [
       "0    very good\n",
       "1         good\n",
       "2         good\n",
       "3    very good\n",
       "4    very good\n",
       "5     very bad\n",
       "Name: grade, dtype: category\n",
       "Categories (5, object): [very bad, bad, medium, good, very good]"
      ]
     },
     "execution_count": 205,
     "metadata": {},
     "output_type": "execute_result"
    }
   ],
   "source": [
    "# update new category names with new (interpolated) category names \n",
    "df[\"grade\"] = df[\"grade\"].cat.set_categories([\"very bad\", \"bad\", \"medium\", \"good\", \"very good\"])\n",
    "df[\"grade\"]"
   ]
  },
  {
   "cell_type": "code",
   "execution_count": 207,
   "metadata": {},
   "outputs": [
    {
     "data": {
      "text/html": [
       "<div>\n",
       "<style>\n",
       "    .dataframe thead tr:only-child th {\n",
       "        text-align: right;\n",
       "    }\n",
       "\n",
       "    .dataframe thead th {\n",
       "        text-align: left;\n",
       "    }\n",
       "\n",
       "    .dataframe tbody tr th {\n",
       "        vertical-align: top;\n",
       "    }\n",
       "</style>\n",
       "<table border=\"1\" class=\"dataframe\">\n",
       "  <thead>\n",
       "    <tr style=\"text-align: right;\">\n",
       "      <th></th>\n",
       "      <th>id</th>\n",
       "      <th>raw_grade</th>\n",
       "      <th>grade</th>\n",
       "    </tr>\n",
       "  </thead>\n",
       "  <tbody>\n",
       "    <tr>\n",
       "      <th>0</th>\n",
       "      <td>1</td>\n",
       "      <td>a</td>\n",
       "      <td>very good</td>\n",
       "    </tr>\n",
       "    <tr>\n",
       "      <th>1</th>\n",
       "      <td>2</td>\n",
       "      <td>b</td>\n",
       "      <td>good</td>\n",
       "    </tr>\n",
       "    <tr>\n",
       "      <th>2</th>\n",
       "      <td>3</td>\n",
       "      <td>b</td>\n",
       "      <td>good</td>\n",
       "    </tr>\n",
       "    <tr>\n",
       "      <th>3</th>\n",
       "      <td>4</td>\n",
       "      <td>a</td>\n",
       "      <td>very good</td>\n",
       "    </tr>\n",
       "    <tr>\n",
       "      <th>4</th>\n",
       "      <td>5</td>\n",
       "      <td>a</td>\n",
       "      <td>very good</td>\n",
       "    </tr>\n",
       "    <tr>\n",
       "      <th>5</th>\n",
       "      <td>6</td>\n",
       "      <td>e</td>\n",
       "      <td>very bad</td>\n",
       "    </tr>\n",
       "  </tbody>\n",
       "</table>\n",
       "</div>"
      ],
      "text/plain": [
       "   id raw_grade      grade\n",
       "0   1         a  very good\n",
       "1   2         b       good\n",
       "2   3         b       good\n",
       "3   4         a  very good\n",
       "4   5         a  very good\n",
       "5   6         e   very bad"
      ]
     },
     "execution_count": 207,
     "metadata": {},
     "output_type": "execute_result"
    }
   ],
   "source": [
    "df"
   ]
  },
  {
   "cell_type": "code",
   "execution_count": 209,
   "metadata": {},
   "outputs": [
    {
     "data": {
      "text/html": [
       "<div>\n",
       "<style>\n",
       "    .dataframe thead tr:only-child th {\n",
       "        text-align: right;\n",
       "    }\n",
       "\n",
       "    .dataframe thead th {\n",
       "        text-align: left;\n",
       "    }\n",
       "\n",
       "    .dataframe tbody tr th {\n",
       "        vertical-align: top;\n",
       "    }\n",
       "</style>\n",
       "<table border=\"1\" class=\"dataframe\">\n",
       "  <thead>\n",
       "    <tr style=\"text-align: right;\">\n",
       "      <th></th>\n",
       "      <th>id</th>\n",
       "      <th>raw_grade</th>\n",
       "      <th>grade</th>\n",
       "    </tr>\n",
       "  </thead>\n",
       "  <tbody>\n",
       "    <tr>\n",
       "      <th>5</th>\n",
       "      <td>6</td>\n",
       "      <td>e</td>\n",
       "      <td>very bad</td>\n",
       "    </tr>\n",
       "    <tr>\n",
       "      <th>1</th>\n",
       "      <td>2</td>\n",
       "      <td>b</td>\n",
       "      <td>good</td>\n",
       "    </tr>\n",
       "    <tr>\n",
       "      <th>2</th>\n",
       "      <td>3</td>\n",
       "      <td>b</td>\n",
       "      <td>good</td>\n",
       "    </tr>\n",
       "    <tr>\n",
       "      <th>0</th>\n",
       "      <td>1</td>\n",
       "      <td>a</td>\n",
       "      <td>very good</td>\n",
       "    </tr>\n",
       "    <tr>\n",
       "      <th>3</th>\n",
       "      <td>4</td>\n",
       "      <td>a</td>\n",
       "      <td>very good</td>\n",
       "    </tr>\n",
       "    <tr>\n",
       "      <th>4</th>\n",
       "      <td>5</td>\n",
       "      <td>a</td>\n",
       "      <td>very good</td>\n",
       "    </tr>\n",
       "  </tbody>\n",
       "</table>\n",
       "</div>"
      ],
      "text/plain": [
       "   id raw_grade      grade\n",
       "5   6         e   very bad\n",
       "1   2         b       good\n",
       "2   3         b       good\n",
       "0   1         a  very good\n",
       "3   4         a  very good\n",
       "4   5         a  very good"
      ]
     },
     "execution_count": 209,
     "metadata": {},
     "output_type": "execute_result"
    }
   ],
   "source": [
    "# sort value by grade column \n",
    "df.sort_values(by=\"grade\")"
   ]
  },
  {
   "cell_type": "code",
   "execution_count": 218,
   "metadata": {},
   "outputs": [
    {
     "name": "stdout",
     "output_type": "stream",
     "text": [
      "<class 'pandas.core.frame.DataFrame'>\n"
     ]
    },
    {
     "data": {
      "text/html": [
       "<div>\n",
       "<style>\n",
       "    .dataframe thead tr:only-child th {\n",
       "        text-align: right;\n",
       "    }\n",
       "\n",
       "    .dataframe thead th {\n",
       "        text-align: left;\n",
       "    }\n",
       "\n",
       "    .dataframe tbody tr th {\n",
       "        vertical-align: top;\n",
       "    }\n",
       "</style>\n",
       "<table border=\"1\" class=\"dataframe\">\n",
       "  <thead>\n",
       "    <tr style=\"text-align: right;\">\n",
       "      <th></th>\n",
       "      <th>id</th>\n",
       "      <th>raw_grade</th>\n",
       "    </tr>\n",
       "    <tr>\n",
       "      <th>grade</th>\n",
       "      <th></th>\n",
       "      <th></th>\n",
       "    </tr>\n",
       "  </thead>\n",
       "  <tbody>\n",
       "    <tr>\n",
       "      <th>very bad</th>\n",
       "      <td>1</td>\n",
       "      <td>1</td>\n",
       "    </tr>\n",
       "    <tr>\n",
       "      <th>bad</th>\n",
       "      <td>0</td>\n",
       "      <td>0</td>\n",
       "    </tr>\n",
       "    <tr>\n",
       "      <th>medium</th>\n",
       "      <td>0</td>\n",
       "      <td>0</td>\n",
       "    </tr>\n",
       "    <tr>\n",
       "      <th>good</th>\n",
       "      <td>2</td>\n",
       "      <td>2</td>\n",
       "    </tr>\n",
       "    <tr>\n",
       "      <th>very good</th>\n",
       "      <td>3</td>\n",
       "      <td>3</td>\n",
       "    </tr>\n",
       "  </tbody>\n",
       "</table>\n",
       "</div>"
      ],
      "text/plain": [
       "           id  raw_grade\n",
       "grade                   \n",
       "very bad    1          1\n",
       "bad         0          0\n",
       "medium      0          0\n",
       "good        2          2\n",
       "very good   3          3"
      ]
     },
     "execution_count": 218,
     "metadata": {},
     "output_type": "execute_result"
    }
   ],
   "source": [
    "# Grouping by \"grade\" category and count the number of occurences \n",
    "print(type(df.groupby(\"grade\").count())) # as data frame ('id' column and 'raw_grade' column both contained)\n",
    "df.groupby(\"grade\").count()"
   ]
  },
  {
   "cell_type": "code",
   "execution_count": 219,
   "metadata": {},
   "outputs": [
    {
     "name": "stdout",
     "output_type": "stream",
     "text": [
      "<class 'pandas.core.series.Series'>\n"
     ]
    },
    {
     "data": {
      "text/plain": [
       "grade\n",
       "very bad     1\n",
       "bad          0\n",
       "medium       0\n",
       "good         2\n",
       "very good    3\n",
       "dtype: int64"
      ]
     },
     "execution_count": 219,
     "metadata": {},
     "output_type": "execute_result"
    }
   ],
   "source": [
    "# same as above but as different return value type (as series) \n",
    "print(type(df.groupby(\"grade\").size()))  # as series (series values is count of each category)\n",
    "df.groupby(\"grade\").size()"
   ]
  }
 ],
 "metadata": {
  "kernelspec": {
   "display_name": "Python 3",
   "language": "python",
   "name": "python3"
  },
  "language_info": {
   "codemirror_mode": {
    "name": "ipython",
    "version": 3
   },
   "file_extension": ".py",
   "mimetype": "text/x-python",
   "name": "python",
   "nbconvert_exporter": "python",
   "pygments_lexer": "ipython3",
   "version": "3.6.3"
  }
 },
 "nbformat": 4,
 "nbformat_minor": 2
}
