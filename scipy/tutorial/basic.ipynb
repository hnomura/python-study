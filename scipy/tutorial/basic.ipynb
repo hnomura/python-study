{
 "cells": [
  {
   "cell_type": "markdown",
   "metadata": {},
   "source": [
    "# Basic functions"
   ]
  },
  {
   "cell_type": "code",
   "execution_count": 2,
   "metadata": {
    "collapsed": true
   },
   "outputs": [],
   "source": [
    "import numpy as np"
   ]
  },
  {
   "cell_type": "markdown",
   "metadata": {},
   "source": [
    "## Index Trick"
   ]
  },
  {
   "cell_type": "code",
   "execution_count": 19,
   "metadata": {},
   "outputs": [
    {
     "name": "stdout",
     "output_type": "stream",
     "text": [
      "[  3   0   0   0   0   0 100]\n",
      "[  3   0   0   0   0   0 100]\n",
      "[0 1 2 3]\n",
      "[0 1 2 3]\n",
      "[[0 0 0 0]\n",
      " [1 1 1 1]\n",
      " [2 2 2 2]\n",
      " [3 3 3 3]]\n",
      "[[0 1 2 3]\n",
      " [0 1 2 3]\n",
      " [0 1 2 3]\n",
      " [0 1 2 3]]\n"
     ]
    }
   ],
   "source": [
    "a = np.concatenate(( [3], [0]*5, [100]))\n",
    "print(a)\n",
    "\n",
    "# Use np.r[x,y,z] to concatenate 1D vector as one-row array\n",
    "a = np.r_[3,[0]*5,[100]]\n",
    "print(a)\n",
    "\n",
    "# Generating 1D vector\n",
    "print(np.mgrid[0:4])\n",
    "print(np.arange(0,4))\n",
    "\n",
    "# Generating 2D vector \n",
    "print(np.mgrid[0:4,0:4][0])  #  to each row (duplicated columns)\n",
    "print(np.mgrid[0:4,0:4][1])  #  to each col (duplicated row)\n"
   ]
  },
  {
   "cell_type": "markdown",
   "metadata": {},
   "source": [
    "## Polynomials"
   ]
  },
  {
   "cell_type": "code",
   "execution_count": 30,
   "metadata": {},
   "outputs": [
    {
     "name": "stdout",
     "output_type": "stream",
     "text": [
      "   2\n",
      "3 x + 4 x + 5\n",
      "   4      3      2\n",
      "9 x + 24 x + 46 x + 40 x + 25\n",
      "   3     2\n",
      "1 x + 2 x + 5 x + 6\n",
      " \n",
      "6 x + 4\n",
      "[ 69 100]\n"
     ]
    }
   ],
   "source": [
    "# Example of f(x) = 3x^2+4x+5\n",
    "from numpy import poly1d\n",
    "p = poly1d([3,4,5])\n",
    "print(p)\n",
    "\n",
    "# {f(x)}^2\n",
    "print(p*p)\n",
    "\n",
    "# integrate f(x) with const = 6\n",
    "print(p.integ(k=6))\n",
    "\n",
    "# derivertive of f(x)\n",
    "print(p.deriv())\n",
    "\n",
    "# use polynomial for concrete x values \n",
    "x = [4,5]\n",
    "print(p(x))"
   ]
  },
  {
   "cell_type": "markdown",
   "metadata": {},
   "source": [
    "## Vectorizing Functions \n",
    "Define function to process one element (e.g., a pair of element from 2 arrays).   \n",
    "Instead of writing loop to call the function, ***vectorize*** the function. "
   ]
  },
  {
   "cell_type": "code",
   "execution_count": 39,
   "metadata": {},
   "outputs": [
    {
     "name": "stdout",
     "output_type": "stream",
     "text": [
      "[3 3 2 3 0]\n",
      "[3 3 2 3 0]\n"
     ]
    }
   ],
   "source": [
    "def addOrSub(a,b):\n",
    "    if a>b:\n",
    "        return a-b\n",
    "    else:\n",
    "        return b-a\n",
    "    \n",
    "vec_addOrSub = np.vectorize(addOrSub)\n",
    "a = np.array([0,5,2,5,4])\n",
    "b = np.array([3,2,4,2,4])\n",
    "print(vec_addOrSub(a,b))\n",
    "\n",
    "# same as abs(a-b) in this particular case\n",
    "print(np.abs(a-b))"
   ]
  },
  {
   "cell_type": "markdown",
   "metadata": {},
   "source": [
    "## Type Handling\n",
    "- Array of complex \n",
    "- Array or Scalar \n",
    "- Type casting (_Not understand well yet!_)"
   ]
  },
  {
   "cell_type": "code",
   "execution_count": 46,
   "metadata": {
    "scrolled": true
   },
   "outputs": [
    {
     "name": "stdout",
     "output_type": "stream",
     "text": [
      "[ True  True False]\n",
      "True\n",
      "[ 1.  2.  3.]\n",
      "[ 10.  20.   0.]\n"
     ]
    }
   ],
   "source": [
    "a = np.array([1+10j,2+20j,3])\n",
    "\n",
    "print(np.iscomplex(a))   # return array of boolean, one to each element\n",
    "print(np.iscomplexobj(a)) # return true if any element is comples\n",
    "\n",
    "print(np.real(a))    # real part \n",
    "print(np.imag(a))    # imag part"
   ]
  },
  {
   "cell_type": "code",
   "execution_count": 56,
   "metadata": {},
   "outputs": [
    {
     "name": "stdout",
     "output_type": "stream",
     "text": [
      "False\n",
      "True\n"
     ]
    }
   ],
   "source": [
    "a = np.array([1,2,3])\n",
    "print(np.isscalar(a))\n",
    "print(np.isscalar(a[0]))"
   ]
  },
  {
   "cell_type": "code",
   "execution_count": 59,
   "metadata": {},
   "outputs": [
    {
     "data": {
      "text/plain": [
       "array(3.1415927410125732, dtype=float32)"
      ]
     },
     "execution_count": 59,
     "metadata": {},
     "output_type": "execute_result"
    }
   ],
   "source": [
    "np.cast['f'](np.pi)"
   ]
  },
  {
   "cell_type": "code",
   "execution_count": 64,
   "metadata": {
    "scrolled": true
   },
   "outputs": [
    {
     "data": {
      "text/plain": [
       "array([ 3.14159274], dtype=float32)"
      ]
     },
     "execution_count": 64,
     "metadata": {},
     "output_type": "execute_result"
    }
   ],
   "source": [
    "np.float32([np.pi])"
   ]
  },
  {
   "cell_type": "code",
   "execution_count": 66,
   "metadata": {},
   "outputs": [
    {
     "data": {
      "text/plain": [
       "3.141592653589793"
      ]
     },
     "execution_count": 66,
     "metadata": {},
     "output_type": "execute_result"
    }
   ],
   "source": [
    "np.pi"
   ]
  },
  {
   "cell_type": "markdown",
   "metadata": {},
   "source": [
    "## Other useful functions  \n",
    "These are written in scipy tutorial, but they belong to numpy as document-wise.   \n",
    "- angle / unwrap\n",
    "- linspace / logspace \n",
    "- select\n",
    "- factorial / comb\n",
    "\n",
    "factorial & comb are in scipy.speical subpackage.    \n",
    "scipy.misc also contains the same but dupreted.  \n",
    "Others are under numpy package. "
   ]
  },
  {
   "cell_type": "code",
   "execution_count": 74,
   "metadata": {},
   "outputs": [
    {
     "name": "stdout",
     "output_type": "stream",
     "text": [
      "[ 0.          0.78539816  1.57079633]\n",
      "[  0.  45.  90.]\n",
      "[   0.   90.  180.  270.  360.  450.  540.  630.  720.]\n"
     ]
    }
   ],
   "source": [
    "a = [1, 1+1j, 1j]\n",
    "print(np.angle(a))\n",
    "print(np.angle(a)/np.pi*180)\n",
    "\n",
    "b = [1, 1j, -1, -1j, 1, 1j, -1, -1j, 1]\n",
    "print(np.unwrap(np.angle(b))/np.pi*180)"
   ]
  },
  {
   "cell_type": "code",
   "execution_count": 87,
   "metadata": {},
   "outputs": [
    {
     "name": "stdout",
     "output_type": "stream",
     "text": [
      "[ 1.5   1.75  2.    2.25  2.5 ]\n",
      "[    1.             5.62341325    31.6227766    177.827941    1000.        ]\n"
     ]
    }
   ],
   "source": [
    "# linspace(start,stop,num,endpoint=True,retstep=False,dtype=None)\n",
    "a = np.linspace(1.5, 2.5, 5)\n",
    "print(a)\n",
    "\n",
    "# logspace(start,stop, num, endpoint=True, base=10.0, dtype=None)\n",
    "b = np.logspace(0, 3, 5)  # from 10^0,  to 10^3\n",
    "print(b)"
   ]
  },
  {
   "cell_type": "code",
   "execution_count": 92,
   "metadata": {},
   "outputs": [
    {
     "name": "stdout",
     "output_type": "stream",
     "text": [
      "[1 4]\n",
      "[ 1  2  0 16 25]\n"
     ]
    }
   ],
   "source": [
    "# select(condist, choiselist, default=0)\n",
    "# condist : list of bool array. Length=N of each list element. Mutiple select criterias as array of bool \n",
    "# choiselist: list of array.  \n",
    "condlist = [[True,False], [False,True]]\n",
    "choiselist = np.array([[1,2],[3,4]])\n",
    "print(np.select(condlist,choiselist))\n",
    "\n",
    "a = np.array([1,2,3,4,5])\n",
    "condlist = [a<3, a>=4]\n",
    "choiselist = [a, a*a]\n",
    "print(np.select(condlist,choiselist))"
   ]
  },
  {
   "cell_type": "code",
   "execution_count": 100,
   "metadata": {},
   "outputs": [
    {
     "name": "stdout",
     "output_type": "stream",
     "text": [
      "6.0\n"
     ]
    }
   ],
   "source": [
    "from scipy.special import factorial # here factorial and comb exist\n",
    "# n! = n*(n-1)*..*1\n",
    "print(factorial(3))"
   ]
  },
  {
   "cell_type": "code",
   "execution_count": 129,
   "metadata": {},
   "outputs": [
    {
     "name": "stdout",
     "output_type": "stream",
     "text": [
      "10.0\n",
      "10.0\n"
     ]
    }
   ],
   "source": [
    "from scipy.special import comb\n",
    "print(comb(5,2))  # 5C2 = 5!/(2!*3!)\n",
    "print(factorial(5)/(factorial(2)*factorial(5-2)))"
   ]
  }
 ],
 "metadata": {
  "kernelspec": {
   "display_name": "Python 3",
   "language": "python",
   "name": "python3"
  },
  "language_info": {
   "codemirror_mode": {
    "name": "ipython",
    "version": 3
   },
   "file_extension": ".py",
   "mimetype": "text/x-python",
   "name": "python",
   "nbconvert_exporter": "python",
   "pygments_lexer": "ipython3",
   "version": "3.6.3"
  }
 },
 "nbformat": 4,
 "nbformat_minor": 2
}
