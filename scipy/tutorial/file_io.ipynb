{
 "cells": [
  {
   "cell_type": "markdown",
   "metadata": {},
   "source": [
    "# File IO (scipy.io)  \n",
    "\n",
    "From [Scipy.org Tutorial File IO page](https://docs.scipy.org/doc/scipy/reference/tutorial/io.html).\n"
   ]
  },
  {
   "cell_type": "markdown",
   "metadata": {},
   "source": [
    "## MATLAB files"
   ]
  },
  {
   "cell_type": "code",
   "execution_count": 2,
   "metadata": {
    "collapsed": true
   },
   "outputs": [],
   "source": [
    "import numpy as np\n",
    "import scipy.io as sio"
   ]
  },
  {
   "cell_type": "code",
   "execution_count": 20,
   "metadata": {},
   "outputs": [
    {
     "name": "stdout",
     "output_type": "stream",
     "text": [
      "(10,)\n",
      "(3, 3)\n"
     ]
    }
   ],
   "source": [
    "# Save array (name='var') in MAT file\n",
    "# 2nd parameter to savemat() is dictionary ('name':variable)\n",
    "vect = np.arange(10)\n",
    "print(vect.shape)\n",
    "matx = np.arange(9.).reshape((3,3));\n",
    "print(matx.shape)\n",
    "\n",
    "sio.savemat('./np_vector.mat', {'vect':vect, 'matx':matx})"
   ]
  },
  {
   "cell_type": "code",
   "execution_count": 14,
   "metadata": {},
   "outputs": [
    {
     "data": {
      "text/plain": [
       "[('vect', (1, 10), 'int64'), ('matx', (3, 3), 'double')]"
      ]
     },
     "execution_count": 14,
     "metadata": {},
     "output_type": "execute_result"
    }
   ],
   "source": [
    "# Inspect content of MAT file\n",
    "sio.whosmat('./np_vector.mat')"
   ]
  },
  {
   "cell_type": "code",
   "execution_count": 28,
   "metadata": {},
   "outputs": [
    {
     "name": "stdout",
     "output_type": "stream",
     "text": [
      "[[0 1 2 3 4 5 6 7 8 9]] (1, 10)\n",
      "[[ 0.  1.  2.]\n",
      " [ 3.  4.  5.]\n",
      " [ 6.  7.  8.]] (3, 3)\n",
      "(10,)\n",
      "[0 1 2 3 4 5 6 7 8 9] (10,)\n",
      "[[ 0.  1.  2.]\n",
      " [ 3.  4.  5.]\n",
      " [ 6.  7.  8.]] (3, 3)\n"
     ]
    }
   ],
   "source": [
    "# Load data from MAT file \n",
    "mat_contents = sio.loadmat('./np_vector.mat')\n",
    "vect2 = mat_contents['vect']\n",
    "matx2 = mat_contents['matx']\n",
    "print(vect2, vect2.shape)\n",
    "print(matx2, matx2.shape)\n",
    "\n",
    "# Interesting. \n",
    "# 1D array is restored as (1,10)\n",
    "# To restore the identical shape as original, squeeze() can be used\n",
    "vect2 = np.squeeze(vect2)\n",
    "print(vect2.shape)\n",
    "\n",
    "# squeeze_me=True is convenient option\n",
    "mat_contents = sio.loadmat('./np_vector.mat', squeeze_me=True)\n",
    "vect2 = mat_contents['vect']\n",
    "matx2 = mat_contents['matx']\n",
    "print(vect2, vect2.shape)\n",
    "print(matx2, matx2.shape)"
   ]
  },
  {
   "cell_type": "markdown",
   "metadata": {},
   "source": [
    "## MATLAB structs"
   ]
  },
  {
   "cell_type": "code",
   "execution_count": 32,
   "metadata": {},
   "outputs": [
    {
     "name": "stdout",
     "output_type": "stream",
     "text": [
      "[('Rex', 9,  81.) ('Fido', 3,  27.)]\n"
     ]
    }
   ],
   "source": [
    "x = np.array([\n",
    "     ('Rex',  9, 81.0),\n",
    "     ('Fido', 3, 27.0)], \n",
    "    dtype=[\n",
    "     ('name', 'U10'),   # field 1: name and dtype\n",
    "     ('age',  'i4'),    # field 2: name and dtype\n",
    "     ('weight', 'f4')   # field 3: name and dtype\n",
    "    ]\n",
    ")\n",
    "print(x)"
   ]
  },
  {
   "cell_type": "code",
   "execution_count": 37,
   "metadata": {},
   "outputs": [
    {
     "data": {
      "text/plain": [
       "[('x', (1, 2), 'struct')]"
      ]
     },
     "execution_count": 37,
     "metadata": {},
     "output_type": "execute_result"
    }
   ],
   "source": [
    "sio.savemat('./np_struct.mat', {'x':x})\n",
    "sio.whosmat('./np_struct.mat')"
   ]
  },
  {
   "cell_type": "code",
   "execution_count": 42,
   "metadata": {},
   "outputs": [
    {
     "name": "stdout",
     "output_type": "stream",
     "text": [
      "[('Rex', 9,  81.) ('Fido', 3,  27.)]\n"
     ]
    }
   ],
   "source": [
    "mat_contents = sio.loadmat('./np_struct.mat', squeeze_me=True)\n",
    "x2 = mat_contents['x']\n",
    "print(x)"
   ]
  },
  {
   "cell_type": "markdown",
   "metadata": {},
   "source": [
    "## MATLAB cell array  \n",
    "MATLAB cell array is array of object in scipy."
   ]
  },
  {
   "cell_type": "code",
   "execution_count": 46,
   "metadata": {},
   "outputs": [
    {
     "name": "stdout",
     "output_type": "stream",
     "text": [
      "[1 'a string']\n"
     ]
    }
   ],
   "source": [
    "obj_array = np.zeros((2,), dtype=np.object)\n",
    "obj_array[0] = 1\n",
    "obj_array[1] = 'a string'\n",
    "print(obj_array)\n",
    "sio.savemat('./np_cellarray.mat', {'obj_array':obj_array})"
   ]
  },
  {
   "cell_type": "code",
   "execution_count": 48,
   "metadata": {},
   "outputs": [
    {
     "data": {
      "text/plain": [
       "[('obj_array', (1, 2), 'cell')]"
      ]
     },
     "execution_count": 48,
     "metadata": {},
     "output_type": "execute_result"
    }
   ],
   "source": [
    "sio.whosmat('./np_cellarray.mat')"
   ]
  },
  {
   "cell_type": "code",
   "execution_count": 51,
   "metadata": {},
   "outputs": [
    {
     "name": "stdout",
     "output_type": "stream",
     "text": [
      "[1 'a string']\n"
     ]
    }
   ],
   "source": [
    "mat_contents = sio.loadmat('./np_cellarray.mat', squeeze_me=True)\n",
    "obj2 = mat_contents['obj_array']\n",
    "print(obj2)"
   ]
  }
 ],
 "metadata": {
  "kernelspec": {
   "display_name": "Python 3",
   "language": "python",
   "name": "python3"
  },
  "language_info": {
   "codemirror_mode": {
    "name": "ipython",
    "version": 3
   },
   "file_extension": ".py",
   "mimetype": "text/x-python",
   "name": "python",
   "nbconvert_exporter": "python",
   "pygments_lexer": "ipython3",
   "version": "3.6.3"
  }
 },
 "nbformat": 4,
 "nbformat_minor": 2
}
