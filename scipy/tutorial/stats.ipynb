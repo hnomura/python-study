{
 "cells": [
  {
   "cell_type": "markdown",
   "metadata": {},
   "source": [
    "# Statistics (scipy.stats)\n",
    "\n",
    "This is \"work in progress\".  \n",
    "First, I need to brush up my mathematical understandings around statistics!!! \n"
   ]
  },
  {
   "cell_type": "markdown",
   "metadata": {},
   "source": [
    "## Random Variables  \n",
    "There are **continuous random variables** and **discrete random variables**. Firstly, concerntrate on continuous random variables (RVs).  \n",
    "\n",
    "Probability desnsity funcion for norm (`norm.pdf(x)`)is as follows.  \n",
    "```\n",
    "f(x) = exp(-x^2/2) / sqrt(2*pi)\n",
    "```\n",
    "\n",
    "Location and Scale parameters are defaulted to (`loc=0` and `scale=1`) to all functions. \n",
    "```\n",
    "e.g., norm.pdf(x,loc=0,scale=1)\n",
    "```"
   ]
  },
  {
   "cell_type": "markdown",
   "metadata": {},
   "source": [
    "### Common Methods\n",
    "Methods like `norm.cdf()` or `norm.pdf()` are common to al RVs.   \n"
   ]
  },
  {
   "cell_type": "code",
   "execution_count": 4,
   "metadata": {
    "collapsed": true
   },
   "outputs": [],
   "source": [
    "import numpy as np\n",
    "\n",
    "from scipy import stats\n",
    "from scipy.stats import norm  # normal continuous random variable "
   ]
  },
  {
   "cell_type": "code",
   "execution_count": 9,
   "metadata": {},
   "outputs": [
    {
     "name": "stdout",
     "output_type": "stream",
     "text": [
      "norm.cdf(0)= 0.5\n",
      "norm.cdf(x)= [ 0.15865525  0.5         0.84134475]\n"
     ]
    }
   ],
   "source": [
    "# cdf: Cumulative distribution function \n",
    "#      With deffalut loc=0/scale=1, cdf(0)=0.5 (50%)\n",
    "print('norm.cdf(0)=', norm.cdf(0))\n",
    "\n",
    "# pass array to get cdf() values at multiple points \n",
    "x = np.array([-1.,0.,1.])\n",
    "print('norm.cdf(x)=', norm.cdf(x))"
   ]
  },
  {
   "cell_type": "code",
   "execution_count": 28,
   "metadata": {},
   "outputs": [
    {
     "name": "stdout",
     "output_type": "stream",
     "text": [
      "norm.pdf(0)= 0.398942280401\n",
      "norm.pdf(x)= [ 0.24197072  0.39894228  0.24197072]\n"
     ]
    }
   ],
   "source": [
    "# pdf: Probability density function \n",
    "print('norm.pdf(0)=', norm.pdf(0))\n",
    "\n",
    "x = np.array([-1.,0,1.])\n",
    "print('norm.pdf(x)=', norm.pdf(x))"
   ]
  },
  {
   "cell_type": "code",
   "execution_count": 18,
   "metadata": {},
   "outputs": [
    {
     "data": {
      "text/plain": [
       "(0.0, 1.0, 1.0)"
      ]
     },
     "execution_count": 18,
     "metadata": {},
     "output_type": "execute_result"
    }
   ],
   "source": [
    "norm.mean(), norm.std(), norm.var()"
   ]
  },
  {
   "cell_type": "code",
   "execution_count": 26,
   "metadata": {},
   "outputs": [
    {
     "data": {
      "text/plain": [
       "(array(0.0), array(1.0))"
      ]
     },
     "execution_count": 26,
     "metadata": {},
     "output_type": "execute_result"
    }
   ],
   "source": [
    "# Mean = 0, Variance=1.0 for normal distribution\n",
    "norm.stats(moments='m'),norm.stats(moments='v')"
   ]
  },
  {
   "cell_type": "code",
   "execution_count": 87,
   "metadata": {},
   "outputs": [
    {
     "data": {
      "text/plain": [
       "(array(0.0), array(0.0))"
      ]
     },
     "execution_count": 87,
     "metadata": {},
     "output_type": "execute_result"
    }
   ],
   "source": [
    "# Skew = 0,  Kurtosis=3 ??? for normal distribution\n",
    "norm.stats(moments='s'),norm.stats(moments='k') # why zero? "
   ]
  },
  {
   "cell_type": "code",
   "execution_count": 35,
   "metadata": {},
   "outputs": [
    {
     "name": "stdout",
     "output_type": "stream",
     "text": [
      "[ 0.89062649  0.48122827 -0.00596389]\n",
      "[-1.0856306   0.99734545  0.2829785 ]\n",
      "[-1.0856306   0.99734545  0.2829785 ]\n"
     ]
    }
   ],
   "source": [
    "# Random numbers from RVs, norm as example \n",
    "print(norm.rvs(size=3))\n",
    "\n",
    "# Random numbers with specific seed (i.e., reproducible)\n",
    "print(norm.rvs(size=3, random_state=123))\n",
    "print(norm.rvs(size=3, random_state=123))"
   ]
  },
  {
   "cell_type": "markdown",
   "metadata": {},
   "source": [
    "### Location and Scale parameters"
   ]
  },
  {
   "cell_type": "code",
   "execution_count": 41,
   "metadata": {},
   "outputs": [
    {
     "data": {
      "text/plain": [
       "(0.0, 1.0)"
      ]
     },
     "execution_count": 41,
     "metadata": {},
     "output_type": "execute_result"
    }
   ],
   "source": [
    "norm.mean(loc=0.0, scale=1.0), norm.mean(loc=1.0,scale=1.0)"
   ]
  },
  {
   "cell_type": "code",
   "execution_count": 44,
   "metadata": {},
   "outputs": [
    {
     "data": {
      "text/plain": [
       "(1.0, 4.0)"
      ]
     },
     "execution_count": 44,
     "metadata": {},
     "output_type": "execute_result"
    }
   ],
   "source": [
    "norm.var(loc=0.0, scale=1.0), norm.var(loc=0.0, scale=2.0)"
   ]
  },
  {
   "cell_type": "markdown",
   "metadata": {},
   "source": [
    "### Freezing a Distribution  \n",
    "Define one distribution with loc/scale parameters as an instance. "
   ]
  },
  {
   "cell_type": "code",
   "execution_count": 51,
   "metadata": {},
   "outputs": [
    {
     "name": "stdout",
     "output_type": "stream",
     "text": [
      "1.0 4.0\n",
      "0.5 0.199471140201\n"
     ]
    }
   ],
   "source": [
    "my_norm = norm(loc=1.0,scale=2.0)\n",
    "print(my_norm.mean(), my_norm.var())\n",
    "print(my_norm.cdf(1.0), my_norm.pdf(1.0))"
   ]
  },
  {
   "cell_type": "markdown",
   "metadata": {},
   "source": [
    "### Boardcasting\n",
    "Parameters, such as loc/scale can be a list.  \n",
    "If multiple parameters have same number of elements as the given data, element-wisely used. \n",
    "Otherwise, multiple parameters are evaluated indipendently to the given data. \n",
    "Simple example for the `norm` with loc and scale parameters is below."
   ]
  },
  {
   "cell_type": "code",
   "execution_count": 79,
   "metadata": {},
   "outputs": [
    {
     "name": "stdout",
     "output_type": "stream",
     "text": [
      "[[-1], [1]]\n",
      "(2, 3)  is output shape\n",
      "[-1, 0, 1]\n",
      "(3,)  is output shape\n"
     ]
    }
   ],
   "source": [
    "#=== Get two PDF, one with loc=-1, another with loc=1\n",
    "#   pdf([-1,0,1], loc=0) as first row. \n",
    "#   pdf([-1,0,1], loc=1) as second row. \n",
    "loc=[[-1],[1]] # must be list of list....\n",
    "x = norm.pdf([-1.0, 0.0, 1.0], loc=loc)    \n",
    "print(loc)\n",
    "print(x.shape, ' is output shape')\n",
    "\n",
    "#=== Get pdf(-1.0,loc=-1), pdf(0,loc=0), pdf(1,loc=1)\n",
    "loc=[-1,0,1]\n",
    "x = norm.pdf([-1.0, 0.0, 1.0], loc=loc)\n",
    "print(loc)\n",
    "print(x.shape, ' is output shape')"
   ]
  },
  {
   "cell_type": "markdown",
   "metadata": {},
   "source": [
    "### Fit usage  \n",
    "For instance, from given data assuming it is close to normal distribution, fitting in maximum likelifood to normal distribution estimates loc and scale parameters. Detail is in [scipy.stats.rv_continuous.fit](https://docs.scipy.org/doc/scipy/reference/generated/scipy.stats.rv_continuous.fit.html), because usage is common to continuous RVs.  "
   ]
  },
  {
   "cell_type": "code",
   "execution_count": 85,
   "metadata": {},
   "outputs": [
    {
     "name": "stdout",
     "output_type": "stream",
     "text": [
      "0.920871727838 2.00157507503\n"
     ]
    }
   ],
   "source": [
    "#== Generate known data\n",
    "loc,scale = 1., 2.\n",
    "x = norm.rvs(loc,scale,size=1000,random_state=123)\n",
    "\n",
    "#== Estimate by norm.fit \n",
    "loc_est,scale_est = norm.fit(x)\n",
    "print( loc_est, scale_est )"
   ]
  }
 ],
 "metadata": {
  "kernelspec": {
   "display_name": "Python 3",
   "language": "python",
   "name": "python3"
  },
  "language_info": {
   "codemirror_mode": {
    "name": "ipython",
    "version": 3
   },
   "file_extension": ".py",
   "mimetype": "text/x-python",
   "name": "python",
   "nbconvert_exporter": "python",
   "pygments_lexer": "ipython3",
   "version": "3.6.3"
  }
 },
 "nbformat": 4,
 "nbformat_minor": 2
}
