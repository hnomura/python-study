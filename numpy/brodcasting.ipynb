{
 "cells": [
  {
   "cell_type": "markdown",
   "metadata": {},
   "source": [
    "# Broadcasting\n",
    "[Broadcasting](https://docs.scipy.org/doc/numpy/user/basics.broadcasting.html) is a bit interesting feature of Python. At least, this does not exist in MATLAB.   \n",
    "When operating on two arrays (e.g., +, *, element-wise operation), the following two cases are manged by ***broadcast rule***.  \n",
    "- For the dimension one array has, another array does not have corresponding dimension.  \n",
    "- For the dimension one array has, another array has dimension of 1. \n",
    "\n",
    "e.g., Valid combinations\n",
    "```\n",
    "A      (4d array):  8 x 1 x 6 x 1\n",
    "B      (3d array):      7 x 1 x 5\n",
    "Result (4d array):  8 x 7 x 6 x 5\n",
    "```\n",
    "```\n",
    "A      (3d array):  15 x 3 x 5\n",
    "B      (2d array):       3 x 1\n",
    "Result (3d array):  15 x 3 x 5\n",
    "```\n",
    "\n",
    "e.g., Invalid combinations \n",
    "```\n",
    "A      (2d array):      2 x 1\n",
    "B      (3d array):  8 x 4 x 3 # second from last dimensions mismatched\n",
    "```"
   ]
  },
  {
   "cell_type": "code",
   "execution_count": 2,
   "metadata": {
    "collapsed": true
   },
   "outputs": [],
   "source": [
    "import numpy as np"
   ]
  },
  {
   "cell_type": "markdown",
   "metadata": {},
   "source": [
    "Here, x and y are in different shape, so broadcast does not work"
   ]
  },
  {
   "cell_type": "code",
   "execution_count": 8,
   "metadata": {},
   "outputs": [
    {
     "name": "stdout",
     "output_type": "stream",
     "text": [
      "x.shape (4,)\n",
      "y.shape (5,)\n"
     ]
    },
    {
     "ename": "ValueError",
     "evalue": "operands could not be broadcast together with shapes (4,) (5,) ",
     "output_type": "error",
     "traceback": [
      "\u001b[0;31m---------------------------------------------------------------------------\u001b[0m",
      "\u001b[0;31mValueError\u001b[0m                                Traceback (most recent call last)",
      "\u001b[0;32m<ipython-input-8-6e1b5fbaf69c>\u001b[0m in \u001b[0;36m<module>\u001b[0;34m()\u001b[0m\n\u001b[1;32m      7\u001b[0m \u001b[0mprint\u001b[0m\u001b[0;34m(\u001b[0m\u001b[0;34m'y.shape'\u001b[0m\u001b[0;34m,\u001b[0m \u001b[0my\u001b[0m\u001b[0;34m.\u001b[0m\u001b[0mshape\u001b[0m\u001b[0;34m)\u001b[0m\u001b[0;34m\u001b[0m\u001b[0m\n\u001b[1;32m      8\u001b[0m \u001b[0;34m\u001b[0m\u001b[0m\n\u001b[0;32m----> 9\u001b[0;31m \u001b[0mx\u001b[0m\u001b[0;34m+\u001b[0m\u001b[0my\u001b[0m \u001b[0;31m# error (shape mismatch)\u001b[0m\u001b[0;34m\u001b[0m\u001b[0m\n\u001b[0m",
      "\u001b[0;31mValueError\u001b[0m: operands could not be broadcast together with shapes (4,) (5,) "
     ]
    }
   ],
   "source": [
    "x = np.arange(4)\n",
    "xx = x.reshape(4,1)\n",
    "y = np.ones(5)\n",
    "z = np.ones((3,4))\n",
    "\n",
    "print('x.shape', x.shape)\n",
    "print('y.shape', y.shape)\n",
    "\n",
    "x+y # error (shape mismatch)"
   ]
  },
  {
   "cell_type": "markdown",
   "metadata": {},
   "source": [
    "Here, xx is (4,1).  \n",
    "y is 1D vector (5,). \n",
    "```\n",
    "xx    4 x 1 \n",
    "y         5 \n",
    "res   4 x 5\n",
    "```\n",
    "\n",
    "y is extended  to (4,5), hence equivalent to np.ones(4,5)"
   ]
  },
  {
   "cell_type": "code",
   "execution_count": 16,
   "metadata": {},
   "outputs": [
    {
     "name": "stdout",
     "output_type": "stream",
     "text": [
      "xx=\n",
      " [[0]\n",
      " [1]\n",
      " [2]\n",
      " [3]]\n",
      "xx.shape (4, 1)\n",
      "y=\n",
      " [ 1.  1.  1.  1.  1.]\n",
      "y.shape (5,)\n",
      "xx+y=\n",
      " [[ 1.  1.  1.  1.  1.]\n",
      " [ 2.  2.  2.  2.  2.]\n",
      " [ 3.  3.  3.  3.  3.]\n",
      " [ 4.  4.  4.  4.  4.]]\n",
      "xx+y shape= (4, 5)\n"
     ]
    }
   ],
   "source": [
    "print('xx=\\n', xx)\n",
    "print('xx.shape', xx.shape)\n",
    "print('y=\\n', y)\n",
    "print('y.shape', y.shape)\n",
    "print('xx+y=\\n',xx+y)\n",
    "print('xx+y shape=', (xx+y).shape)\n"
   ]
  },
  {
   "cell_type": "markdown",
   "metadata": {},
   "source": [
    "x is 1D vector shape = (4,)\n",
    "z is 2D vector shape = (3,4) \n",
    "\n",
    "```\n",
    "x       4 \n",
    "z   3 x 4\n",
    "res 3 x 4\n",
    "```\n",
    "\n",
    "x is extended to 3 rows (additional 2 rows) "
   ]
  },
  {
   "cell_type": "code",
   "execution_count": 20,
   "metadata": {},
   "outputs": [
    {
     "name": "stdout",
     "output_type": "stream",
     "text": [
      "x.shape (4,)\n",
      "z.shape (3, 4)\n",
      "(x+z).shape (3, 4)\n",
      "x+z=\n",
      " [[ 1.  2.  3.  4.]\n",
      " [ 1.  2.  3.  4.]\n",
      " [ 1.  2.  3.  4.]]\n"
     ]
    }
   ],
   "source": [
    "print('x.shape', x.shape)\n",
    "print('z.shape', z.shape)\n",
    "\n",
    "print('(x+z).shape', (x+z).shape)\n",
    "print('x+z=\\n', x+z)"
   ]
  },
  {
   "cell_type": "markdown",
   "metadata": {},
   "source": [
    "a.shape = (4,)\n",
    "a[:,np.newaxis].shape = (4,1)\n",
    "b.shape = (3,)\n",
    "\n",
    "```\n",
    "a[:,np.newaxis]      4 x 1 \n",
    "b                        3\n",
    "res                  4 x 3\n",
    "```\n",
    "b[] is extended to (4,3) by duplicating "
   ]
  },
  {
   "cell_type": "code",
   "execution_count": 28,
   "metadata": {},
   "outputs": [
    {
     "name": "stdout",
     "output_type": "stream",
     "text": [
      "### The following two are equivalent\n",
      "[[  0.]\n",
      " [ 10.]\n",
      " [ 20.]\n",
      " [ 30.]] \n",
      "\n",
      "[[  0.]\n",
      " [ 10.]\n",
      " [ 20.]\n",
      " [ 30.]] \n",
      "\n",
      "[[  1.   2.   3.]\n",
      " [ 11.  12.  13.]\n",
      " [ 21.  22.  23.]\n",
      " [ 31.  32.  33.]]\n"
     ]
    }
   ],
   "source": [
    "a = np.array([0.0, 10.0, 20.0, 30.0])\n",
    "b = np.array([1.0, 2.0, 3.0])\n",
    "\n",
    "print(\"### The following two are equivalent\")\n",
    "print(a[:,np.newaxis], '\\n')\n",
    "print(a.reshape(4,1), '\\n')\n",
    "\n",
    "print(a[:,np.newaxis] + b)"
   ]
  }
 ],
 "metadata": {
  "kernelspec": {
   "display_name": "Python 3",
   "language": "python",
   "name": "python3"
  },
  "language_info": {
   "codemirror_mode": {
    "name": "ipython",
    "version": 3
   },
   "file_extension": ".py",
   "mimetype": "text/x-python",
   "name": "python",
   "nbconvert_exporter": "python",
   "pygments_lexer": "ipython3",
   "version": "3.6.3"
  }
 },
 "nbformat": 4,
 "nbformat_minor": 2
}
