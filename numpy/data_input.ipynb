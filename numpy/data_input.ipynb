{
 "cells": [
  {
   "cell_type": "markdown",
   "metadata": {},
   "source": [
    "## Importing Data\n",
    "Data can be from text file (e.g., CSV), compressed file (`.gz` or `bz2`), or text string.  \n",
    "`genfromtxt` or `loadtxt` are options.  `genfromtxt` can take ***missing data*** into account, but `loadtxt` cannot. \n",
    "\n",
    "[Importing data with](https://docs.scipy.org/doc/numpy/user/basics.io.genfromtxt.html#defining-the-input)"
   ]
  },
  {
   "cell_type": "code",
   "execution_count": 82,
   "metadata": {},
   "outputs": [],
   "source": [
    "import numpy as np\n",
    "from io import BytesIO, StringIO"
   ]
  },
  {
   "cell_type": "markdown",
   "metadata": {},
   "source": [
    "## Simple CSV type\n",
    "Python3 requires `encode()` to the string given to BytesIO()"
   ]
  },
  {
   "cell_type": "code",
   "execution_count": 26,
   "metadata": {},
   "outputs": [
    {
     "name": "stdout",
     "output_type": "stream",
     "text": [
      "[[ 1.  2.  3.]\n",
      " [ 4.  5.  6.]]\n"
     ]
    }
   ],
   "source": [
    "data = \"1, 2, 3\\n4, 5, 6\"\n",
    "x = np.genfromtxt(BytesIO(data.encode()), delimiter=\",\")\n",
    "print(x)"
   ]
  },
  {
   "cell_type": "markdown",
   "metadata": {},
   "source": [
    "## Delimiter for fixed length "
   ]
  },
  {
   "cell_type": "code",
   "execution_count": 33,
   "metadata": {},
   "outputs": [
    {
     "name": "stdout",
     "output_type": "stream",
     "text": [
      "[[   1.    2.    3.]\n",
      " [   4.    5.   67.]\n",
      " [ 890.  123.    4.]] \n",
      "\n",
      "[[ 1234.   567.    89.]\n",
      " [    4.     7.     9.]\n",
      " [    4.   567.     9.]]\n"
     ]
    }
   ],
   "source": [
    "data = \"  1  2  3\\n  4  5 67\\n890123  4\"\n",
    "x = np.genfromtxt(BytesIO(data.encode()), delimiter=3)  # 3 chars to each column\n",
    "print(x, '\\n')\n",
    "\n",
    "data = \"123456789\\n   4  7 9\\n   4567 9\"\n",
    "x = np.genfromtxt(BytesIO(data.encode()), delimiter=(4, 3, 2)) # (4chars, 3chars, 2chars)\n",
    "print(x)"
   ]
  },
  {
   "cell_type": "markdown",
   "metadata": {},
   "source": [
    "## Comments"
   ]
  },
  {
   "cell_type": "code",
   "execution_count": 48,
   "metadata": {},
   "outputs": [
    {
     "name": "stdout",
     "output_type": "stream",
     "text": [
      "[[ 1.  2.]\n",
      " [ 3.  4.]\n",
      " [ 5.  6.]\n",
      " [ 7.  8.]\n",
      " [ 9.  0.]]\n"
     ]
    }
   ],
   "source": [
    "data = \"\"\"#\n",
    "    # Skip me !\n",
    "    # Skip me too !\n",
    "    1, 2\n",
    "    3, 4\n",
    "    5, 6 #This is the third line of the data\n",
    "    7, 8\n",
    "    # And here comes the last line\n",
    "    9, 0\n",
    "    \"\"\"\n",
    "\n",
    "x = np.genfromtxt(BytesIO(data.encode()), comments=\"#\", delimiter=\",\")\n",
    "print(x)"
   ]
  },
  {
   "cell_type": "markdown",
   "metadata": {},
   "source": [
    "## Skip header/footer"
   ]
  },
  {
   "cell_type": "code",
   "execution_count": 50,
   "metadata": {},
   "outputs": [
    {
     "name": "stdout",
     "output_type": "stream",
     "text": [
      "[[ 1.  2.  3.]\n",
      " [ 4.  5.  6.]]\n"
     ]
    }
   ],
   "source": [
    "data = \"\"\"Header Line 1\n",
    "    Header Line 2\n",
    "    1, 2, 3\n",
    "    4, 5, 6\n",
    "    Footer Line \n",
    "    \"\"\"\n",
    "x = np.genfromtxt(BytesIO(data.encode()), skip_header=2, skip_footer=1, delimiter=\",\")\n",
    "print(x)"
   ]
  },
  {
   "cell_type": "markdown",
   "metadata": {},
   "source": [
    "## Selective Columns"
   ]
  },
  {
   "cell_type": "code",
   "execution_count": 65,
   "metadata": {},
   "outputs": [
    {
     "name": "stdout",
     "output_type": "stream",
     "text": [
      "[[ 1.  3.]\n",
      " [ 4.  6.]]\n"
     ]
    },
    {
     "data": {
      "text/plain": [
       "(2, 2)"
      ]
     },
     "execution_count": 65,
     "metadata": {},
     "output_type": "execute_result"
    }
   ],
   "source": [
    "data = \"1 2 3\\n4 5 6\"\n",
    "x = np.genfromtxt(BytesIO(data.encode()), usecols=(0,2))\n",
    "print(x)\n",
    "x.shape"
   ]
  },
  {
   "cell_type": "code",
   "execution_count": 72,
   "metadata": {
    "scrolled": true
   },
   "outputs": [
    {
     "name": "stdout",
     "output_type": "stream",
     "text": [
      "returned= [( 1.,  3.) ( 4.,  6.)]\n",
      "shape= (2,)\n",
      "x[\"a\"] = [ 1.  4.]\n"
     ]
    }
   ],
   "source": [
    "# Assign names to columns and use the names for selection \n",
    "# When column name is given, returned obj is accessible by name\n",
    "data = \"1 2 3\\n4 5 6\"\n",
    "names = [\"a\",\"b\",\"c\"]\n",
    "x = np.genfromtxt(BytesIO(data.encode()), names=names, usecols=(\"a\",\"c\"))\n",
    "print('returned=', x)\n",
    "print('shape=', x.shape)\n",
    "print('x[\"a\"] =', x[\"a\"])"
   ]
  },
  {
   "cell_type": "markdown",
   "metadata": {},
   "source": [
    "## With column name and format "
   ]
  },
  {
   "cell_type": "code",
   "execution_count": 83,
   "metadata": {},
   "outputs": [
    {
     "name": "stdout",
     "output_type": "stream",
     "text": [
      "returned= [(1,  1.2, 4) (2,  2.4, 6)]\n",
      "x[\"a\"]= [1 2]\n",
      "x[\"b\"]= [ 1.2  2.4]\n"
     ]
    }
   ],
   "source": [
    "data = \"1, 1.2, 4\\n2, 2.4, 6\"\n",
    "dtype=[('a', '<i8'), ('b', '<f8'), ('c', '<i8')]\n",
    "x = np.genfromtxt(BytesIO(data.encode()), dtype=dtype, delimiter=',')\n",
    "print('returned=', x)\n",
    "print('x[\"a\"]=', x[\"a\"])\n",
    "print('x[\"b\"]=', x[\"b\"])"
   ]
  },
  {
   "cell_type": "markdown",
   "metadata": {},
   "source": [
    "## Custom Conveter"
   ]
  },
  {
   "cell_type": "code",
   "execution_count": 109,
   "metadata": {},
   "outputs": [
    {
     "name": "stdout",
     "output_type": "stream",
     "text": [
      "[( 1.,  0.023,  45.) ( 6.,  0.789,   0.)]\n"
     ]
    }
   ],
   "source": [
    "# converter function (from % to ratio)\n",
    "convertfunc = lambda x: float(x.decode().strip(\"%\"))/100.\n",
    "\n",
    "data = \"1, 2.3%, 45.\\n6, 78.9%, 0\"\n",
    "names = (\"i\", \"p\", \"n\")\n",
    "\n",
    "# For the column named \"p\", apply convertfunc\n",
    "x = np.genfromtxt(BytesIO(data.encode()), delimiter=\",\", names=names, converters={\"p\":convertfunc} )\n",
    "print(x)"
   ]
  },
  {
   "cell_type": "markdown",
   "metadata": {},
   "source": [
    "## Missing value handling, and parameters via dic"
   ]
  },
  {
   "cell_type": "code",
   "execution_count": 116,
   "metadata": {},
   "outputs": [
    {
     "name": "stdout",
     "output_type": "stream",
     "text": [
      "[(0, 2,    3) (4, 0, -999)]\n"
     ]
    }
   ],
   "source": [
    "data = \"N/A, 2, 3\\n4, ,???\"\n",
    "\n",
    "\n",
    "# 0th column: N/A -> 0\n",
    "# 'b' name column: \" \" -> 0 \n",
    "# 2nd column: \"???\" -> -999\n",
    "kwargs = dict( delimiter=\",\", \n",
    "                dtype=int, \n",
    "                names=\"a,b,c\",\n",
    "                missing_values={0:\"N/A\", 'b':\" \", 2:\"???\"},\n",
    "                filling_values={0:0, 'b':0, 2:-999}\n",
    "              )\n",
    "x = np.genfromtxt(BytesIO(data.encode()), **kwargs)\n",
    "print(x)"
   ]
  },
  {
   "cell_type": "markdown",
   "metadata": {},
   "source": [
    "## Sisters to genfromtxt\n",
    "- `ndfromtxt` : Always set usemask=False (output is always standard numpy.ndarray)\n",
    "- `mafromtxt` : Always set usemask=True (output is always MaskedArray) \n",
    "- `recfromtxt` : Default dtype=None, i.e., try to automatically determine value type of each column \n",
    "- `recfromcsv` : delimiter=\",\""
   ]
  },
  {
   "cell_type": "markdown",
   "metadata": {},
   "source": [
    "___\n",
    "## Simple loadtxt"
   ]
  },
  {
   "cell_type": "code",
   "execution_count": 110,
   "metadata": {},
   "outputs": [
    {
     "name": "stdout",
     "output_type": "stream",
     "text": [
      "[[ 0.  1.]\n",
      " [ 2.  3.]]\n"
     ]
    }
   ],
   "source": [
    "data = \"0 1\\n2 3\"\n",
    "x = np.loadtxt(StringIO(data))\n",
    "print(x)"
   ]
  },
  {
   "cell_type": "markdown",
   "metadata": {},
   "source": [
    "## Mixed format in loadtxt"
   ]
  },
  {
   "cell_type": "code",
   "execution_count": 111,
   "metadata": {},
   "outputs": [
    {
     "name": "stdout",
     "output_type": "stream",
     "text": [
      "[(b'M', 21,  72.) (b'F', 35,  58.)]\n",
      "[21 35]\n"
     ]
    }
   ],
   "source": [
    "data = \"M 21 72\\nF 35 58\"\n",
    "dtype={'names':   ('gender','age', 'weight'), \n",
    "       'formats': ('S1',    'i4',  'f4')}\n",
    "x = np.loadtxt(StringIO(data), dtype=dtype)\n",
    "print(x)\n",
    "print(x[\"age\"])"
   ]
  }
 ],
 "metadata": {
  "kernelspec": {
   "display_name": "Python 3",
   "language": "python",
   "name": "python3"
  },
  "language_info": {
   "codemirror_mode": {
    "name": "ipython",
    "version": 3
   },
   "file_extension": ".py",
   "mimetype": "text/x-python",
   "name": "python",
   "nbconvert_exporter": "python",
   "pygments_lexer": "ipython3",
   "version": "3.6.3"
  }
 },
 "nbformat": 4,
 "nbformat_minor": 2
}
