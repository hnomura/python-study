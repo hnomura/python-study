{
 "cells": [
  {
   "cell_type": "markdown",
   "metadata": {},
   "source": [
    "# MATLAB\n",
    "From [SciPy.org user manual](https://docs.scipy.org/doc/numpy/user/numpy-for-matlab-users.html), some fundamental MATLAB operations I'm personally familiar are noted for their Python equivalent.  This is not the complete list. Some operations are in `scipy.linalg`.  FFT related is in `numpy.fft` module.   \n",
    "\n",
    "Also refers to http://mathesaurus.sourceforge.net/matlab-numpy.html\n"
   ]
  },
  {
   "cell_type": "code",
   "execution_count": 8,
   "metadata": {
    "collapsed": true
   },
   "outputs": [],
   "source": [
    "import numpy as np\n",
    "import scipy.linalg"
   ]
  },
  {
   "cell_type": "markdown",
   "metadata": {},
   "source": [
    ">`a && b` => `a and b`"
   ]
  },
  {
   "cell_type": "code",
   "execution_count": 4,
   "metadata": {},
   "outputs": [
    {
     "name": "stdout",
     "output_type": "stream",
     "text": [
      "yap\n"
     ]
    }
   ],
   "source": [
    "a=True \n",
    "b=False\n",
    "if a and b:\n",
    "    print('no way')\n",
    "else:\n",
    "    print('yap')"
   ]
  },
  {
   "cell_type": "markdown",
   "metadata": {},
   "source": [
    ">`a || b` ==> `a or b`"
   ]
  },
  {
   "cell_type": "code",
   "execution_count": 6,
   "metadata": {},
   "outputs": [
    {
     "name": "stdout",
     "output_type": "stream",
     "text": [
      "yap\n"
     ]
    }
   ],
   "source": [
    "a=True \n",
    "b=False\n",
    "if a or b:\n",
    "    print('yap')\n",
    "else:\n",
    "    print('nop')"
   ]
  },
  {
   "cell_type": "markdown",
   "metadata": {},
   "source": [
    ">`ndims(a) ==> ndim(a) or a.ndim`   # the number of dimension"
   ]
  },
  {
   "cell_type": "code",
   "execution_count": 39,
   "metadata": {},
   "outputs": [
    {
     "name": "stdout",
     "output_type": "stream",
     "text": [
      "2\n",
      "2\n"
     ]
    }
   ],
   "source": [
    "a = np.array([[1,2,3],[4,5,6]])\n",
    "print(np.ndim(a))\n",
    "print(a.ndim)"
   ]
  },
  {
   "cell_type": "markdown",
   "metadata": {},
   "source": [
    ">`numel(a) ==> size(a) or a.size`  # the total number of elements in array "
   ]
  },
  {
   "cell_type": "code",
   "execution_count": 36,
   "metadata": {},
   "outputs": [
    {
     "name": "stdout",
     "output_type": "stream",
     "text": [
      "6\n",
      "6\n"
     ]
    }
   ],
   "source": [
    "a = np.arange(6).reshape(2,3)\n",
    "print(np.size(a))\n",
    "print(a.size)"
   ]
  },
  {
   "cell_type": "markdown",
   "metadata": {},
   "source": [
    ">`size(a)`"
   ]
  },
  {
   "cell_type": "code",
   "execution_count": 14,
   "metadata": {},
   "outputs": [
    {
     "name": "stdout",
     "output_type": "stream",
     "text": [
      "(3,) (3,)\n"
     ]
    }
   ],
   "source": [
    "a = np.array([1,2,3])\n",
    "print(np.shape(a), a.shape)"
   ]
  },
  {
   "cell_type": "markdown",
   "metadata": {},
   "source": [
    ">`[1,2,3;4,5,6] => array([1,2,3],[4,5,6])`"
   ]
  },
  {
   "cell_type": "code",
   "execution_count": 17,
   "metadata": {},
   "outputs": [
    {
     "name": "stdout",
     "output_type": "stream",
     "text": [
      "[[1 2 3]\n",
      " [4 5 6]]\n"
     ]
    }
   ],
   "source": [
    "a = np.array([ [1,2,3], [4,5,6] ])\n",
    "print(a)"
   ]
  },
  {
   "cell_type": "markdown",
   "metadata": {},
   "source": [
    ">`a(1:5) ==> a[0:5]`  \n",
    "\n",
    "*** Note about exclusiveness in python. Also, slice is 'view' ***"
   ]
  },
  {
   "cell_type": "code",
   "execution_count": 20,
   "metadata": {},
   "outputs": [
    {
     "name": "stdout",
     "output_type": "stream",
     "text": [
      "[ 0.  1.]\n"
     ]
    }
   ],
   "source": [
    "a = np.arange(10.)\n",
    "print(a[0:2])"
   ]
  },
  {
   "cell_type": "markdown",
   "metadata": {},
   "source": [
    ">`a(1:2:10) ==> a[0:10:2]"
   ]
  },
  {
   "cell_type": "code",
   "execution_count": 22,
   "metadata": {},
   "outputs": [
    {
     "name": "stdout",
     "output_type": "stream",
     "text": [
      "[0 2 4 6 8]\n"
     ]
    }
   ],
   "source": [
    "a = np.arange(10)\n",
    "print(a[0:10:2])"
   ]
  },
  {
   "cell_type": "markdown",
   "metadata": {},
   "source": [
    ">`a(end:-1:1) ==> a[::-1]`   # flippling"
   ]
  },
  {
   "cell_type": "code",
   "execution_count": 26,
   "metadata": {},
   "outputs": [
    {
     "name": "stdout",
     "output_type": "stream",
     "text": [
      "[0 1 2 3 4 5 6 7 8 9]\n",
      "[9 8 7 6 5 4 3 2 1 0]\n"
     ]
    }
   ],
   "source": [
    "a = np.arange(10)\n",
    "print(a)\n",
    "print(a[::-1])"
   ]
  },
  {
   "cell_type": "markdown",
   "metadata": {},
   "source": [
    ">`a(end:-1:1, :) ==> a[::-1,:]`  # row flipping (or MATLAB flipud()"
   ]
  },
  {
   "cell_type": "code",
   "execution_count": 33,
   "metadata": {},
   "outputs": [
    {
     "name": "stdout",
     "output_type": "stream",
     "text": [
      "[[0 1 2]\n",
      " [3 4 5]\n",
      " [6 7 8]]\n",
      "[[6 7 8]\n",
      " [3 4 5]\n",
      " [0 1 2]]\n"
     ]
    }
   ],
   "source": [
    "a = np.arange(9).reshape((3,3))\n",
    "print(a)\n",
    "print(a[::-1,:])"
   ]
  },
  {
   "cell_type": "markdown",
   "metadata": {},
   "source": [
    ">`a.' ==> a.transpose() or a.T`     # transpose (without conjugate)"
   ]
  },
  {
   "cell_type": "code",
   "execution_count": 45,
   "metadata": {},
   "outputs": [
    {
     "name": "stdout",
     "output_type": "stream",
     "text": [
      "[[0 1 2]\n",
      " [3 4 5]]\n",
      "[[0 3]\n",
      " [1 4]\n",
      " [2 5]]\n",
      "[[0 3]\n",
      " [1 4]\n",
      " [2 5]]\n"
     ]
    }
   ],
   "source": [
    "a = np.arange(6).reshape((2,3))\n",
    "print(a)\n",
    "print(a.T)\n",
    "print(a.transpose())"
   ]
  },
  {
   "cell_type": "markdown",
   "metadata": {},
   "source": [
    ">`a' ==> a.conj().transpose() or a.conj().T`  # transpose with conjugate"
   ]
  },
  {
   "cell_type": "code",
   "execution_count": 63,
   "metadata": {},
   "outputs": [
    {
     "name": "stdout",
     "output_type": "stream",
     "text": [
      "[[ 0.+0.j  1.+1.j  2.+2.j]\n",
      " [ 3.+3.j  4.+4.j  5.+5.j]]\n",
      "[[ 0.-0.j  3.-3.j]\n",
      " [ 1.-1.j  4.-4.j]\n",
      " [ 2.-2.j  5.-5.j]]\n"
     ]
    }
   ],
   "source": [
    "a = np.arange(6).reshape((2,3))\n",
    "b = np.arange(6).reshape((2,3))*1j\n",
    "c = a+b\n",
    "print(c)\n",
    "print(c.conj().T)"
   ]
  },
  {
   "cell_type": "markdown",
   "metadata": {},
   "source": [
    ">`a * b ==> a.dot(b) or np.dob(a,b)`  \n",
    ">`a .* b ==> a * b`  \n",
    ">`a ./ b ==> a / b`  \n",
    ">`a.^3 ==> a**3`"
   ]
  },
  {
   "cell_type": "code",
   "execution_count": 72,
   "metadata": {},
   "outputs": [
    {
     "name": "stdout",
     "output_type": "stream",
     "text": [
      "[ 0  2  6 12 20 30]\n",
      "[ 0.          0.5         0.66666667  0.75        0.8         0.83333333]\n",
      "[  0   1   8  27  64 125]\n"
     ]
    }
   ],
   "source": [
    "a = np.arange(6)\n",
    "b = np.arange(6) + 1\n",
    "print(a*b)\n",
    "print(a/b)\n",
    "print(a**3)"
   ]
  },
  {
   "cell_type": "markdown",
   "metadata": {},
   "source": [
    ">`find(a>0.5) ==> nonzero(a>0.5)`  # return index"
   ]
  },
  {
   "cell_type": "code",
   "execution_count": 82,
   "metadata": {},
   "outputs": [
    {
     "name": "stdout",
     "output_type": "stream",
     "text": [
      "[6 7 8 9] \n",
      " [ 0.6  0.7  0.8  0.9]\n"
     ]
    }
   ],
   "source": [
    "a = np.arange(10) / 10\n",
    "i = np.nonzero(a>0.5)[0]\n",
    "print(i, '\\n', a[i])"
   ]
  },
  {
   "cell_type": "code",
   "execution_count": 87,
   "metadata": {},
   "outputs": [
    {
     "name": "stdout",
     "output_type": "stream",
     "text": [
      "(array([2, 2, 2]), array([0, 1, 2]))\n",
      "[ 0.6  0.7  0.8]\n"
     ]
    }
   ],
   "source": [
    "a = np.arange(9).reshape((3,3))/10.\n",
    "i = np.nonzero(a>0.5)\n",
    "print(i)\n",
    "print(a[i])"
   ]
  },
  {
   "cell_type": "markdown",
   "metadata": {},
   "source": [
    ">`a .* (a>0.5) ==> a * (a>0.5)`     # make larger than 0.5 to zero "
   ]
  },
  {
   "cell_type": "code",
   "execution_count": 91,
   "metadata": {},
   "outputs": [
    {
     "name": "stdout",
     "output_type": "stream",
     "text": [
      "[ 0.   0.1  0.2  0.3  0.4  0.5  0.6  0.7  0.8  0.9]\n",
      "[ 0.   0.   0.   0.   0.   0.   0.6  0.7  0.8  0.9]\n"
     ]
    }
   ],
   "source": [
    "a = np.arange(0,1,0.1)\n",
    "print(a)\n",
    "print( a * (a>0.5) )"
   ]
  },
  {
   "cell_type": "markdown",
   "metadata": {},
   "source": [
    ">`a = b  ==> a = b.copy()`   # ***This is fundamental difference. Array assignment is shallow copy***"
   ]
  },
  {
   "cell_type": "code",
   "execution_count": 93,
   "metadata": {},
   "outputs": [
    {
     "name": "stdout",
     "output_type": "stream",
     "text": [
      "[0 1 2 3 4 5 6 7 8 9]\n",
      "[100   1   2   3   4   5   6   7   8   9]\n"
     ]
    }
   ],
   "source": [
    "a = np.arange(10)\n",
    "b = a.copy()\n",
    "b[0] = 100\n",
    "print(a)\n",
    "print(b)"
   ]
  },
  {
   "cell_type": "markdown",
   "metadata": {},
   "source": [
    ">`repmat(a,m,n) ==> tile(a, (m,n))`   # create (m x n) copies of a"
   ]
  },
  {
   "cell_type": "code",
   "execution_count": 100,
   "metadata": {},
   "outputs": [
    {
     "name": "stdout",
     "output_type": "stream",
     "text": [
      "[[1 2 3]\n",
      " [1 2 3]] \n",
      "\n",
      "[[1 2 3 1 2 3]] \n",
      "\n",
      "[[1 2 3 1 2 3]\n",
      " [1 2 3 1 2 3]] \n",
      "\n"
     ]
    }
   ],
   "source": [
    "a = np.array([1,2,3])\n",
    "print(np.tile(a,(2,1)),'\\n')\n",
    "print(np.tile(a,(1,2)), '\\n')\n",
    "print(np.tile(a,(2,2)), '\\n')"
   ]
  },
  {
   "cell_type": "markdown",
   "metadata": {},
   "source": [
    ">`[a b] ==> hstack((a,b))`  \n",
    ">`[a;b] ==> vstack((a,b))`"
   ]
  },
  {
   "cell_type": "code",
   "execution_count": 124,
   "metadata": {},
   "outputs": [
    {
     "name": "stdout",
     "output_type": "stream",
     "text": [
      "[1 2 3 4 5 6]\n",
      "[1 2 3 4 5 6]\n",
      "\n",
      "\n",
      "[[1 2 3]\n",
      " [4 5 6]]\n",
      "[[1 4]\n",
      " [2 5]\n",
      " [3 6]]\n",
      "[[1 2 3]\n",
      " [4 5 6]]\n"
     ]
    }
   ],
   "source": [
    "a = np.array([1,2,3])\n",
    "b = np.array([4,5,6])\n",
    "print(np.hstack((a,b)))\n",
    "print(np.r_[a,b])  # note: 1D specific\n",
    "print('\\n')\n",
    "print(np.vstack((a,b)))\n",
    "print(np.c_[a,b])\n",
    "print(np.c_[a,b].T) # note: 1D specific"
   ]
  },
  {
   "cell_type": "code",
   "execution_count": 125,
   "metadata": {},
   "outputs": [
    {
     "name": "stdout",
     "output_type": "stream",
     "text": [
      "[[  0   1   2 100 101 102]\n",
      " [  3   4   5 103 104 105]]\n",
      "[[  0   1   2 100 101 102]\n",
      " [  3   4   5 103 104 105]]\n",
      "\n",
      "[[  0   1   2]\n",
      " [  3   4   5]\n",
      " [100 101 102]\n",
      " [103 104 105]]\n",
      "[[  0   1   2]\n",
      " [  3   4   5]\n",
      " [100 101 102]\n",
      " [103 104 105]]\n"
     ]
    }
   ],
   "source": [
    "a = np.arange(6).reshape((2,3))\n",
    "b = a.copy() + 100\n",
    "print(np.hstack((a,b)))\n",
    "print(np.c_[a,b])\n",
    "print()\n",
    "print(np.vstack((a,b)))\n",
    "print(np.r_[a,b])"
   ]
  },
  {
   "cell_type": "markdown",
   "metadata": {},
   "source": [
    ">`max(max(a)) ==> a.max()`     # Max of 2D matrix"
   ]
  },
  {
   "cell_type": "code",
   "execution_count": 127,
   "metadata": {},
   "outputs": [
    {
     "name": "stdout",
     "output_type": "stream",
     "text": [
      "8\n"
     ]
    }
   ],
   "source": [
    "a = np.arange(9).reshape((3,3))\n",
    "print(a.max())"
   ]
  },
  {
   "cell_type": "markdown",
   "metadata": {},
   "source": [
    "> `max(a) ==> a.max(0)`       # maximum element of each column of 2D matrix : 0 = across rows \n",
    "> `max(a,[],2) ==> a.max(1)`  # maximum element of each row of 2D matrix    : 1 = across columns"
   ]
  },
  {
   "cell_type": "code",
   "execution_count": 131,
   "metadata": {},
   "outputs": [
    {
     "name": "stdout",
     "output_type": "stream",
     "text": [
      "[[0 1 2]\n",
      " [3 4 5]\n",
      " [6 7 8]]\n",
      "[6 7 8]\n",
      "[2 5 8]\n"
     ]
    }
   ],
   "source": [
    "a = np.arange(9).reshape((3,3))\n",
    "print(a)\n",
    "print(a.max(0))\n",
    "print(a.max(1))"
   ]
  },
  {
   "cell_type": "markdown",
   "metadata": {},
   "source": [
    "> `a & b ==> logical_and(a,b)`   # logical AND  \n",
    "> `a | b ==> locgical_or(a,b)`   # logical OR "
   ]
  },
  {
   "cell_type": "code",
   "execution_count": 137,
   "metadata": {},
   "outputs": [
    {
     "name": "stdout",
     "output_type": "stream",
     "text": [
      "False\n",
      "True\n"
     ]
    }
   ],
   "source": [
    "a = True\n",
    "b = False\n",
    "print(np.logical_and(a,b))\n",
    "print(np.logical_or(a,b))\n"
   ]
  },
  {
   "cell_type": "markdown",
   "metadata": {},
   "source": [
    "> `bitand(a,b) ==> a & b`     # bitwise AND  \n",
    "> `bitor(a,b)  ==> a | b`     # bitwise OR "
   ]
  },
  {
   "cell_type": "code",
   "execution_count": 141,
   "metadata": {},
   "outputs": [
    {
     "name": "stdout",
     "output_type": "stream",
     "text": [
      "8\n",
      "90\n"
     ]
    }
   ],
   "source": [
    "a = 0x5a\n",
    "b = 0x08\n",
    "print(a&b)\n",
    "print(a|b)"
   ]
  },
  {
   "cell_type": "markdown",
   "metadata": {},
   "source": [
    ">`inv(a) ==> linalg.inv(a)`     # inverse of square matrix  \n",
    ">`pinv(a) ==> linalg.pinv(a)`   # peudo-inverse matrix"
   ]
  },
  {
   "cell_type": "code",
   "execution_count": 147,
   "metadata": {
    "scrolled": true
   },
   "outputs": [
    {
     "name": "stdout",
     "output_type": "stream",
     "text": [
      "[[ 1.  0.  0.]\n",
      " [ 0.  1.  0.]\n",
      " [ 0.  0.  1.]]\n",
      "[[ 1.  0.  0.]\n",
      " [ 0.  1.  0.]\n",
      " [ 0.  0.  1.]]\n"
     ]
    }
   ],
   "source": [
    "a = np.eye(3)\n",
    "print(a)\n",
    "print(np.linalg.inv(a))"
   ]
  },
  {
   "cell_type": "markdown",
   "metadata": {},
   "source": [
    ">`a\\b  ==> linalg.solve(a,b)`      # solution of x to a*x = b  (square)"
   ]
  },
  {
   "cell_type": "code",
   "execution_count": 182,
   "metadata": {},
   "outputs": [
    {
     "name": "stdout",
     "output_type": "stream",
     "text": [
      "[[ 0.  1.  2.]\n",
      " [ 3.  4.  5.]\n",
      " [ 6.  7.  8.]]\n"
     ]
    }
   ],
   "source": [
    "a = np.eye(3)\n",
    "x0 = np.arange(9.).reshape((3,3))\n",
    "b = a@x0  # np.dot(a,x0)\n",
    "\n",
    "x1 = np.linalg.solve(a,b)\n",
    "print(x1)"
   ]
  },
  {
   "cell_type": "markdown",
   "metadata": {},
   "source": [
    "FFT/IFFT is in numpy.fft module\n",
    "> `fft(a)  ==> fft(a)`  \n",
    "> `ifft(a) ==> ifft(a)`"
   ]
  },
  {
   "cell_type": "code",
   "execution_count": 194,
   "metadata": {},
   "outputs": [
    {
     "name": "stdout",
     "output_type": "stream",
     "text": [
      "err= (1.49880108324e-15-1.90068110953e-16j)\n"
     ]
    }
   ],
   "source": [
    "x = np.sin(2*np.pi*100*(np.linspace(0,1,512)));\n",
    "f = np.fft.fft(x)\n",
    "xx = np.fft.ifft(f)\n",
    "print('err=', np.max(x-xx))  # should be almost zero"
   ]
  },
  {
   "cell_type": "markdown",
   "metadata": {},
   "source": [
    ">`sort(a) ==>  sort(a) or a.sort()`  \n",
    "***NOTE*** a.sort() modify contents of a"
   ]
  },
  {
   "cell_type": "code",
   "execution_count": 202,
   "metadata": {},
   "outputs": [
    {
     "name": "stdout",
     "output_type": "stream",
     "text": [
      "[10  9  8  7  6  5  4  3  2  1]\n",
      "[ 1  2  3  4  5  6  7  8  9 10]\n",
      "[ 1  2  3  4  5  6  7  8  9 10]\n"
     ]
    }
   ],
   "source": [
    "a = np.arange(10,0,-1)\n",
    "print(a)\n",
    "b = np.sort(a)\n",
    "a.sort()\n",
    "print(b)\n",
    "print(a)\n",
    " "
   ]
  },
  {
   "cell_type": "markdown",
   "metadata": {},
   "source": [
    ">`unique(a) ==> unique(a)`  \n",
    "To get index,  `u,i = unique(a, return_indices=True)`  "
   ]
  },
  {
   "cell_type": "code",
   "execution_count": 207,
   "metadata": {},
   "outputs": [
    {
     "name": "stdout",
     "output_type": "stream",
     "text": [
      "[0 1 2 3] [6 0 1 2]\n"
     ]
    }
   ],
   "source": [
    "a = np.array([1,2,3,2,3,1,0]);\n",
    "x,i = np.unique(a, return_index=True)\n",
    "print(x,i)"
   ]
  },
  {
   "cell_type": "code",
   "execution_count": 212,
   "metadata": {},
   "outputs": [
    {
     "name": "stdout",
     "output_type": "stream",
     "text": [
      "[[1 0 0]\n",
      " [2 3 4]]\n"
     ]
    }
   ],
   "source": [
    "a = np.array([[1,0,0], [1,0,0], [2,3,4]])\n",
    "print(np.unique(a, axis=0))  # unique rows"
   ]
  },
  {
   "cell_type": "markdown",
   "metadata": {},
   "source": [
    ">`squeeze(a) ==> a.squeeze()`  "
   ]
  },
  {
   "cell_type": "code",
   "execution_count": 219,
   "metadata": {},
   "outputs": [
    {
     "name": "stdout",
     "output_type": "stream",
     "text": [
      "[0 1 2] (3,)\n"
     ]
    }
   ],
   "source": [
    "a = np.arange(9).reshape((3,3))\n",
    "b = a[0,:].copy()\n",
    "print(b, b.shape)    # unlike MATLAB, row by slice does not maintain reduced single-dimension. no need for squeeze"
   ]
  },
  {
   "cell_type": "code",
   "execution_count": 224,
   "metadata": {},
   "outputs": [
    {
     "name": "stdout",
     "output_type": "stream",
     "text": [
      "[[[0]\n",
      "  [1]\n",
      "  [2]]] (1, 3, 1)\n",
      "[0 1 2] (3,)\n"
     ]
    }
   ],
   "source": [
    "a = np.array([[[0],[1],[2]]])\n",
    "print(a, a.shape)\n",
    "\n",
    "b = a.squeeze()\n",
    "print(b, b.shape)"
   ]
  }
 ],
 "metadata": {
  "kernelspec": {
   "display_name": "Python 3",
   "language": "python",
   "name": "python3"
  },
  "language_info": {
   "codemirror_mode": {
    "name": "ipython",
    "version": 3
   },
   "file_extension": ".py",
   "mimetype": "text/x-python",
   "name": "python",
   "nbconvert_exporter": "python",
   "pygments_lexer": "ipython3",
   "version": "3.6.3"
  }
 },
 "nbformat": 4,
 "nbformat_minor": 2
}
