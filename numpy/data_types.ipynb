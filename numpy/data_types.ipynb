{
 "cells": [
  {
   "cell_type": "markdown",
   "metadata": {},
   "source": [
    "# Data types \n",
    "[Data Types : Numpy Basics](https://docs.scipy.org/doc/numpy/user/basics.types.html)\n"
   ]
  },
  {
   "cell_type": "markdown",
   "metadata": {},
   "source": [
    "## Array types and conversions between types"
   ]
  },
  {
   "cell_type": "code",
   "execution_count": 33,
   "metadata": {},
   "outputs": [
    {
     "name": "stdout",
     "output_type": "stream",
     "text": [
      "### Boolean and cast to boolean\n",
      "True\n",
      "[False  True False] as bool\n"
     ]
    }
   ],
   "source": [
    "import numpy as np\n",
    "\n",
    "print('### Boolean and cast to boolean')\n",
    "x = True\n",
    "print(x)\n",
    "x = np.bool_([0,1,0])\n",
    "print(x, 'as', x.dtype)"
   ]
  },
  {
   "cell_type": "code",
   "execution_count": 34,
   "metadata": {},
   "outputs": [
    {
     "name": "stdout",
     "output_type": "stream",
     "text": [
      "### int (int64 normally)\n",
      "[1 2 3] as int64\n"
     ]
    }
   ],
   "source": [
    "print('### int (int64 normally)')\n",
    "x = np.int_([1,2,3])\n",
    "print(x, 'as', x.dtype)"
   ]
  },
  {
   "cell_type": "code",
   "execution_count": 35,
   "metadata": {},
   "outputs": [
    {
     "name": "stdout",
     "output_type": "stream",
     "text": [
      "### cast to float (from int)\n",
      "x= [1 2 3] as  int64 y= [ 1.  2.  3.] as  float64\n"
     ]
    }
   ],
   "source": [
    "print('### cast to float (from int)')\n",
    "x = np.array([1,2,3], dtype=np.int64)\n",
    "y = x.astype(np.float64)\n",
    "print('x=',x,'as ',x.dtype, 'y=', y, 'as ', y.dtype)"
   ]
  },
  {
   "cell_type": "code",
   "execution_count": 44,
   "metadata": {},
   "outputs": [
    {
     "name": "stdout",
     "output_type": "stream",
     "text": [
      "### dtype type object\n",
      "dtype(int)= int64\n",
      "d is subtype of integer?  True\n",
      "d is subtype of int64?  True\n",
      "d is subtype of int32?  False\n"
     ]
    }
   ],
   "source": [
    "print('### dtype type object')\n",
    "d = np.dtype(int)\n",
    "print('dtype(int)=',d)\n",
    "\n",
    "print('d is subtype of integer? ', np.issubdtype(d, np.integer))\n",
    "print('d is subtype of int64? ', np.issubdtype(d, np.int64))\n",
    "print('d is subtype of int32? ', np.issubdtype(d, np.int32))"
   ]
  },
  {
   "cell_type": "markdown",
   "metadata": {},
   "source": [
    "## Extended Precision\n"
   ]
  },
  {
   "cell_type": "code",
   "execution_count": 50,
   "metadata": {},
   "outputs": [
    {
     "name": "stdout",
     "output_type": "stream",
     "text": [
      "### np.longdouble on this environment\n",
      "Machine parameters for float128\n",
      "---------------------------------------------------------------\n",
      "precision =  18   resolution = 1e-18\n",
      "machep =    -63   eps =        1.08420217249e-19\n",
      "negep =     -64   epsneg =     5.42101086243e-20\n",
      "minexp = -16382   tiny =       3.36210314311e-4932\n",
      "maxexp =  16384   max =        1.18973149536e+4932\n",
      "nexp =       15   min =        -max\n",
      "---------------------------------------------------------------\n",
      "\n"
     ]
    }
   ],
   "source": [
    "print('### np.longdouble on this environment')\n",
    "print(np.finfo(np.longdouble))"
   ]
  },
  {
   "cell_type": "code",
   "execution_count": 52,
   "metadata": {},
   "outputs": [
    {
     "name": "stdout",
     "output_type": "stream",
     "text": [
      "### long double eps\n",
      "1.08420217249e-19\n",
      "### float64 eps\n",
      "2.22044604925e-16\n"
     ]
    }
   ],
   "source": [
    "print('### long double eps')\n",
    "print(np.finfo(np.longdouble).eps)\n",
    "print('### float64 eps')\n",
    "print(np.finfo(np.float64).eps)"
   ]
  }
 ],
 "metadata": {
  "kernelspec": {
   "display_name": "Python 3",
   "language": "python",
   "name": "python3"
  },
  "language_info": {
   "codemirror_mode": {
    "name": "ipython",
    "version": 3
   },
   "file_extension": ".py",
   "mimetype": "text/x-python",
   "name": "python",
   "nbconvert_exporter": "python",
   "pygments_lexer": "ipython3",
   "version": "3.6.3"
  }
 },
 "nbformat": 4,
 "nbformat_minor": 2
}
