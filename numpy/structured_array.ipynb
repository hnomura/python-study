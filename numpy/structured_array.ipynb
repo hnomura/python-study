{
 "cells": [
  {
   "cell_type": "markdown",
   "metadata": {},
   "source": [
    "# Structured Array  \n",
    "[Structured Array](https://docs.scipy.org/doc/numpy/user/basics.rec.html) is array of structured element.  \n",
    "Strucure can have fields with different data type. "
   ]
  },
  {
   "cell_type": "markdown",
   "metadata": {},
   "source": [
    "## Simple Structured Array "
   ]
  },
  {
   "cell_type": "code",
   "execution_count": 14,
   "metadata": {},
   "outputs": [
    {
     "name": "stdout",
     "output_type": "stream",
     "text": [
      "[('Rex', 9,  81.) ('Fido', 3,  27.)]\n",
      "('Fido', 3,  27.)\n",
      "name[]= ['Rex' 'Fido']\n",
      "age[] = [9 3]\n",
      "weight[]= [ 81.  27.]\n",
      "[('Rex', 9,  81.) ('Ubuntu', 3,  27.)]\n",
      "[('Rex', 9,  101.) ('Ubuntu', 3,  101.)]\n"
     ]
    }
   ],
   "source": [
    "import numpy as np\n",
    "\n",
    "x = np.array([\n",
    "     ('Rex',  9, 81.0),\n",
    "     ('Fido', 3, 27.0)], \n",
    "    dtype=[\n",
    "     ('name', 'U10'),   # field 1: name and dtype\n",
    "     ('age',  'i4'),    # field 2: name and dtype\n",
    "     ('weight', 'f4')   # field 3: name and dtype\n",
    "    ]\n",
    ")\n",
    "\n",
    "print(x)\n",
    "print(x[1])\n",
    "print('name[]=', x['name'])\n",
    "print('age[] =', x['age'])\n",
    "print('weight[]=', x['weight'])\n",
    "\n",
    "x[1]['name'] = 'Ubuntu'\n",
    "print(x)\n",
    "\n",
    "x['weight'] = 101.0 # to all elements \n",
    "print(x)"
   ]
  },
  {
   "cell_type": "markdown",
   "metadata": {},
   "source": [
    "## Structured Datatype (dtype)"
   ]
  },
  {
   "cell_type": "code",
   "execution_count": 30,
   "metadata": {
    "scrolled": false
   },
   "outputs": [
    {
     "name": "stdout",
     "output_type": "stream",
     "text": [
      "[('x', '<f4'), ('y', '<i4'), ('z', '<f4', (2, 2))]\n",
      "('x', 'y', 'z')\n",
      "('<f4', (2, 2))\n",
      "{'x': (dtype('float32'), 0), 'y': (dtype('int32'), 4), 'z': (dtype(('<f4', (2, 2))), 8)}\n"
     ]
    }
   ],
   "source": [
    "dtype = np.dtype(\n",
    "    [('x', 'f4'),\n",
    "     ('y', 'i4'),\n",
    "     ('z', 'f4', (2,2))\n",
    "])\n",
    "print(dtype)\n",
    "\n",
    "print(dtype.names) # tupple of names \n",
    "print(dtype[2])  # format part \n",
    "print(dtype.fields)  # include auto-calculated byte offset"
   ]
  },
  {
   "cell_type": "markdown",
   "metadata": {},
   "source": [
    "## Structured Array Comparisio"
   ]
  },
  {
   "cell_type": "code",
   "execution_count": 65,
   "metadata": {},
   "outputs": [
    {
     "name": "stdout",
     "output_type": "stream",
     "text": [
      "a==b? [ True  True]\n",
      "a==c? [False False]\n",
      "a==c? [ True False]\n",
      "[(0, 0) (1, 1)]\n"
     ]
    }
   ],
   "source": [
    "# array of 2 structure: struct {int a, int b}\n",
    "a = np.zeros(2, dtype=[('a','i4'),('b','i4')])\n",
    "b = np.zeros(2, dtype=[('a','i4'),('b','i4')])\n",
    "c = np.ones(2, dtype=[('a','i4'),('b','i4')])\n",
    "print('a==b?', a==b)\n",
    "print('a==c?', a==c)\n",
    "\n",
    "#c[0]['a']=0\n",
    "#c[0]['b']=0\n",
    "c[0] = (0,0)\n",
    "\n",
    "print('a==c?', a==c)\n",
    "\n",
    "a = c\n",
    "print(a)"
   ]
  },
  {
   "cell_type": "markdown",
   "metadata": {},
   "source": [
    "## Record Arrays \n",
    "Record array allows to access in 'C-like' fashion by using `.` (dot)\n",
    "Unlike C-like stype, either of array-index or field-name can come first. "
   ]
  },
  {
   "cell_type": "code",
   "execution_count": 79,
   "metadata": {},
   "outputs": [
    {
     "name": "stdout",
     "output_type": "stream",
     "text": [
      "[1 2]\n",
      "[ 2.  3.]\n",
      "[b'Hello' b'World']\n",
      "(2, 3.0, b'World')\n",
      "[(2,  3., b'World')]\n",
      "3.0\n",
      "[ 3.]\n",
      "b'World'\n",
      "[b'World']\n"
     ]
    }
   ],
   "source": [
    "rec = np.rec.array([(\n",
    "    1,2.,'Hello'),(\n",
    "    2,3.,'World')], \n",
    "    dtype=[(\n",
    "    'foo', 'i4'),(\n",
    "    'bar', 'f4'),(\n",
    "    'baz', 'S10')])\n",
    "\n",
    "print(rec.foo)\n",
    "print(rec.bar)\n",
    "print(rec.baz)\n",
    "\n",
    "print(rec[1])\n",
    "print(rec[1:2])\n",
    "print(rec[1].bar)\n",
    "print(rec[1:2].bar)\n",
    "print(rec.baz[1])\n",
    "print(rec.baz[1:2])"
   ]
  },
  {
   "cell_type": "markdown",
   "metadata": {},
   "source": [
    "---\n",
    "Conversion from structured array is simple as follows. New object is created (not view)"
   ]
  },
  {
   "cell_type": "code",
   "execution_count": 98,
   "metadata": {},
   "outputs": [
    {
     "name": "stdout",
     "output_type": "stream",
     "text": [
      "[ 2.  4.]\n",
      "[(100,  2., b'Hello') (  3,  4., b'World')]\n",
      "[(1,  2., b'Hello') (3,  4., b'World')]\n"
     ]
    }
   ],
   "source": [
    "arr = np.array([(1,2.,'Hello'),(3,4.,'World')], dtype=[('foo','i4'),('bar','f4'),('baz','S10')])\n",
    "rec = np.rec.array(arr)\n",
    "\n",
    "print(rec.bar)\n",
    "rec[0].foo = 100\n",
    "print(rec)\n",
    "print(arr)"
   ]
  },
  {
   "cell_type": "markdown",
   "metadata": {},
   "source": [
    "---\n",
    "Viewing as type `np.recarray` automatically convert to np.record datatype. "
   ]
  },
  {
   "cell_type": "code",
   "execution_count": 102,
   "metadata": {},
   "outputs": [
    {
     "name": "stdout",
     "output_type": "stream",
     "text": [
      "view before original change:  [(1,  2., b'Hello') (3,  4., b'World')]\n",
      "view after oribinal change:   [(100,  2., b'Hello') (  3,  4., b'World')]\n"
     ]
    }
   ],
   "source": [
    "arr2= arr.copy()\n",
    "rec_view = arr2.view(np.recarray)\n",
    "print('view before original change: ', rec_view)\n",
    "arr2[0]['foo']=100 # change original data \n",
    "print('view after oribinal change:  ', rec_view)"
   ]
  },
  {
   "cell_type": "markdown",
   "metadata": {},
   "source": [
    "---\n",
    "Nesting of structure"
   ]
  },
  {
   "cell_type": "code",
   "execution_count": 111,
   "metadata": {},
   "outputs": [
    {
     "name": "stdout",
     "output_type": "stream",
     "text": [
      "1\n",
      "[2 4]\n"
     ]
    }
   ],
   "source": [
    "recordarr = np.rec.array([('Hello', (1,2)),(\"World\", (3,4))],\n",
    "                 dtype=[('foo', 'S6'),('bar', [('A', int), ('B', int)])])   \n",
    "print(recordarr[0].bar.A)\n",
    "print(recordarr.bar.B)"
   ]
  }
 ],
 "metadata": {
  "kernelspec": {
   "display_name": "Python 3",
   "language": "python",
   "name": "python3"
  },
  "language_info": {
   "codemirror_mode": {
    "name": "ipython",
    "version": 3
   },
   "file_extension": ".py",
   "mimetype": "text/x-python",
   "name": "python",
   "nbconvert_exporter": "python",
   "pygments_lexer": "ipython3",
   "version": "3.6.3"
  }
 },
 "nbformat": 4,
 "nbformat_minor": 2
}
