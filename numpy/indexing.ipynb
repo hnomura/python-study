{
 "cells": [
  {
   "cell_type": "markdown",
   "metadata": {},
   "source": [
    "# Indexing \n",
    "[Indexing in Numpy manual](https://docs.scipy.org/doc/numpy/user/basics.indexing.html)"
   ]
  },
  {
   "cell_type": "markdown",
   "metadata": {},
   "source": [
    "## Indexing to array - basic"
   ]
  },
  {
   "cell_type": "code",
   "execution_count": 3,
   "metadata": {},
   "outputs": [
    {
     "name": "stdout",
     "output_type": "stream",
     "text": [
      "2\n",
      "8\n"
     ]
    }
   ],
   "source": [
    "import numpy as np\n",
    "\n",
    "x = np.arange(10)\n",
    "print(x[2])\n",
    "print(x[-2])"
   ]
  },
  {
   "cell_type": "code",
   "execution_count": 7,
   "metadata": {},
   "outputs": [
    {
     "name": "stdout",
     "output_type": "stream",
     "text": [
      "3\n",
      "8\n"
     ]
    }
   ],
   "source": [
    "x.shape=(2,5) # reshape\n",
    "print(x[0,3])\n",
    "print(x[1,3])"
   ]
  },
  {
   "cell_type": "code",
   "execution_count": 10,
   "metadata": {},
   "outputs": [
    {
     "name": "stdout",
     "output_type": "stream",
     "text": [
      "[0 1 2 3 4]\n",
      "[5 6 7 8 9]\n"
     ]
    }
   ],
   "source": [
    "print(x[0]) # first row\n",
    "print(x[1]) # second row"
   ]
  },
  {
   "cell_type": "markdown",
   "metadata": {},
   "source": [
    "## Slice "
   ]
  },
  {
   "cell_type": "code",
   "execution_count": 19,
   "metadata": {},
   "outputs": [
    {
     "name": "stdout",
     "output_type": "stream",
     "text": [
      "[[ 0  1  2  3  4  5  6]\n",
      " [ 7  8  9 10 11 12 13]\n",
      " [14 15 16 17 18 19 20]\n",
      " [21 22 23 24 25 26 27]\n",
      " [28 29 30 31 32 33 34]]\n",
      "[[ 7 10 13]\n",
      " [21 24 27]]\n",
      "[[ 7 10]\n",
      " [21 24]]\n"
     ]
    }
   ],
   "source": [
    "y = np.arange(35).reshape(5,7)\n",
    "print(y)\n",
    "\n",
    "# ::3 = from first, to end(inclusinve), every 3\n",
    "z = y[1:5:2,::3]\n",
    "print(z)\n",
    "\n",
    "# 0:-1:3 = from first, to end exclusive(!), every 3\n",
    "z = y[1:5:2,0:-1:3]\n",
    "print(z)"
   ]
  },
  {
   "cell_type": "markdown",
   "metadata": {},
   "source": [
    "## Index Arrays (array of index)"
   ]
  },
  {
   "cell_type": "code",
   "execution_count": 38,
   "metadata": {},
   "outputs": [
    {
     "name": "stdout",
     "output_type": "stream",
     "text": [
      "x[:]= [10  9  8  7  6  5  4  3  2  1]\n",
      "x[even]= [10  8  6  4  2]\n",
      "x[[1,3,4]]= [9 7 6]\n"
     ]
    }
   ],
   "source": [
    "# 1D array\n",
    "x = np.arange(10,0,-1)\n",
    "print('x[:]=', x)\n",
    "print('x[even]=', x[0::2])\n",
    "print('x[[1,3,4]]=', x[[1,3,4]])"
   ]
  },
  {
   "cell_type": "code",
   "execution_count": 47,
   "metadata": {},
   "outputs": [
    {
     "name": "stdout",
     "output_type": "stream",
     "text": [
      "y=\n",
      " [[ 0  1  2  3  4  5  6]\n",
      " [ 7  8  9 10 11 12 13]\n",
      " [14 15 16 17 18 19 20]\n",
      " [21 22 23 24 25 26 27]\n",
      " [28 29 30 31 32 33 34]]\n",
      "y[0,0],[2,1],[4,2]= [ 0 15 30]\n",
      "ditto           = [ 0 15 30]\n",
      "\n",
      "\n",
      "y[0,1],[2,1],[4,1]= [ 1 15 29]\n",
      "y[0/2/4,:] = \n",
      " [[ 0  1  2  3  4  5  6]\n",
      " [14 15 16 17 18 19 20]\n",
      " [28 29 30 31 32 33 34]]\n"
     ]
    }
   ],
   "source": [
    "# Multi-Dimensional \n",
    "y = np.arange(35).reshape(5,7)\n",
    "print('y=\\n',y)\n",
    "\n",
    "# [rows], [columns] pairs for 2D \n",
    "yy = y[ [0,2,4], [0,1,2] ]\n",
    "print('y[0,0],[2,1],[4,2]=', yy)\n",
    "yy = y[ np.array([0,2,4]), np.array([0,1,2])]\n",
    "print('ditto           =', yy)\n",
    "print(\"\\n\")\n",
    "\n",
    "# Common column\n",
    "yy = y[ np.array([0,2,4]), 1]\n",
    "print('y[0,1],[2,1],[4,1]=',yy)\n",
    "\n",
    "# Rows only \n",
    "yy = y[ np.array([0,2,4])]\n",
    "print('y[0/2/4,:] = \\n', yy)"
   ]
  },
  {
   "cell_type": "markdown",
   "metadata": {},
   "source": [
    "## Boolean index (or mask index) arrays"
   ]
  },
  {
   "cell_type": "code",
   "execution_count": 56,
   "metadata": {},
   "outputs": [
    {
     "name": "stdout",
     "output_type": "stream",
     "text": [
      "y=\n",
      " [[ 0  1  2  3  4  5  6]\n",
      " [ 7  8  9 10 11 12 13]\n",
      " [14 15 16 17 18 19 20]\n",
      " [21 22 23 24 25 26 27]\n",
      " [28 29 30 31 32 33 34]]\n",
      "b[]= [[False False False False False False False]\n",
      " [False False False False False False False]\n",
      " [False False False False False False False]\n",
      " [ True  True  True  True  True  True  True]\n",
      " [ True  True  True  True  True  True  True]]\n",
      "y[]>20 =  [21 22 23 24 25 26 27 28 29 30 31 32 33 34]\n",
      "b[:,5]= [False False False  True  True]\n",
      "y[b[:,5]]= [[21 22 23 24 25 26 27]\n",
      " [28 29 30 31 32 33 34]]\n"
     ]
    }
   ],
   "source": [
    "y = np.arange(35).reshape(5,7)\n",
    "print('y=\\n',y)\n",
    "\n",
    "b = y > 20\n",
    "print('b[]=', b)\n",
    "print('y[]>20 = ', y[b])\n",
    "\n",
    "print('b[:,5]=', b[:,5])       # extract 5th column of b[]\n",
    "print('y[b[:,5]]=', y[b[:,5]]) # extract y[] rows where b[]==True"
   ]
  },
  {
   "cell_type": "code",
   "execution_count": 62,
   "metadata": {},
   "outputs": [
    {
     "name": "stdout",
     "output_type": "stream",
     "text": [
      "x=\n",
      " [[[ 0  1  2  3  4]\n",
      "  [ 5  6  7  8  9]\n",
      "  [10 11 12 13 14]]\n",
      "\n",
      " [[15 16 17 18 19]\n",
      "  [20 21 22 23 24]\n",
      "  [25 26 27 28 29]]]\n",
      "\n",
      "\n",
      "x[b]=\n",
      " [[ 0  1  2  3  4]\n",
      " [ 5  6  7  8  9]\n",
      " [20 21 22 23 24]\n",
      " [25 26 27 28 29]]\n"
     ]
    }
   ],
   "source": [
    "# 3D (2,3,5) \n",
    "# selector boolean b(2,3) with 4 true elements \n",
    "# results in (4,5) array ... (2,3,x) => (4,x)\n",
    "x = np.arange(30).reshape(2,3,5)\n",
    "print('x=\\n', x)\n",
    "\n",
    "b = np.array( [[True, True, False],[False, True, True]])\n",
    "print('\\n')\n",
    "print('x[b]=\\n', x[b])"
   ]
  },
  {
   "cell_type": "markdown",
   "metadata": {},
   "source": [
    "## Structural indexing tools"
   ]
  },
  {
   "cell_type": "code",
   "execution_count": 79,
   "metadata": {
    "scrolled": true
   },
   "outputs": [
    {
     "name": "stdout",
     "output_type": "stream",
     "text": [
      "x= [0 1 2 3 4]\n",
      "x[:,np.newaxis]= [[0]\n",
      " [1]\n",
      " [2]\n",
      " [3]\n",
      " [4]]\n",
      "x[np.newaxis,:]= [[0 1 2 3 4]]\n",
      "x[:,np.newaxis]+x[np.newaxis,:]=\n",
      "[[0 1 2 3 4]\n",
      " [1 2 3 4 5]\n",
      " [2 3 4 5 6]\n",
      " [3 4 5 6 7]\n",
      " [4 5 6 7 8]]\n",
      "x1.shape= (2, 1)\n",
      "x2.shape= (1, 2)\n",
      "[[3 4]\n",
      " [4 5]]\n"
     ]
    }
   ],
   "source": [
    "x = np.arange(5)\n",
    "print('x=', x)\n",
    "\n",
    "print('x[:,np.newaxis]=', x[:,np.newaxis])\n",
    "print('x[np.newaxis,:]=', x[np.newaxis,:])\n",
    "print('x[:,np.newaxis]+x[np.newaxis,:]=')\n",
    "print(x[:,np.newaxis]+x[np.newaxis,:])\n",
    "\n",
    "x1 = np.array([[0],[1]])\n",
    "x2 = np.array([[3,4]])\n",
    "print('x1.shape=', x1.shape)\n",
    "print('x2.shape=', x2.shape)\n",
    "print(x1+x2)\n"
   ]
  },
  {
   "cell_type": "markdown",
   "metadata": {},
   "source": [
    "## Ellipsis syntax"
   ]
  },
  {
   "cell_type": "code",
   "execution_count": 83,
   "metadata": {},
   "outputs": [
    {
     "name": "stdout",
     "output_type": "stream",
     "text": [
      "[[29 32 35]\n",
      " [38 41 44]\n",
      " [47 50 53]]\n"
     ]
    }
   ],
   "source": [
    "z = np.arange(81).reshape(3,3,3,3)\n",
    "# ellipsis syntax ....\n",
    "print(z[1,...,2])"
   ]
  },
  {
   "cell_type": "code",
   "execution_count": 84,
   "metadata": {},
   "outputs": [
    {
     "name": "stdout",
     "output_type": "stream",
     "text": [
      "[[29 32 35]\n",
      " [38 41 44]\n",
      " [47 50 53]]\n"
     ]
    }
   ],
   "source": [
    "# same as this \n",
    "print(z[1,:,:,2])"
   ]
  },
  {
   "cell_type": "code",
   "execution_count": 97,
   "metadata": {},
   "outputs": [
    {
     "name": "stdout",
     "output_type": "stream",
     "text": [
      "40\n",
      "[39 40]\n",
      "[39 40]\n"
     ]
    }
   ],
   "source": [
    "z = np.arange(81).reshape(3,3,3,3)\n",
    "\n",
    "indices = (1,1,1,1)\n",
    "print(z[indices])\n",
    "\n",
    "indices = (1,1,1,slice(0,2))\n",
    "print(z[indices])\n",
    "print(z[1,1,1,0:2])\n"
   ]
  },
  {
   "cell_type": "markdown",
   "metadata": {},
   "source": [
    "## Index by list or tupple \n",
    "***NOTE:*** This is not well understood yet !!!"
   ]
  },
  {
   "cell_type": "code",
   "execution_count": 120,
   "metadata": {},
   "outputs": [
    {
     "name": "stdout",
     "output_type": "stream",
     "text": [
      "::: z =\n",
      "[[0 1]\n",
      " [2 3]]\n",
      "::: z[1,0]=\n",
      "2\n",
      "::: z[[1,0]]= [1st_row, 0th_row]  ???\n",
      "[[2 3]\n",
      " [0 1]]\n",
      "::: z[(1,0)]= same as z[1,0]\n",
      "2\n"
     ]
    }
   ],
   "source": [
    "z = np.arange(4).reshape(2,2)\n",
    "print('::: z =')\n",
    "print(z)\n",
    "print('::: z[1,0]=')\n",
    "print(z[1,0])\n",
    "print('::: z[[1,0]]= [1st_row, 0th_row]  ???')\n",
    "print(z[[1,0]])\n",
    "print('::: z[(1,0)]= same as z[1,0]')\n",
    "print(z[(1,0)])"
   ]
  }
 ],
 "metadata": {
  "kernelspec": {
   "display_name": "Python 3",
   "language": "python",
   "name": "python3"
  },
  "language_info": {
   "codemirror_mode": {
    "name": "ipython",
    "version": 3
   },
   "file_extension": ".py",
   "mimetype": "text/x-python",
   "name": "python",
   "nbconvert_exporter": "python",
   "pygments_lexer": "ipython3",
   "version": "3.6.3"
  }
 },
 "nbformat": 4,
 "nbformat_minor": 2
}
