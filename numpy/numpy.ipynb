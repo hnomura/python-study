{
 "cells": [
  {
   "cell_type": "code",
   "execution_count": 2,
   "metadata": {
    "collapsed": true
   },
   "outputs": [],
   "source": [
    "import numpy as np"
   ]
  },
  {
   "cell_type": "code",
   "execution_count": 4,
   "metadata": {},
   "outputs": [
    {
     "data": {
      "text/plain": [
       "'1.13.3'"
      ]
     },
     "execution_count": 4,
     "metadata": {},
     "output_type": "execute_result"
    }
   ],
   "source": [
    "np.__version__"
   ]
  },
  {
   "cell_type": "code",
   "execution_count": 8,
   "metadata": {},
   "outputs": [
    {
     "name": "stdout",
     "output_type": "stream",
     "text": [
      "[[ 1  2  3]\n",
      " [11 12 13]]\n"
     ]
    }
   ],
   "source": [
    "ar = np.array([ [1,2,3], [11,12,13] ], np.int32)\n",
    "print(ar)"
   ]
  },
  {
   "cell_type": "code",
   "execution_count": 9,
   "metadata": {},
   "outputs": [
    {
     "data": {
      "text/plain": [
       "dtype('int32')"
      ]
     },
     "execution_count": 9,
     "metadata": {},
     "output_type": "execute_result"
    }
   ],
   "source": [
    "ar.dtype"
   ]
  },
  {
   "cell_type": "code",
   "execution_count": 11,
   "metadata": {},
   "outputs": [
    {
     "data": {
      "text/plain": [
       "matrix([[1, 2],\n",
       "        [3, 4]])"
      ]
     },
     "execution_count": 11,
     "metadata": {},
     "output_type": "execute_result"
    }
   ],
   "source": [
    "mx = np.matrix([[1,2],[3,4]])\n",
    "mx"
   ]
  },
  {
   "cell_type": "code",
   "execution_count": 12,
   "metadata": {},
   "outputs": [
    {
     "data": {
      "text/plain": [
       "matrix([[1, 2],\n",
       "        [3, 4]])"
      ]
     },
     "execution_count": 12,
     "metadata": {},
     "output_type": "execute_result"
    }
   ],
   "source": [
    "mx = np.matrix('1 2;3 4')\n",
    "mx"
   ]
  },
  {
   "cell_type": "code",
   "execution_count": 15,
   "metadata": {},
   "outputs": [
    {
     "name": "stdout",
     "output_type": "stream",
     "text": [
      "1\n",
      "[1 2]\n",
      "[4 5]\n"
     ]
    }
   ],
   "source": [
    "a = np.array([1,2,3,4,5])\n",
    "print(a[0])\n",
    "print(a[0:2])\n",
    "print(a[-2:])"
   ]
  },
  {
   "cell_type": "code",
   "execution_count": 17,
   "metadata": {},
   "outputs": [
    {
     "name": "stdout",
     "output_type": "stream",
     "text": [
      "[ 2  4  6  8 10]\n"
     ]
    }
   ],
   "source": [
    "print(a*2)"
   ]
  },
  {
   "cell_type": "code",
   "execution_count": 19,
   "metadata": {},
   "outputs": [
    {
     "name": "stdout",
     "output_type": "stream",
     "text": [
      "[12 14 16 18 20]\n"
     ]
    }
   ],
   "source": [
    "b=np.array([11,12,13,14,15])\n",
    "print(a+b)"
   ]
  },
  {
   "cell_type": "code",
   "execution_count": 22,
   "metadata": {},
   "outputs": [
    {
     "name": "stdout",
     "output_type": "stream",
     "text": [
      "205\n"
     ]
    }
   ],
   "source": [
    "# inner product (sum(a[i]*b[i]))\n",
    "print(a.dot(b))"
   ]
  },
  {
   "cell_type": "code",
   "execution_count": 27,
   "metadata": {},
   "outputs": [
    {
     "data": {
      "text/plain": [
       "array([-3,  6, -3])"
      ]
     },
     "execution_count": 27,
     "metadata": {},
     "output_type": "execute_result"
    }
   ],
   "source": [
    "# numpy cross-product \n",
    "a = np.array([1,2,3])\n",
    "b = np.array([4,5,6])\n",
    "np.cross(a,b)"
   ]
  },
  {
   "cell_type": "code",
   "execution_count": 31,
   "metadata": {},
   "outputs": [
    {
     "name": "stdout",
     "output_type": "stream",
     "text": [
      "[11 12 13]\n",
      "[11 12 13]\n"
     ]
    }
   ],
   "source": [
    "print(a + 10)\n",
    "print(np.add(a,10))"
   ]
  },
  {
   "cell_type": "code",
   "execution_count": 35,
   "metadata": {},
   "outputs": [
    {
     "name": "stdout",
     "output_type": "stream",
     "text": [
      "[10 20 30]\n",
      "[10 20 30]\n"
     ]
    }
   ],
   "source": [
    "print(a*10)\n",
    "print(np.multiply(a,10))"
   ]
  },
  {
   "cell_type": "code",
   "execution_count": 42,
   "metadata": {},
   "outputs": [
    {
     "name": "stdout",
     "output_type": "stream",
     "text": [
      "[1 2 3] int64\n",
      "[ 0.5  1.   1.5]\n",
      "[-0.5  0.5  1.5]\n"
     ]
    }
   ],
   "source": [
    "print(a,a.dtype)\n",
    "print(a/2)\n",
    "print(a-1.5)"
   ]
  },
  {
   "cell_type": "code",
   "execution_count": 54,
   "metadata": {},
   "outputs": [
    {
     "name": "stdout",
     "output_type": "stream",
     "text": [
      "[0 2 4 6 8]\n",
      "[[ 1.  0.]\n",
      " [ 0.  1.]]\n",
      "[[ 1.  1.]\n",
      " [ 1.  1.]]\n",
      "[[ 0.  0.]\n",
      " [ 0.  0.]]\n",
      "[ 0.  0.  0.  0.  0.]\n",
      "[  0.   2.   4.   6.   8.  10.]\n"
     ]
    }
   ],
   "source": [
    "# Array generation functions\n",
    "print(np.arange(0,10,2)) # (start,stop,step)\n",
    "print(np.identity(2))    # unit matrix (2D)\n",
    "print(np.ones((2,2)))    # fill by one (argument is tuple)\n",
    "print(np.zeros((2,2)))\n",
    "print(np.zeros(5))\n",
    "print(np.linspace(0,10,6)) # (start, end, num) --> step = (10-0)/(6-1) = 2"
   ]
  },
  {
   "cell_type": "code",
   "execution_count": 80,
   "metadata": {},
   "outputs": [
    {
     "name": "stdout",
     "output_type": "stream",
     "text": [
      "[1 0]\n",
      "degree \t result\n",
      "0.0 \t [ 1.  0.]\n",
      "22.5 \t [ 0.92387953  0.38268343]\n",
      "45.0 \t [ 0.70710678  0.70710678]\n",
      "67.5 \t [ 0.38268343  0.92387953]\n",
      "90.0 \t [  6.12323400e-17   1.00000000e+00]\n",
      "112.5 \t [-0.38268343  0.92387953]\n",
      "135.0 \t [-0.70710678  0.70710678]\n",
      "157.5 \t [-0.92387953  0.38268343]\n",
      "180.0 \t [ -1.00000000e+00   1.22464680e-16]\n",
      "202.5 \t [-0.92387953 -0.38268343]\n",
      "225.0 \t [-0.70710678 -0.70710678]\n",
      "247.5 \t [-0.38268343 -0.92387953]\n",
      "270.0 \t [ -1.83697020e-16  -1.00000000e+00]\n",
      "292.5 \t [ 0.38268343 -0.92387953]\n",
      "315.0 \t [ 0.70710678 -0.70710678]\n",
      "337.5 \t [ 0.92387953 -0.38268343]\n",
      "360.0 \t [  1.00000000e+00  -2.44929360e-16]\n"
     ]
    }
   ],
   "source": [
    "import math\n",
    "\n",
    "def rotate_matrix(rad):\n",
    "    return np.array( [[math.cos(rad),-math.sin(rad)],[math.sin(rad),math.cos(rad)]])\n",
    "\n",
    "base = np.array([1,0])\n",
    "print(base)\n",
    "\n",
    "num=16\n",
    "print('degree \\t result')\n",
    "for x in range(num+1):\n",
    "    rad = 2 * math.pi / num * x \n",
    "    rot = rotate_matrix(rad)\n",
    "    deg = 360 / num * x \n",
    "    result = np.dot(rot,base)\n",
    "    print( deg, '\\t', result ) \n"
   ]
  }
 ],
 "metadata": {
  "kernelspec": {
   "display_name": "Python 3",
   "language": "python",
   "name": "python3"
  },
  "language_info": {
   "codemirror_mode": {
    "name": "ipython",
    "version": 3
   },
   "file_extension": ".py",
   "mimetype": "text/x-python",
   "name": "python",
   "nbconvert_exporter": "python",
   "pygments_lexer": "ipython3",
   "version": "3.6.3"
  }
 },
 "nbformat": 4,
 "nbformat_minor": 2
}
