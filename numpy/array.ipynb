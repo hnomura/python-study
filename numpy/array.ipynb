{
 "cells": [
  {
   "cell_type": "markdown",
   "metadata": {},
   "source": [
    "# Basic Array Creation and Properties\n",
    "\n",
    "[nympy quickstart](https://docs.scipy.org/doc/numpy/user/quickstart.html)"
   ]
  },
  {
   "cell_type": "code",
   "execution_count": 239,
   "metadata": {},
   "outputs": [
    {
     "name": "stdout",
     "output_type": "stream",
     "text": [
      "a= [ 0  1  2  3  4  5  6  7  8  9 10 11 12 13 14]\n",
      "a2= [[ 0  1  2  3  4]\n",
      " [ 5  6  7  8  9]\n",
      " [10 11 12 13 14]]\n",
      "a2.ndim= 2\n",
      "a2.shape= (3, 5)\n",
      "a2.dtype =  int64 int64\n",
      "a2.itemsize =  8\n",
      "a2.size =  15\n",
      "type(a2) =  <class 'numpy.ndarray'>\n"
     ]
    }
   ],
   "source": [
    "import numpy as np\n",
    "\n",
    "# --- Basic Array Attributes ---\n",
    "#0 to 14 linear vector\n",
    "a1 = np.arange(15)\n",
    "print('a=', a1)\n",
    "\n",
    "# 3 rows x 5 columns 2D array\n",
    "a2 = a1.reshape(3,5)\n",
    "print('a2=',a2)\n",
    "print('a2.ndim=', a2.ndim)\n",
    "print('a2.shape=', a2.shape)\n",
    "print('a2.dtype = ', a2.dtype, a2.dtype.name)\n",
    "print('a2.itemsize = ', a2.itemsize)  # 8 bytes \n",
    "print('a2.size = ', a2.size)\n",
    "print('type(a2) = ', type(a2))"
   ]
  },
  {
   "cell_type": "code",
   "execution_count": 240,
   "metadata": {},
   "outputs": [
    {
     "name": "stdout",
     "output_type": "stream",
     "text": [
      "== Elements all integer\n",
      "[6 7 8]\n",
      "int64\n",
      "== Elements with float\n",
      "[ 1.1  1.   2.   1.   3. ]\n",
      "float64\n",
      "== Explicitly float64\n",
      "[ 100.  101.  102.]\n",
      "float64\n",
      "== Explicitly complex\n",
      "[[ 1.+0.j  2.+0.j  3.+0.j]\n",
      " [ 4.+0.j  5.+0.j  6.+0.j]]\n",
      "complex128\n",
      "== Implicitly complex\n",
      "[[ 1.+2.j  2.+3.j  3.+4.j]\n",
      " [ 4.+5.j  5.+6.j  6.+7.j]]\n",
      "complex128\n"
     ]
    }
   ],
   "source": [
    "# --- Array creation ---\n",
    "b1 = np.array([6,7,8])\n",
    "print('== Elements all integer')\n",
    "print(b1)\n",
    "print(b1.dtype)\n",
    "\n",
    "b2 = np.array([1.1, 1,2, 1,3])\n",
    "print('== Elements with float')\n",
    "print(b2)\n",
    "print(b2.dtype)\n",
    "\n",
    "b3 = np.array([100,101,102], dtype='float64')\n",
    "print('== Explicitly float64')\n",
    "print(b3)\n",
    "print(b3.dtype)\n",
    "\n",
    "c1 = np.array([ [1,2,3], [4,5,6]], dtype=complex)\n",
    "print('== Explicitly complex')\n",
    "print(c1)\n",
    "print(c1.dtype)\n",
    "\n",
    "c2 = np.array([ [1+2j, 2+3j, 3+4j], [4+5j, 5+6j, 6+7j] ])\n",
    "print('== Implicitly complex')\n",
    "print(c2)\n",
    "print(c2.dtype)"
   ]
  },
  {
   "cell_type": "code",
   "execution_count": 241,
   "metadata": {},
   "outputs": [
    {
     "name": "stdout",
     "output_type": "stream",
     "text": [
      "=== 3x4 2D array with zeros\n",
      "[[ 0.  0.  0.  0.]\n",
      " [ 0.  0.  0.  0.]\n",
      " [ 0.  0.  0.  0.]]\n",
      "(3, 4)\n",
      "float64\n",
      "=== 2x3 2D array with ones\n",
      "[[ 1.  1.  1.]\n",
      " [ 1.  1.  1.]]\n",
      "(2, 3)\n",
      "float64\n",
      "=== 3x2 2D array uninitialized\n",
      "[[ 1.  1.]\n",
      " [ 1.  1.]\n",
      " [ 1.  1.]]\n",
      "(3, 2)\n",
      "float64\n",
      "=== arange(6) = 0:1:(6-1)\n",
      "[0 1 2 3 4 5]\n",
      "int64\n",
      "=== arange(from,until,step) = 1:1:(10-1)\n",
      "[1 2 3 4 5 6 7 8 9]\n",
      "int64\n",
      "=== arange(from,until,step) specifically in float64\n",
      "[ 1.  2.  3.  4.  5.  6.  7.  8.  9.]\n",
      "float64\n",
      "=== linspace(from,to,num)\n",
      "[  0.   1.   2.   3.   4.   5.   6.   7.   8.   9.  10.]\n",
      "=== Random 1D\n",
      "[ 0.86505096  0.85113895  0.72525577  0.38221341  0.50873387]\n",
      "== Random 2D (2x3)\n",
      "[[ 0.78755545  0.99048749  0.50347471]\n",
      " [ 0.58259523  0.54842836  0.93545754]]\n",
      "=== fromfunction 2D(2x3) : 10*(row-index)+(column-index)\n",
      "[[ 0  1  2]\n",
      " [10 11 12]]\n"
     ]
    }
   ],
   "source": [
    "# --- Array creation by functions \n",
    "z = np.zeros( (3,4) )\n",
    "print('=== 3x4 2D array with zeros')\n",
    "print(z)\n",
    "print(z.shape)\n",
    "print(z.dtype)\n",
    "\n",
    "o = np.ones( (2,3) )\n",
    "print('=== 2x3 2D array with ones')\n",
    "print(o)\n",
    "print(o.shape)\n",
    "print(o.dtype)\n",
    "\n",
    "u = np.empty( (3,2) )\n",
    "print('=== 3x2 2D array uninitialized')\n",
    "print(u)\n",
    "print(u.shape)\n",
    "print(u.dtype)\n",
    "\n",
    "x = np.arange(6)\n",
    "print('=== arange(6) = 0:1:(6-1)')\n",
    "print(x)\n",
    "print(x.dtype)\n",
    "\n",
    "x = np.arange(1,10,1) # 'until' is exclusive\n",
    "print('=== arange(from,until,step) = 1:1:(10-1)')\n",
    "print(x)\n",
    "print(x.dtype)\n",
    "\n",
    "x = np.arange(1,10,1, dtype=np.float64)\n",
    "print('=== arange(from,until,step) specifically in float64')\n",
    "print(x)\n",
    "print(x.dtype)\n",
    "\n",
    "x = np.linspace(0,10,11) # to is inclusive \n",
    "print('=== linspace(from,to,num)')\n",
    "print(x)\n",
    "\n",
    "x = np.random.random(5)\n",
    "print('=== Random 1D')\n",
    "print(x)\n",
    "\n",
    "x = np.random.random((2,3))\n",
    "print('== Random 2D (2x3)')\n",
    "print(x)\n",
    "\n",
    "def f(x,y):\n",
    "    return 10*x+y\n",
    "\n",
    "x = np.fromfunction(f, (2,3), dtype=int)\n",
    "print('=== fromfunction 2D(2x3) : 10*(row-index)+(column-index)')\n",
    "print(x)"
   ]
  },
  {
   "cell_type": "markdown",
   "metadata": {},
   "source": [
    "# Array shape operation"
   ]
  },
  {
   "cell_type": "code",
   "execution_count": 242,
   "metadata": {},
   "outputs": [
    {
     "name": "stdout",
     "output_type": "stream",
     "text": [
      "=== Reshape 1x6 to 3x3\n",
      "shape= (6,) val=\n",
      " [1 2 3 4 5 6]\n",
      "shape= (3, 2) val=\n",
      " [[1 2]\n",
      " [3 4]\n",
      " [5 6]]\n",
      "=== Flattern to 1D array\n",
      "ravel() = [1 2 3 4 5 6]\n",
      "flat = [1 2 3 4 5 6]\n",
      "=== Using -1 to recompute remaining dim\n",
      "[[1 2 3]\n",
      " [4 5 6]]\n"
     ]
    }
   ],
   "source": [
    "# --- Array shape \n",
    "a1 = np.array([1,2,3,4,5,6])\n",
    "a2 = a1.reshape(3,2)\n",
    "print('=== Reshape 1x6 to 3x3')\n",
    "print('shape=',a1.shape, 'val=\\n', a1)\n",
    "print('shape=',a2.shape, 'val=\\n', a2)\n",
    "\n",
    "# --- Flattern\n",
    "print('=== Flattern to 1D array')\n",
    "a3 = a2.ravel()\n",
    "print('ravel() =',a3)\n",
    "a3 = np.array(a2.flat);\n",
    "print('flat =', a3)  # same result\n",
    "\n",
    "#--- 3x2 to 2x3\n",
    "a4 = a2.reshape(2,-1); # -1 to resolve automatically \n",
    "print('=== Using -1 to recompute remaining dim')\n",
    "print(a4)"
   ]
  },
  {
   "cell_type": "code",
   "execution_count": 243,
   "metadata": {},
   "outputs": [
    {
     "name": "stdout",
     "output_type": "stream",
     "text": [
      "=== Stacking 2D array vertically\n",
      "[[  1   2]\n",
      " [  3   4]\n",
      " [101 102]\n",
      " [103 104]]\n",
      "=== Stacking 2D array horizontally\n",
      "[[  1   2 101 102]\n",
      " [  3   4 103 104]]\n",
      "=== Column stack of 2D array\n",
      "[[  1   2 101 102]\n",
      " [  3   4 103 104]]\n",
      "=== Column stack of 1D array\n",
      "[[ 1 11]\n",
      " [ 2 12]\n",
      " [ 3 13]\n",
      " [ 4 14]\n",
      " [ 5 15]]\n",
      "=== Column stack in different notation\n",
      "[[ 1 11]\n",
      " [ 2 12]\n",
      " [ 3 13]\n",
      " [ 4 14]\n",
      " [ 5 15]]\n",
      "=== Append to 1D array\n",
      "[ 1  2  3  4  5 11 12 13 14 15]\n",
      "=== Raw stack in different notation\n",
      "[ 1  2  3  4  5 11 12 13 14 15]\n"
     ]
    }
   ],
   "source": [
    "# --- Stacking array\n",
    "a = np.array([[1,2],[3,4]])\n",
    "b = np.array([[101,102],[103,104]])\n",
    "c = np.vstack((a,b))\n",
    "print('=== Stacking 2D array vertically')\n",
    "print(c)\n",
    "\n",
    "c = np.hstack((a,b))\n",
    "print('=== Stacking 2D array horizontally')\n",
    "print(c)\n",
    "\n",
    "c = np.column_stack((a,b))\n",
    "print('=== Column stack of 2D array')\n",
    "print(c)\n",
    "\n",
    "aa = np.array([1,2,3,4,5]);\n",
    "bb = np.array([11,12,13,14,15])\n",
    "cc = np.column_stack((aa,bb))\n",
    "print('=== Column stack of 1D array')\n",
    "print(cc)\n",
    "\n",
    "aaa = np.c_[aa, bb]\n",
    "print('=== Column stack in different notation')\n",
    "print(aaa)\n",
    "\n",
    "aaa = np.hstack( (aa, bb) )\n",
    "print('=== Append to 1D array')\n",
    "print(aaa)\n",
    "\n",
    "\n",
    "aaa = np.r_[aa,bb]\n",
    "print('=== Raw stack in different notation')\n",
    "print(aaa)\n"
   ]
  },
  {
   "cell_type": "code",
   "execution_count": 244,
   "metadata": {},
   "outputs": [
    {
     "name": "stdout",
     "output_type": "stream",
     "text": [
      "=== Horizontal split \n",
      "[array([[1],\n",
      "       [4],\n",
      "       [7]]), array([[2],\n",
      "       [5],\n",
      "       [8]]), array([[3],\n",
      "       [6],\n",
      "       [9]])]\n",
      "=== Vertical split \n",
      "[array([[1, 2, 3]]), array([[4, 5, 6]]), array([[7, 8, 9]])]\n"
     ]
    }
   ],
   "source": [
    "# --- Splitting array into smaller one \n",
    "a = np.array([[1,2,3],[4,5,6],[7,8,9]])\n",
    "aa = np.hsplit(a,3);\n",
    "print('=== Horizontal split ')\n",
    "print(aa)\n",
    "\n",
    "aa = np.vsplit(a,3)\n",
    "print('=== Vertical split ')\n",
    "print(aa)\n"
   ]
  },
  {
   "cell_type": "markdown",
   "metadata": {},
   "source": [
    "# Basic Arithmetic"
   ]
  },
  {
   "cell_type": "code",
   "execution_count": 245,
   "metadata": {},
   "outputs": [
    {
     "name": "stdout",
     "output_type": "stream",
     "text": [
      "=== Element wise add/subtract\n",
      "a-b= [20 29 38 47]\n",
      "a+b= [20 31 42 53]\n",
      "=== Element wise product\n",
      "a.*b= [  0  30  80 150]\n",
      "=== Matrix product\n",
      "a*b= 260\n",
      "=== Exponent (complex)\n",
      "exp(c*1j)=: [ 1.00000000+0.j          0.93975313+0.34185385j  0.76627189+0.64251645j\n",
      "  0.50045969+0.86575984j  0.17434523+0.98468459j -0.17277674+0.98496101j\n",
      " -0.49908020+0.8665558j  -0.76524761+0.64373604j -0.93920748+0.34335012j\n",
      " -0.99999873+0.00159265j]\n",
      "dtype=: complex128\n"
     ]
    }
   ],
   "source": [
    "# --- Basic Array Arithmetic Operations \n",
    "a = np.array([20,30,40,50])\n",
    "b = np.arange(4) #[0,1,2,3]\n",
    "\n",
    "print('=== Element wise add/subtract')\n",
    "print('a-b=', a-b)\n",
    "print('a+b=', a+b)\n",
    "\n",
    "print('=== Element wise product')\n",
    "print('a.*b=', a*b)\n",
    "\n",
    "print('=== Matrix product')\n",
    "print('a*b=', np.dot(a,b))\n",
    "#print('a*b=',a.dot(b)) #same as above\n",
    "\n",
    "c = np.linspace(0, 3.14, 10) # 0 to (about) pi \n",
    "d = np.exp(c*1j)\n",
    "print('=== Exponent (complex)')\n",
    "print('exp(c*1j)=:', d)\n",
    "print('dtype=:', d.dtype)\n",
    "\n",
    "\n"
   ]
  },
  {
   "cell_type": "code",
   "execution_count": 246,
   "metadata": {},
   "outputs": [
    {
     "name": "stdout",
     "output_type": "stream",
     "text": [
      "=== Summation of all elements\n",
      "21\n",
      "=== Summation along 0 axis (along rows, to each column)\n",
      "[5 7 9]\n",
      "=== Summation along 1 axis (along column, to each row)\n",
      "[ 6 15]\n",
      "=== Max/min of all elements\n",
      "max= 6 , min= 1\n",
      "=== Max along 0 axis (along rows, to each column)\n",
      "[4 5 6]\n",
      "=== Max along 1 axis (along columns, to each row)\n",
      "[3 6]\n",
      "=== Cumulative sum along 1 axis (along columns, to each row)\n",
      "[[ 1  3  6]\n",
      " [ 4  9 15]]\n",
      "=== Array of True/False after value comparison\n",
      "[ True  True  True False False False]\n"
     ]
    }
   ],
   "source": [
    "# --- Basic Array Arithmetic for Statistics \n",
    "a = np.array([[1,2,3],[4,5,6]])\n",
    "z = a.sum()\n",
    "print('=== Summation of all elements')\n",
    "print(z)\n",
    "\n",
    "z = a.sum(axis=0)\n",
    "print('=== Summation along 0 axis (along rows, to each column)')\n",
    "print(z)\n",
    "\n",
    "z = a.sum(axis=1) \n",
    "print('=== Summation along 1 axis (along column, to each row)')\n",
    "print(z)\n",
    "\n",
    "print('=== Max/min of all elements')\n",
    "print('max=', a.max(), ', min=', a.min())\n",
    "\n",
    "z = a.max(axis=0)\n",
    "print('=== Max along 0 axis (along rows, to each column)')\n",
    "print(z)\n",
    "\n",
    "z = a.max(axis=1)\n",
    "print('=== Max along 1 axis (along columns, to each row)')\n",
    "print(z)\n",
    "\n",
    "z = a.cumsum(axis=1) \n",
    "print('=== Cumulative sum along 1 axis (along columns, to each row)')\n",
    "print(z)\n",
    "\n",
    "a1 = a.ravel() # flatten\n",
    "v1 = a1 <= 3\n",
    "print('=== Array of True/False after value comparison')\n",
    "print(v1)"
   ]
  },
  {
   "cell_type": "code",
   "execution_count": 247,
   "metadata": {},
   "outputs": [
    {
     "name": "stdout",
     "output_type": "stream",
     "text": [
      "=== Index of max of  [0 1 2 1 0] is 2\n",
      "=== Index of max to each column (max among all rows of each column)\n",
      "[[10  2 30]\n",
      " [ 2  3  4]] \n",
      "------------\n",
      " [0 1 0]\n"
     ]
    }
   ],
   "source": [
    "# index of maximum \n",
    "a = np.array([0,1,2,1,0])\n",
    "i = a.argmax()\n",
    "print('=== Index of max of ', a, 'is' ,i)\n",
    "\n",
    "print('=== Index of max to each column (max among all rows of each column)')\n",
    "a = np.array([[10,2,30],[2,3,4]])\n",
    "i = a.argmax(axis=0) \n",
    "print(a, '\\n------------\\n', i)"
   ]
  },
  {
   "cell_type": "markdown",
   "metadata": {},
   "source": [
    "# Linear Algebra (Basic)"
   ]
  },
  {
   "cell_type": "code",
   "execution_count": 277,
   "metadata": {},
   "outputs": [
    {
     "name": "stdout",
     "output_type": "stream",
     "text": [
      "=== Input: a=\n",
      "[[ 1.  2.]\n",
      " [ 3.  4.]]\n",
      "== Transpose: a.transpose()=\n",
      "[[ 1.  3.]\n",
      " [ 2.  4.]]\n",
      "== Inverse: np.linalg.inv(a)\n",
      "[[-2.   1. ]\n",
      " [ 1.5 -0.5]]\n",
      "== Eye matrix 2x2\n",
      "[[ 1.  0.]\n",
      " [ 0.  1.]]\n",
      "== Trace is sum along diagonals \n",
      "2.0\n",
      "== solve(a,b) for x where ax = b\n",
      "[[-3.]\n",
      " [ 4.]]\n",
      "[[-3.]\n",
      " [ 4.]]\n"
     ]
    }
   ],
   "source": [
    "a = np.array([[1.0, 2.0],[3.0, 4.0]])\n",
    "print('=== Input: a=')\n",
    "print(a)\n",
    "\n",
    "print('== Transpose: a.transpose()=')\n",
    "print(a.transpose())\n",
    "\n",
    "print('== Inverse: np.linalg.inv(a)')\n",
    "ai = np.linalg.inv(a)\n",
    "print(ai)\n",
    "#print(np.dot(a,ai)) ~ almost zero \n",
    "\n",
    "print('== Eye matrix 2x2')\n",
    "u = np.eye(2)\n",
    "print(u)\n",
    "\n",
    "print('== Trace is sum along diagonals ')\n",
    "print(np.trace(u))\n",
    "\n",
    "print('== solve(a,b) for x where ax = b')\n",
    "b = np.array([[5.],[7.]])  # a*x = b\n",
    "print(np.linalg.solve(a,b)) \n",
    "print(np.dot(np.linalg.inv(a), b)) # x = inv(a) * b"
   ]
  },
  {
   "cell_type": "markdown",
   "metadata": {},
   "source": [
    "# Indexing, Slicing"
   ]
  },
  {
   "cell_type": "code",
   "execution_count": 248,
   "metadata": {},
   "outputs": [
    {
     "name": "stdout",
     "output_type": "stream",
     "text": [
      "=== index to 1D array\n",
      "2\n",
      "=== slicing 1D array\n",
      "[3 4]\n",
      "=== slicing by negative index (from end)\n",
      "[8 9]\n",
      "=== reversing order\n",
      "[9 8 7 6 5 4 3 2 1 0]\n",
      "=== selecting with step a[from:to:step]\n",
      "[0 2 4 6 8]\n",
      "=== loop over element in array\n",
      "0\n",
      "1\n",
      "2\n",
      "3\n",
      "4\n",
      "5\n",
      "6\n",
      "7\n",
      "8\n",
      "9\n"
     ]
    }
   ],
   "source": [
    "#--- Indexing, Slicing, Iterating \n",
    "a = np.arange(10)\n",
    "print('=== index to 1D array')\n",
    "print(a[2])\n",
    "\n",
    "print('=== slicing 1D array')\n",
    "print(a[3:5]) # from:to(exclusive)\n",
    "\n",
    "print('=== slicing by negative index (from end)')\n",
    "print(a[-2:])\n",
    "\n",
    "print('=== reversing order')\n",
    "print(a[::-1])\n",
    "\n",
    "print('=== selecting with step a[from:to:step]')\n",
    "print(a[0:9:2])\n",
    "\n",
    "print('=== loop over element in array')\n",
    "for e in a:\n",
    "    print(e)\n",
    "    \n"
   ]
  },
  {
   "cell_type": "code",
   "execution_count": 249,
   "metadata": {},
   "outputs": [
    {
     "name": "stdout",
     "output_type": "stream",
     "text": [
      "=== a[2]=a[3]=0\n",
      "[1 2 0 0 5]\n",
      "=== Extract b=a[a>0] (deep copy)\n",
      "[1 2 5]\n",
      "Extracted as deep copy b= [1 0 5] a= [1 2 0 0 5]\n",
      "=== Operation to a subset of array\n",
      "[101   2 100   0 105]\n"
     ]
    }
   ],
   "source": [
    "# --- Indexing with slicing \n",
    "a = np.array([1,2,3,4,5])\n",
    "a[2:4] = 0;\n",
    "print('=== a[2]=a[3]=0')\n",
    "print(a)\n",
    "\n",
    "b = a[a>0]\n",
    "print('=== Extract b=a[a>0] (deep copy)')\n",
    "print(b)\n",
    "b[1] = 0\n",
    "print('Extracted as deep copy','b=', b, 'a=', a)\n",
    "\n",
    "a[[0,2,4]] += 100\n",
    "print('=== Operation to a subset of array')\n",
    "print(a)"
   ]
  },
  {
   "cell_type": "markdown",
   "metadata": {},
   "source": [
    "# Copy and Views"
   ]
  },
  {
   "cell_type": "code",
   "execution_count": 250,
   "metadata": {},
   "outputs": [
    {
     "name": "stdout",
     "output_type": "stream",
     "text": [
      "b is a? : True\n",
      "Change to a is also to b, i.e., [0 2 3 4 5 6] [0 2 3 4 5 6]\n",
      "bb is a? : False\n",
      "Change to a is NOT to bb, i.e., [100   2   3   4   5   6] [0 2 3 4 5 6]\n",
      "Change to view is also change to original [1 2 3 4 5 6] [1 2 3 4 5 6]\n",
      "Change to shape of view does not propagate to original : (6,) (3, 2)\n",
      "Slice =  [102 103] Original =  [  1 102 103   4   5   6]\n"
     ]
    }
   ],
   "source": [
    "#--- Assignment is shallow copy \n",
    "a = np.array([1,2,3,4,5,6])\n",
    "b = a         # shallow copy \n",
    "print('b is a? :', b is a)\n",
    "a[0] = 0\n",
    "print('Change to a is also to b, i.e.,', a, b)\n",
    "\n",
    "bb = a.copy() # deep copy \n",
    "print('bb is a? :', bb is a)\n",
    "\n",
    "a[0] = 100;\n",
    "print('Change to a is NOT to bb, i.e.,', a, bb)\n",
    "\n",
    "c = a.view()\n",
    "c[0]=1\n",
    "print('Change to view is also change to original', a, c)\n",
    "\n",
    "c.shape = 3,2\n",
    "print('Change to shape of view does not propagate to original :', a.shape, c.shape)\n",
    "\n",
    "c = a[1:3] # slicing is view\n",
    "c[0] = 102\n",
    "c[1] = 103\n",
    "print('Slice = ',c,'Original = ', a)\n"
   ]
  },
  {
   "cell_type": "markdown",
   "metadata": {},
   "source": [
    "# Discrete Indexing "
   ]
  },
  {
   "cell_type": "code",
   "execution_count": 251,
   "metadata": {},
   "outputs": [
    {
     "name": "stdout",
     "output_type": "stream",
     "text": [
      "=== Extract in simple 1D index\n",
      "a = [100 101 102 103 104 105 106 107 108 109] i = [1 3 5] a[i] =  [101 103 105]\n",
      "=== Extract in the same shape as index\n",
      "[[101 102]\n",
      " [103 104]]\n"
     ]
    }
   ],
   "source": [
    "a = np.arange(10) + 100\n",
    "i = np.array([1,3,5])\n",
    "print('=== Extract in simple 1D index')\n",
    "print('a =', a, 'i =', i, 'a[i] = ', a[i])\n",
    "\n",
    "print('=== Extract in the same shape as index')\n",
    "i = np.array([ [1,2],[3,4] ])\n",
    "print(a[i])"
   ]
  },
  {
   "cell_type": "markdown",
   "metadata": {},
   "source": [
    "# Boolean Indexing "
   ]
  },
  {
   "cell_type": "code",
   "execution_count": 252,
   "metadata": {},
   "outputs": [
    {
     "name": "stdout",
     "output_type": "stream",
     "text": [
      "=== Select element only from \"True\" indexes\n",
      "a= [1 2 3 4 5] b= [ True False  True False  True] c= [1 3 5]\n",
      "=== With input a=\n",
      " [[1 2 3]\n",
      " [4 5 6]]\n",
      "=== Select rows by  [ True False]\n",
      "[[1 2 3]]\n",
      "=== Select columns by  [False  True False]\n",
      "[[2]\n",
      " [5]]\n",
      "=== Select (row,colum) by (b1,b2) \n",
      "[2]\n"
     ]
    }
   ],
   "source": [
    "a = np.array([1,2,3,4,5]);\n",
    "b = np.array([True,False,True,False,True])\n",
    "c = a[b]\n",
    "print('=== Select element only from \"True\" indexes')\n",
    "print('a=', a, 'b=', b, 'c=', c)\n",
    "\n",
    "a = np.array([[1,2,3],[4,5,6]])\n",
    "b1 = np.array([True, False])\n",
    "b2 = np.array([False, True, False])\n",
    "c1 = a[b1,:] # select rows  \n",
    "c2 = a[:,b2] # select columns \n",
    "print('=== With input a=\\n', a)\n",
    "print('=== Select rows by ', b1)\n",
    "print(c1)\n",
    "\n",
    "print('=== Select columns by ', b2)\n",
    "print(c2)\n",
    "\n",
    "print('=== Select (row,colum) by (b1,b2) ')\n",
    "print(a[b1,b2])\n",
    "\n"
   ]
  },
  {
   "cell_type": "markdown",
   "metadata": {},
   "source": [
    "# Combination Arithmetic by ix_() "
   ]
  },
  {
   "cell_type": "code",
   "execution_count": 264,
   "metadata": {},
   "outputs": [
    {
     "name": "stdout",
     "output_type": "stream",
     "text": [
      "(3, 1, 1)\n",
      "(1, 2, 1)\n",
      "(1, 1, 3)\n",
      "[[[401 405 409]\n",
      "  [501 506 511]]\n",
      "\n",
      " [[402 406 410]\n",
      "  [502 507 512]]\n",
      "\n",
      " [[403 407 411]\n",
      "  [503 508 513]]]\n",
      "Each element=  513\n",
      "Matrix result= 513\n"
     ]
    }
   ],
   "source": [
    "a = np.array([1,2,3])\n",
    "b = np.array([4,5])\n",
    "c = np.array([100,101,102])\n",
    "\n",
    "# Comvert to 3D matrixes with 3 inputs \n",
    "ax,bx,cx = np.ix_(a,b,c)\n",
    "print(ax.shape)\n",
    "print(bx.shape)\n",
    "print(cx.shape)\n",
    "\n",
    "# result in all combination \n",
    "result = ax + bx * cx\n",
    "print(result)\n",
    "\n",
    "print( 'Each element= ',a[2] + b[1] * c[2] )\n",
    "print( 'Matrix result=', result[2,1,2] )"
   ]
  }
 ],
 "metadata": {
  "kernelspec": {
   "display_name": "Python 3",
   "language": "python",
   "name": "python3"
  },
  "language_info": {
   "codemirror_mode": {
    "name": "ipython",
    "version": 3
   },
   "file_extension": ".py",
   "mimetype": "text/x-python",
   "name": "python",
   "nbconvert_exporter": "python",
   "pygments_lexer": "ipython3",
   "version": "3.6.3"
  }
 },
 "nbformat": 4,
 "nbformat_minor": 2
}
