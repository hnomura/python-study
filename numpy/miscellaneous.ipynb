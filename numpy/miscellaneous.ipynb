{
 "cells": [
  {
   "cell_type": "markdown",
   "metadata": {},
   "source": [
    "# IEEE 754 Floating Point Special Values  \n",
    "- np.nan, np.isnan(), np.nan_to_num()\n",
    "- np.inf, np.isinf(), np.isfinite()"
   ]
  },
  {
   "cell_type": "code",
   "execution_count": 2,
   "metadata": {
    "collapsed": true
   },
   "outputs": [],
   "source": [
    "import numpy as np"
   ]
  },
  {
   "cell_type": "code",
   "execution_count": 4,
   "metadata": {},
   "outputs": [
    {
     "name": "stdout",
     "output_type": "stream",
     "text": [
      "[  0.   1.   2.  nan   3.]\n"
     ]
    }
   ],
   "source": [
    "a = np.array([0., 1., 2., np.nan, 3])\n",
    "print(a)"
   ]
  },
  {
   "cell_type": "code",
   "execution_count": 12,
   "metadata": {},
   "outputs": [
    {
     "name": "stdout",
     "output_type": "stream",
     "text": [
      "[ True  True  True False  True] [ 0.  1.  2.  3.]\n"
     ]
    }
   ],
   "source": [
    "i = ~np.isnan(a)\n",
    "b = a[i]\n",
    "print(i, b)"
   ]
  },
  {
   "cell_type": "code",
   "execution_count": 19,
   "metadata": {},
   "outputs": [
    {
     "name": "stdout",
     "output_type": "stream",
     "text": [
      "[ 0.  1.  2.  0.  3.]\n"
     ]
    }
   ],
   "source": [
    "b = np.nan_to_num(a)  # NaN -> 0\n",
    "print(b)"
   ]
  },
  {
   "cell_type": "code",
   "execution_count": 22,
   "metadata": {},
   "outputs": [
    {
     "name": "stdout",
     "output_type": "stream",
     "text": [
      "[  1.  inf   2.]\n"
     ]
    }
   ],
   "source": [
    "c = np.array([1.0, np.inf, 2.0])\n",
    "print(c)"
   ]
  },
  {
   "cell_type": "code",
   "execution_count": 24,
   "metadata": {},
   "outputs": [
    {
     "name": "stdout",
     "output_type": "stream",
     "text": [
      "[ 1.  2.]\n"
     ]
    }
   ],
   "source": [
    "i = ~np.isinf(c)\n",
    "d = c[i]\n",
    "print(d)"
   ]
  },
  {
   "cell_type": "markdown",
   "metadata": {},
   "source": [
    "Function to exclude nans from results.   \n",
    "When usuan function, e.g., `sum()` is used with array having NaN inside, result is always NaN. \n",
    "- namsum() \n",
    "- nanmax()\n",
    "- nanmin()\n",
    "- nanargmax()\n",
    "- nanargmin()"
   ]
  },
  {
   "cell_type": "code",
   "execution_count": 31,
   "metadata": {},
   "outputs": [
    {
     "name": "stdout",
     "output_type": "stream",
     "text": [
      "x.sum()= nan\n",
      "np.nansum(x)= 40.0\n"
     ]
    }
   ],
   "source": [
    "x = np.arange(10.)\n",
    "x[5] = np.nan\n",
    "print('x.sum()=', x.sum())\n",
    "print('np.nansum(x)=', np.nansum(x))\n"
   ]
  },
  {
   "cell_type": "markdown",
   "metadata": {},
   "source": [
    "---\n",
    "## Interfacing to C, Fortran, C++\n",
    "*When necessity arises, refer the original reference*  \n",
    "[Scipy.org user manual](https://docs.scipy.org/doc/numpy/user/misc.html)"
   ]
  },
  {
   "cell_type": "markdown",
   "metadata": {},
   "source": [
    "## Marix?   \n",
    "Advantage of matrix is to use `*` operator for tensor multplying.  To array, np.dot (or A.dot(B) must be used. \n",
    "From Python 3.5, `@` can be used for tensor multiplying with array type. "
   ]
  },
  {
   "cell_type": "code",
   "execution_count": 51,
   "metadata": {},
   "outputs": [
    {
     "name": "stdout",
     "output_type": "stream",
     "text": [
      "np.dot(a,b) \n",
      " [[ 100.  200.  300.]\n",
      " [ 400.  500.  600.]\n",
      " [ 700.  800.  900.]] \n",
      "\n",
      "a@b\n",
      " [[ 100.  200.  300.]\n",
      " [ 400.  500.  600.]\n",
      " [ 700.  800.  900.]] \n",
      "\n",
      "a*b\n",
      " [[ 100.    0.    0.]\n",
      " [   0.  500.    0.]\n",
      " [   0.    0.  900.]]\n"
     ]
    }
   ],
   "source": [
    "a = np.arange(9).reshape((3,3))+1\n",
    "b = np.eye(3,3)\n",
    "b *= 100\n",
    "print('np.dot(a,b) \\n', np.dot(a,b), '\\n')\n",
    "print('a@b\\n', a@b, '\\n')\n",
    "print('a*b\\n', a*b)"
   ]
  }
 ],
 "metadata": {
  "kernelspec": {
   "display_name": "Python 3",
   "language": "python",
   "name": "python3"
  },
  "language_info": {
   "codemirror_mode": {
    "name": "ipython",
    "version": 3
   },
   "file_extension": ".py",
   "mimetype": "text/x-python",
   "name": "python",
   "nbconvert_exporter": "python",
   "pygments_lexer": "ipython3",
   "version": "3.6.3"
  }
 },
 "nbformat": 4,
 "nbformat_minor": 2
}
